{
 "cells": [
  {
   "cell_type": "code",
   "execution_count": 8,
   "metadata": {
    "collapsed": true
   },
   "outputs": [],
   "source": [
    "import pandas as pd\n",
    "data1 = pd.read_excel(\"oktober 2020.xlsx\")\n",
    "data2 = pd.read_excel(\"november 2020.xlsx\")\n",
    "data3 = pd.read_excel(\"desember 2020.xlsx\")\n",
    "data4 = pd.read_excel(\"janu 2021.xlsx\")\n",
    "data5 = pd.read_excel(\"feb 2021.xlsx\")\n",
    "data6 = pd.read_excel(\"maret 2021.xlsx\")\n",
    "data7 = pd.read_excel(\"april 2021.xlsx\")\n",
    "data8 = pd.read_excel(\"mei 2021.xlsx\")\n",
    "data9 = pd.read_excel(\"juni 2021.xlsx\")\n",
    "data10 = pd.read_excel(\"juli 2021.xlsx\")\n",
    "data11 = pd.read_excel(\"agustus 2021.xlsx\")\n",
    "data12 = pd.read_excel(\"septem 2021.xlsx\")\n",
    "data13 = pd.read_excel(\"okto 2021.xlsx\")"
   ]
  },
  {
   "cell_type": "code",
   "execution_count": 10,
   "outputs": [],
   "source": [
    "new_data = pd.concat([data1, data2,data3,data4,data5,data6,data7,\n",
    "                      data8,data9,data10,data11,data12,data13],ignore_index=True)"
   ],
   "metadata": {
    "collapsed": false,
    "pycharm": {
     "name": "#%%\n"
    }
   }
  },
  {
   "cell_type": "code",
   "execution_count": 11,
   "outputs": [
    {
     "data": {
      "text/plain": "      Unnamed: 0  position                                               link  \\\n0              0         1  https://kumparan.com/kumparannews/update-coron...   \n1              1         2  https://kumparan.com/kumparannews/kunjungan-pm...   \n2              2         3  https://kumparan.com/tugumalang/hari-santri-na...   \n3              3         4  https://kumparan.com/kumparantech/zomato-indon...   \n4              4         5  https://kumparan.com/kumparannews/terawan-past...   \n...          ...       ...                                                ...   \n1295          95        96  https://kumparan.com/kumparannews/pedulilindun...   \n1296          96        97  https://kumparan.com/kumparanbisnis/sri-mulyan...   \n1297          97        98  https://kumparan.com/kumparannews/merah-putih-...   \n1298          98        99  https://kumparan.com/kumparannews/wamenhan-cov...   \n1299          99       100  https://kumparan.com/berita-terbaru/dorong-tra...   \n\n                                                  title    source  \\\n0     Update Corona RI 29 Oktober: 404.048 Positif, ...  Kumparan   \n1     Kunjungan PM Jepang: di Indonesia Pakai Masker...  Kumparan   \n2     Hari Santri Nasional 2020, Momentum Revolusi K...  Kumparan   \n3     Zomato Indonesia Tutup Akibat Corona, Bagaiman...  Kumparan   \n4     Terawan Pastikan Vaksin Corona Gratis untuk Ma...  Kumparan   \n...                                                 ...       ...   \n1295  PeduliLindungi Tak Bisa Dibaca di Saudi, RI Si...  Kumparan   \n1296  Sri Mulyani Sebut Jaga Stabilitas Keuangan Iba...  Kumparan   \n1297  Merah Putih Tak Berkibar, Anggota Komisi X Seb...  Kumparan   \n1298  Wamenhan: COVID-19 Jadi Ancaman Nonmiliter Mul...  Kumparan   \n1299  Dorong Transformasi Industri Televisi, Menkomi...  Kumparan   \n\n               date                                            snippet  \\\n0       29 Okt 2020  Per Kamis (29/10), Kemenkes melaporkan tambaha...   \n1       20 Okt 2020  Ada yang berbeda saat kunjungan Suga ke Indone...   \n2       22 Okt 2020  Kondisi pandemi COVID-19 yang melanda seluruh ...   \n3       20 Okt 2020  Zomato Indonesia Tutup Akibat Corona, Bagaiman...   \n4       12 Okt 2020  Sejauh ini ada beberapa kandidat vaksin corona...   \n...             ...                                                ...   \n1295  2 minggu lalu  ... dari Arab Saudi kapan penyelenggaraan ibad...   \n1296    5 hari lalu  Hasilnya, sistem keuangan disebut normal diduk...   \n1297  2 minggu lalu  ... negara di dunia memang minim melaksanakan ...   \n1298    5 hari lalu  Wamenhan Letjen TNI M. Herindra mengatakan, mu...   \n1299    4 hari lalu  ... transformasi industri pertelevisian, terle...   \n\n                                              thumbnail  \n0     https://serpapi.com/searches/6181f4110574f5069...  \n1     https://serpapi.com/searches/6181f4110574f5069...  \n2     https://serpapi.com/searches/6181f4110574f5069...  \n3     https://serpapi.com/searches/6181f4110574f5069...  \n4     https://serpapi.com/searches/6181f4110574f5069...  \n...                                                 ...  \n1295  https://serpapi.com/searches/6181f3ae1baebbd18...  \n1296  https://serpapi.com/searches/6181f3ae1baebbd18...  \n1297  https://serpapi.com/searches/6181f3ae1baebbd18...  \n1298  https://serpapi.com/searches/6181f3ae1baebbd18...  \n1299  https://serpapi.com/searches/6181f3ae1baebbd18...  \n\n[1300 rows x 8 columns]",
      "text/html": "<div>\n<style scoped>\n    .dataframe tbody tr th:only-of-type {\n        vertical-align: middle;\n    }\n\n    .dataframe tbody tr th {\n        vertical-align: top;\n    }\n\n    .dataframe thead th {\n        text-align: right;\n    }\n</style>\n<table border=\"1\" class=\"dataframe\">\n  <thead>\n    <tr style=\"text-align: right;\">\n      <th></th>\n      <th>Unnamed: 0</th>\n      <th>position</th>\n      <th>link</th>\n      <th>title</th>\n      <th>source</th>\n      <th>date</th>\n      <th>snippet</th>\n      <th>thumbnail</th>\n    </tr>\n  </thead>\n  <tbody>\n    <tr>\n      <th>0</th>\n      <td>0</td>\n      <td>1</td>\n      <td>https://kumparan.com/kumparannews/update-coron...</td>\n      <td>Update Corona RI 29 Oktober: 404.048 Positif, ...</td>\n      <td>Kumparan</td>\n      <td>29 Okt 2020</td>\n      <td>Per Kamis (29/10), Kemenkes melaporkan tambaha...</td>\n      <td>https://serpapi.com/searches/6181f4110574f5069...</td>\n    </tr>\n    <tr>\n      <th>1</th>\n      <td>1</td>\n      <td>2</td>\n      <td>https://kumparan.com/kumparannews/kunjungan-pm...</td>\n      <td>Kunjungan PM Jepang: di Indonesia Pakai Masker...</td>\n      <td>Kumparan</td>\n      <td>20 Okt 2020</td>\n      <td>Ada yang berbeda saat kunjungan Suga ke Indone...</td>\n      <td>https://serpapi.com/searches/6181f4110574f5069...</td>\n    </tr>\n    <tr>\n      <th>2</th>\n      <td>2</td>\n      <td>3</td>\n      <td>https://kumparan.com/tugumalang/hari-santri-na...</td>\n      <td>Hari Santri Nasional 2020, Momentum Revolusi K...</td>\n      <td>Kumparan</td>\n      <td>22 Okt 2020</td>\n      <td>Kondisi pandemi COVID-19 yang melanda seluruh ...</td>\n      <td>https://serpapi.com/searches/6181f4110574f5069...</td>\n    </tr>\n    <tr>\n      <th>3</th>\n      <td>3</td>\n      <td>4</td>\n      <td>https://kumparan.com/kumparantech/zomato-indon...</td>\n      <td>Zomato Indonesia Tutup Akibat Corona, Bagaiman...</td>\n      <td>Kumparan</td>\n      <td>20 Okt 2020</td>\n      <td>Zomato Indonesia Tutup Akibat Corona, Bagaiman...</td>\n      <td>https://serpapi.com/searches/6181f4110574f5069...</td>\n    </tr>\n    <tr>\n      <th>4</th>\n      <td>4</td>\n      <td>5</td>\n      <td>https://kumparan.com/kumparannews/terawan-past...</td>\n      <td>Terawan Pastikan Vaksin Corona Gratis untuk Ma...</td>\n      <td>Kumparan</td>\n      <td>12 Okt 2020</td>\n      <td>Sejauh ini ada beberapa kandidat vaksin corona...</td>\n      <td>https://serpapi.com/searches/6181f4110574f5069...</td>\n    </tr>\n    <tr>\n      <th>...</th>\n      <td>...</td>\n      <td>...</td>\n      <td>...</td>\n      <td>...</td>\n      <td>...</td>\n      <td>...</td>\n      <td>...</td>\n      <td>...</td>\n    </tr>\n    <tr>\n      <th>1295</th>\n      <td>95</td>\n      <td>96</td>\n      <td>https://kumparan.com/kumparannews/pedulilindun...</td>\n      <td>PeduliLindungi Tak Bisa Dibaca di Saudi, RI Si...</td>\n      <td>Kumparan</td>\n      <td>2 minggu lalu</td>\n      <td>... dari Arab Saudi kapan penyelenggaraan ibad...</td>\n      <td>https://serpapi.com/searches/6181f3ae1baebbd18...</td>\n    </tr>\n    <tr>\n      <th>1296</th>\n      <td>96</td>\n      <td>97</td>\n      <td>https://kumparan.com/kumparanbisnis/sri-mulyan...</td>\n      <td>Sri Mulyani Sebut Jaga Stabilitas Keuangan Iba...</td>\n      <td>Kumparan</td>\n      <td>5 hari lalu</td>\n      <td>Hasilnya, sistem keuangan disebut normal diduk...</td>\n      <td>https://serpapi.com/searches/6181f3ae1baebbd18...</td>\n    </tr>\n    <tr>\n      <th>1297</th>\n      <td>97</td>\n      <td>98</td>\n      <td>https://kumparan.com/kumparannews/merah-putih-...</td>\n      <td>Merah Putih Tak Berkibar, Anggota Komisi X Seb...</td>\n      <td>Kumparan</td>\n      <td>2 minggu lalu</td>\n      <td>... negara di dunia memang minim melaksanakan ...</td>\n      <td>https://serpapi.com/searches/6181f3ae1baebbd18...</td>\n    </tr>\n    <tr>\n      <th>1298</th>\n      <td>98</td>\n      <td>99</td>\n      <td>https://kumparan.com/kumparannews/wamenhan-cov...</td>\n      <td>Wamenhan: COVID-19 Jadi Ancaman Nonmiliter Mul...</td>\n      <td>Kumparan</td>\n      <td>5 hari lalu</td>\n      <td>Wamenhan Letjen TNI M. Herindra mengatakan, mu...</td>\n      <td>https://serpapi.com/searches/6181f3ae1baebbd18...</td>\n    </tr>\n    <tr>\n      <th>1299</th>\n      <td>99</td>\n      <td>100</td>\n      <td>https://kumparan.com/berita-terbaru/dorong-tra...</td>\n      <td>Dorong Transformasi Industri Televisi, Menkomi...</td>\n      <td>Kumparan</td>\n      <td>4 hari lalu</td>\n      <td>... transformasi industri pertelevisian, terle...</td>\n      <td>https://serpapi.com/searches/6181f3ae1baebbd18...</td>\n    </tr>\n  </tbody>\n</table>\n<p>1300 rows × 8 columns</p>\n</div>"
     },
     "execution_count": 11,
     "metadata": {},
     "output_type": "execute_result"
    }
   ],
   "source": [
    "new_data\n"
   ],
   "metadata": {
    "collapsed": false,
    "pycharm": {
     "name": "#%%\n"
    }
   }
  },
  {
   "cell_type": "code",
   "execution_count": 12,
   "outputs": [],
   "source": [
    "new_data.to_excel(\"kumparan belinda.xlsx\")\n"
   ],
   "metadata": {
    "collapsed": false,
    "pycharm": {
     "name": "#%%\n"
    }
   }
  }
 ],
 "metadata": {
  "kernelspec": {
   "display_name": "Python 3",
   "language": "python",
   "name": "python3"
  },
  "language_info": {
   "codemirror_mode": {
    "name": "ipython",
    "version": 2
   },
   "file_extension": ".py",
   "mimetype": "text/x-python",
   "name": "python",
   "nbconvert_exporter": "python",
   "pygments_lexer": "ipython2",
   "version": "2.7.6"
  }
 },
 "nbformat": 4,
 "nbformat_minor": 0
}