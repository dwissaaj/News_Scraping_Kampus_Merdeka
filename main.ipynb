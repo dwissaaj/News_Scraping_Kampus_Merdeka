{
 "cells": [
  {
   "cell_type": "code",
   "execution_count": 2,
   "metadata": {
    "collapsed": true
   },
   "outputs": [
    {
     "data": {
      "text/plain": "   Unnamed: 0  position                                               link  \\\n0           0         1  https://travel.kompas.com/read/2021/10/20/1202...   \n1           1         2  https://travel.kompas.com/read/2021/10/20/1503...   \n2           2         3  https://nasional.tempo.co/read/1519877/pos-blo...   \n3           3         4  https://food.detik.com/pengalaman-bersantap/d-...   \n4           4         5  https://travel.detik.com/domestic-destination/...   \n\n                                               title             source  \\\n0  Wisata ke Pos Bloc Jakarta, Ada Apa Saja? - Ko...      Travel Kompas   \n1  Panduan Berwisata ke Pos Bloc Jakarta, Jangan ...      Travel Kompas   \n2  Pos Bloc Jakarta Dikunjungi Ribuan Orang per Hari  Nasional Tempo.co   \n3  Piknik Seru Makan Nasi Gila hingga Croissant d...         Detik Food   \n4  Tempat Nongkrong di Jakarta Buat Weekend, Yuk ...        detikTravel   \n\n            date                                            snippet  \\\n0  2 minggu lalu  Pos Bloc memiliki dua area luar ruangan yang d...   \n1  2 minggu lalu  Pada saat itu, Pos Bloc sudah ramai wisatawan....   \n2  2 minggu lalu  INFO NASIONAL: Pos Bloc Jakarta menuai animo p...   \n3    3 hari lalu  Paling anyar di Jakarta, Pos Bloc jadi food sp...   \n4    4 hari lalu  Pos Bloc berlokasi di Gedung Filateli, sebuah ...   \n\n                                           thumbnail  \n0  https://serpapi.com/searches/6183657efe41d0fdd...  \n1  https://serpapi.com/searches/6183657efe41d0fdd...  \n2  https://serpapi.com/searches/6183657efe41d0fdd...  \n3  https://serpapi.com/searches/6183657efe41d0fdd...  \n4  https://serpapi.com/searches/6183657efe41d0fdd...  ",
      "text/html": "<div>\n<style scoped>\n    .dataframe tbody tr th:only-of-type {\n        vertical-align: middle;\n    }\n\n    .dataframe tbody tr th {\n        vertical-align: top;\n    }\n\n    .dataframe thead th {\n        text-align: right;\n    }\n</style>\n<table border=\"1\" class=\"dataframe\">\n  <thead>\n    <tr style=\"text-align: right;\">\n      <th></th>\n      <th>Unnamed: 0</th>\n      <th>position</th>\n      <th>link</th>\n      <th>title</th>\n      <th>source</th>\n      <th>date</th>\n      <th>snippet</th>\n      <th>thumbnail</th>\n    </tr>\n  </thead>\n  <tbody>\n    <tr>\n      <th>0</th>\n      <td>0</td>\n      <td>1</td>\n      <td>https://travel.kompas.com/read/2021/10/20/1202...</td>\n      <td>Wisata ke Pos Bloc Jakarta, Ada Apa Saja? - Ko...</td>\n      <td>Travel Kompas</td>\n      <td>2 minggu lalu</td>\n      <td>Pos Bloc memiliki dua area luar ruangan yang d...</td>\n      <td>https://serpapi.com/searches/6183657efe41d0fdd...</td>\n    </tr>\n    <tr>\n      <th>1</th>\n      <td>1</td>\n      <td>2</td>\n      <td>https://travel.kompas.com/read/2021/10/20/1503...</td>\n      <td>Panduan Berwisata ke Pos Bloc Jakarta, Jangan ...</td>\n      <td>Travel Kompas</td>\n      <td>2 minggu lalu</td>\n      <td>Pada saat itu, Pos Bloc sudah ramai wisatawan....</td>\n      <td>https://serpapi.com/searches/6183657efe41d0fdd...</td>\n    </tr>\n    <tr>\n      <th>2</th>\n      <td>2</td>\n      <td>3</td>\n      <td>https://nasional.tempo.co/read/1519877/pos-blo...</td>\n      <td>Pos Bloc Jakarta Dikunjungi Ribuan Orang per Hari</td>\n      <td>Nasional Tempo.co</td>\n      <td>2 minggu lalu</td>\n      <td>INFO NASIONAL: Pos Bloc Jakarta menuai animo p...</td>\n      <td>https://serpapi.com/searches/6183657efe41d0fdd...</td>\n    </tr>\n    <tr>\n      <th>3</th>\n      <td>3</td>\n      <td>4</td>\n      <td>https://food.detik.com/pengalaman-bersantap/d-...</td>\n      <td>Piknik Seru Makan Nasi Gila hingga Croissant d...</td>\n      <td>Detik Food</td>\n      <td>3 hari lalu</td>\n      <td>Paling anyar di Jakarta, Pos Bloc jadi food sp...</td>\n      <td>https://serpapi.com/searches/6183657efe41d0fdd...</td>\n    </tr>\n    <tr>\n      <th>4</th>\n      <td>4</td>\n      <td>5</td>\n      <td>https://travel.detik.com/domestic-destination/...</td>\n      <td>Tempat Nongkrong di Jakarta Buat Weekend, Yuk ...</td>\n      <td>detikTravel</td>\n      <td>4 hari lalu</td>\n      <td>Pos Bloc berlokasi di Gedung Filateli, sebuah ...</td>\n      <td>https://serpapi.com/searches/6183657efe41d0fdd...</td>\n    </tr>\n  </tbody>\n</table>\n</div>"
     },
     "execution_count": 2,
     "metadata": {},
     "output_type": "execute_result"
    }
   ],
   "source": [
    "import pandas as pd\n",
    "import newspaper\n",
    "from newspaper import Article\n",
    "df = pd.read_excel('oktober pos bloc.xlsx')\n",
    "df.head()"
   ]
  },
  {
   "cell_type": "code",
   "execution_count": 3,
   "outputs": [
    {
     "data": {
      "text/plain": "['https://travel.kompas.com/read/2021/10/20/120200327/wisata-ke-pos-bloc-jakarta-ada-apa-saja-?page=all',\n 'https://travel.kompas.com/read/2021/10/20/150300727/panduan-berwisata-ke-pos-bloc-jakarta-jangan-datang-sore?page=all',\n 'https://nasional.tempo.co/read/1519877/pos-bloc-jakarta-dikunjungi-ribuan-orang-per-hari',\n 'https://food.detik.com/pengalaman-bersantap/d-5789784/piknik-seru-makan-nasi-gila-hingga-croissant-di-pos-bloc-jakarta',\n 'https://travel.detik.com/domestic-destination/d-5789208/tempat-nongkrong-di-jakarta-buat-weekend-yuk-ke-pos-bloc',\n 'https://www.liputan6.com/lifestyle/read/4693709/video-pos-bloc-kantor-pos-bersejarah-yang-jadi-ruang-kreatif-publik',\n 'https://food.detik.com/info-kuliner/d-5783042/pos-bloc-hingga-pantjoran-pik-5-food-park-yang-nyaman-buat-nongkrong',\n 'https://www.medcom.id/ekonomi/bisnis/VNxgRxBK-gaet-milenial-pos-indonesia-optimalkan-pospay-dan-pos-bloc',\n 'https://www.medcom.id/ekonomi/bisnis/JKRWM9pN-pos-bloc-jakarta-dikunjungi-ribuan-orang-per-hari',\n 'https://www.wartaekonomi.co.id/read368952/ini-alasan-pos-indonesia-sulap-gedung-filateli-jadi-pos-bloc',\n 'https://food.detik.com/video/211031027/jajan-sambil-hangout-asyik-di-pos-bloc-ada-apa-saja-sih',\n 'https://food.detik.com/info-kuliner/d-5782200/makan-dan-nongkrong-di-tempat-terbuka-jadi-populer-saat-pandemi',\n 'https://food.detik.com/info-kuliner/d-5779375/5-tempat-makan-murah-kekinian-untuk-pacaran-biar-tak-pusing-split-bill',\n 'https://jakartaglobe.id/lifestyle/love-not-fear-da-de-los-muertos-in-jakarta',\n 'https://food.detik.com/foto-kuliner/d-5787374/keren-dan-lucu-kafe-picknick-yuk-nona-manis-punya-prilly-latuconsina',\n 'https://www.medcom.id/hiburan/musik/3NO9jMWk-jnm-bloc-dibuka-diharapkan-jadi-melting-pot-insan-kreatif-yogyakarta',\n 'https://www.suara.com/entertainment/2021/11/01/112743/ammar-zoni-diet-usai-tubuhnya-kena-body-shaming-netizen',\n 'https://www.kompas.tv/article/226330/sumpah-pemuda-ke-93-pos-indonesia-dorong-penguatan-talenta-muda-digital',\n 'https://www.suara.com/entertainment/2021/10/29/191804/baru-setahun-anak-ammar-zoni-dan-irish-bella-sudah-dikontrak-4-produk',\n 'https://www.antaranews.com/berita/2493989/sovlo-gaet-ilustrator-lokal-bawa-semangat-positif-pada-produk-fesyen',\n 'https://foto.tempo.co/read/92683/ammar-zoni-irish-bella-galang-dana-untuk-bantu-desa-adat-nggela',\n 'https://www.idntimes.com/hype/entertainment/gregorius-amadeo-1/iwf-2021-wendi-putranto-harap-media-musik-bangun-kepercayaan-pembaca',\n 'https://www.tribunnews.com/seleb/2021/10/22/konser-48-tahun-god-bless-sukses-digelar-promotor-kantongi-kartu-biru-dari-bnpb',\n 'https://finance.detik.com/foto-bisnis/d-5786666/menteri-bumn-erick-tohir-hadiri-peresmian-toko-di-jakarta',\n 'https://pingpoint.co.id/berita/taman-surga-di-kebun-bunga-hortensia/',\n 'https://pingpoint.co.id/berita/belajar-masa-kemerdekaan-indonesia-di-museum-brawijaya-malang/',\n 'https://blockonomi.com/ethereum-2-0-moves-closer/',\n 'https://pingpoint.co.id/berita/car-free-day-akan-diadakan-minggu-depan-di-kota-surabaya/',\n 'https://pingpoint.co.id/berita/wow-belasan-rw-di-kota-tangerang-raih-penghargaan-proklim-nasional-2021/',\n 'https://pingpoint.co.id/berita/3-hari-saja-pekan-ini-pemkot-tangerang-gelar-uji-emisi-gratis/',\n 'https://mancode.id/berita/sovlo-brand-lokal-baru-gaya-cakep/',\n 'https://indonews.id/artikel/321308/Kadin-Indonesia-Dukung-Kemandirian-Mama-Mama-Pengrajin-Tenun-Nggela-NTT/',\n 'https://www.jawapos.com/nasional/pendidikan/22/10/2021/kemendikbudristek-gelar-pameran-tokoh-pers-sambut-hari-sumpah-pemuda/',\n 'https://www.idntimes.com/men/attitude/wahyu-kurniawan-19/konser-48-tahun-god-bless-kembali-tayang',\n 'https://blockonomi.com/ethereum-2-altair-live/',\n 'https://blockonomi.com/open-defi/',\n 'https://www.cointribune.com/guides-crypto/bien-debuter/quest-ce-quun-block-reward/',\n 'https://ca.movies.yahoo.com/power-five-avalanche-golden-knights-194800081.html',\n 'https://expresso.pt/politica/2021-10-28-Rangel-quer-eleicoes-em-final-de-fevereiro-e-sugere-que-Rui-Rio-podera-permitir-um-bloco-central-com-o-PS-f09d9f3d',\n 'https://www.miroir-mag.fr/fintech/ethereum-eth-avis-achat-prediction-prix-tout-ce-que-vous-devez-savoir-avant-dinvestir/',\n 'https://www.presse-citron.net/crypto/acheter/solana/',\n 'https://coimbradiario.com/2021/10/31/barreira-de-ruido-de-metal-mercado-compartilhar-2021-global-industria-tamanho-crescimento-segments-receita-manufacturers-e-2026-previsao-pesquisa-relatorio/',\n 'https://www.miroir-mag.fr/fintech/investir-dans-cardano-ada-avis-prix-tout-ce-que-vous-devez-savoir-avant-dacheter/',\n 'https://www.miroir-mag.fr/trading-2/acheter-du-bitcoin-ou-lethereum-faut-il-investir-sur-le-btc-ou-leth/',\n 'https://www.hotnews.ro/stiri-administratie_locala-25134736-studiu-caz-bucuresti-inghetam-case-alte-orase-cald-bine-cum-reabilitat-iasiul-oradea-botosaniul-sistemele-termoficare-bani-europeni.htm',\n 'https://coimbradiario.com/2021/10/28/barreira-de-ruido-do-tipo-absorvente-mercado-2021-tamanho-da-industria-demandaa-participacao-tendencia-global-crescimento-dos-negocios-atualizacao-dos-principais-participantes-estatisticas-de-ne/']"
     },
     "execution_count": 3,
     "metadata": {},
     "output_type": "execute_result"
    }
   ],
   "source": [
    "urls = df['link'].to_list()\n",
    "urls"
   ],
   "metadata": {
    "collapsed": false,
    "pycharm": {
     "name": "#%%\n"
    }
   }
  },
  {
   "cell_type": "code",
   "execution_count": 4,
   "outputs": [
    {
     "name": "stdout",
     "output_type": "stream",
     "text": [
      "Article `download()` failed with HTTPSConnectionPool(host='www.wartaekonomi.co.id', port=443): Read timed out. (read timeout=7) on URL https://www.wartaekonomi.co.id/read368952/ini-alasan-pos-indonesia-sulap-gedung-filateli-jadi-pos-bloc\n"
     ]
    }
   ],
   "source": [
    "data = []\n",
    "for url in urls:\n",
    "    try:\n",
    "        a = Article(url, language='id')\n",
    "        a.download()\n",
    "        a.parse()\n",
    "\n",
    "    except newspaper.ArticleException as e:\n",
    "        print(e)\n",
    "\n",
    "    else:\n",
    "        author = a.authors\n",
    "        dates = a.publish_date\n",
    "        add_data = a.additional_data\n",
    "        text = a.text\n",
    "        tag = a.tags\n",
    "        title = a.title\n",
    "        keywords = a.keywords\n",
    "\n",
    "\n",
    "        new_df = pd.DataFrame({'penulis':[author],'tanggal':[dates],'additional':[add_data],'berita':[text],'tags':[tag],'judul':[title],'kata':[keywords]})\n",
    "        data.append(new_df)\n",
    "\n",
    "df = pd.concat(data)\n",
    "\n"
   ],
   "metadata": {
    "collapsed": false,
    "pycharm": {
     "name": "#%%\n"
    }
   }
  },
  {
   "cell_type": "code",
   "execution_count": 5,
   "outputs": [
    {
     "data": {
      "text/plain": "                                             penulis  \\\n0  [Kompas Cyber Media, Nabilla Ramadhian, Kompas...   \n0  [Kompas Cyber Media, Nabilla Ramadhian, Kompas...   \n0                                             [Oleh]   \n0  [Sonia Basoni, Https, Www.Facebook.Com Detikfo...   \n0  [Tim Detikcom, Https, Www.Facebook.Com Detiktr...   \n\n                     tanggal additional  \\\n0        2021-10-20 00:00:00         {}   \n0        2021-10-20 00:00:00         {}   \n0  2021-10-22 10:20:00+07:00         {}   \n0        2021-10-31 16:00:00         {}   \n0        2021-10-30 12:41:19         {}   \n\n                                              berita  \\\n0  KOMPAS.com – Pos Bloc Jakarta, spot wisata dan...   \n0  KOMPAS.com – Salah satu tempat wisata dan kuli...   \n0  INFO NASIONAL: Pos Bloc Jakarta menuai animo p...   \n0  Paling anyar di Jakarta, Pos Bloc jadi food sp...   \n0  Weekend ini bingung mau nongkrong di mana? Tem...   \n\n                                                tags  \\\n0  {Pos Bloc buka, #Syarat perjalanan udara, pos ...   \n0  {Pos Bloc buka, pos bloc buka, syarat kunjunga...   \n0  {Pos Indonesia, Usaha Kecil dan Menengah (UKM)...   \n0  {piknik di pos bloc jakarta, nasi gila, food s...   \n0  {tempat nongkrong di jakarta, wisata sejarah, ...   \n\n                                               judul kata  \n0  Wisata ke Pos Bloc Jakarta, Ada Apa Saja? Hala...   []  \n0  Panduan Berwisata ke Pos Bloc Jakarta, Jangan ...   []  \n0  Pos Bloc Jakarta Dikunjungi Ribuan Orang per Hari   []  \n0  Piknik Seru Makan Nasi Gila hingga Croissant d...   []  \n0  Tempat Nongkrong di Jakarta Buat Weekend, Yuk ...   []  ",
      "text/html": "<div>\n<style scoped>\n    .dataframe tbody tr th:only-of-type {\n        vertical-align: middle;\n    }\n\n    .dataframe tbody tr th {\n        vertical-align: top;\n    }\n\n    .dataframe thead th {\n        text-align: right;\n    }\n</style>\n<table border=\"1\" class=\"dataframe\">\n  <thead>\n    <tr style=\"text-align: right;\">\n      <th></th>\n      <th>penulis</th>\n      <th>tanggal</th>\n      <th>additional</th>\n      <th>berita</th>\n      <th>tags</th>\n      <th>judul</th>\n      <th>kata</th>\n    </tr>\n  </thead>\n  <tbody>\n    <tr>\n      <th>0</th>\n      <td>[Kompas Cyber Media, Nabilla Ramadhian, Kompas...</td>\n      <td>2021-10-20 00:00:00</td>\n      <td>{}</td>\n      <td>KOMPAS.com – Pos Bloc Jakarta, spot wisata dan...</td>\n      <td>{Pos Bloc buka, #Syarat perjalanan udara, pos ...</td>\n      <td>Wisata ke Pos Bloc Jakarta, Ada Apa Saja? Hala...</td>\n      <td>[]</td>\n    </tr>\n    <tr>\n      <th>0</th>\n      <td>[Kompas Cyber Media, Nabilla Ramadhian, Kompas...</td>\n      <td>2021-10-20 00:00:00</td>\n      <td>{}</td>\n      <td>KOMPAS.com – Salah satu tempat wisata dan kuli...</td>\n      <td>{Pos Bloc buka, pos bloc buka, syarat kunjunga...</td>\n      <td>Panduan Berwisata ke Pos Bloc Jakarta, Jangan ...</td>\n      <td>[]</td>\n    </tr>\n    <tr>\n      <th>0</th>\n      <td>[Oleh]</td>\n      <td>2021-10-22 10:20:00+07:00</td>\n      <td>{}</td>\n      <td>INFO NASIONAL: Pos Bloc Jakarta menuai animo p...</td>\n      <td>{Pos Indonesia, Usaha Kecil dan Menengah (UKM)...</td>\n      <td>Pos Bloc Jakarta Dikunjungi Ribuan Orang per Hari</td>\n      <td>[]</td>\n    </tr>\n    <tr>\n      <th>0</th>\n      <td>[Sonia Basoni, Https, Www.Facebook.Com Detikfo...</td>\n      <td>2021-10-31 16:00:00</td>\n      <td>{}</td>\n      <td>Paling anyar di Jakarta, Pos Bloc jadi food sp...</td>\n      <td>{piknik di pos bloc jakarta, nasi gila, food s...</td>\n      <td>Piknik Seru Makan Nasi Gila hingga Croissant d...</td>\n      <td>[]</td>\n    </tr>\n    <tr>\n      <th>0</th>\n      <td>[Tim Detikcom, Https, Www.Facebook.Com Detiktr...</td>\n      <td>2021-10-30 12:41:19</td>\n      <td>{}</td>\n      <td>Weekend ini bingung mau nongkrong di mana? Tem...</td>\n      <td>{tempat nongkrong di jakarta, wisata sejarah, ...</td>\n      <td>Tempat Nongkrong di Jakarta Buat Weekend, Yuk ...</td>\n      <td>[]</td>\n    </tr>\n  </tbody>\n</table>\n</div>"
     },
     "execution_count": 5,
     "metadata": {},
     "output_type": "execute_result"
    }
   ],
   "source": [
    "import numpy as np\n",
    "df = df.replace(to_replace='None', value=np.nan).dropna()\n",
    "df.head()"
   ],
   "metadata": {
    "collapsed": false,
    "pycharm": {
     "name": "#%%\n"
    }
   }
  },
  {
   "cell_type": "code",
   "execution_count": 6,
   "outputs": [],
   "source": [
    "old_dates = df['tanggal']\n",
    "df['tanggal'] = df['tanggal'].apply(lambda a: pd.to_datetime(a).date())"
   ],
   "metadata": {
    "collapsed": false,
    "pycharm": {
     "name": "#%%\n"
    }
   }
  },
  {
   "cell_type": "code",
   "execution_count": 7,
   "outputs": [],
   "source": [
    "df.to_excel(\"berita sampe 31 pos bloc.xlsx\")\n"
   ],
   "metadata": {
    "collapsed": false,
    "pycharm": {
     "name": "#%%\n"
    }
   }
  }
 ],
 "metadata": {
  "kernelspec": {
   "name": "python3",
   "language": "python",
   "display_name": "Python 3 (ipykernel)"
  },
  "language_info": {
   "codemirror_mode": {
    "name": "ipython",
    "version": 2
   },
   "file_extension": ".py",
   "mimetype": "text/x-python",
   "name": "python",
   "nbconvert_exporter": "python",
   "pygments_lexer": "ipython2",
   "version": "2.7.6"
  }
 },
 "nbformat": 4,
 "nbformat_minor": 0
}