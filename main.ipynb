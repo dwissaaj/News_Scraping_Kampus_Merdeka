{
 "cells": [
  {
   "cell_type": "code",
   "execution_count": 98,
   "metadata": {
    "collapsed": true
   },
   "outputs": [],
   "source": [
    "import pandas as pd\n",
    "import newspaper\n",
    "from newspaper import Article\n",
    "df = pd.read_excel('link republika.xlsx')\n",
    "urls = df['data'].to_list()"
   ]
  },
  {
   "cell_type": "code",
   "execution_count": 99,
   "outputs": [
    {
     "data": {
      "text/plain": "                                                data\n0  https://www.republika.co.id/berita/r0lw6h349/p...\n1  https://www.republika.co.id/berita/r0cdeo335/p...\n2  https://www.republika.co.id/berita/r06mes423/k...\n3  https://www.republika.co.id/berita/qzzepx349/p...\n4  https://www.republika.co.id/berita/qztzt0383/p...",
      "text/html": "<div>\n<style scoped>\n    .dataframe tbody tr th:only-of-type {\n        vertical-align: middle;\n    }\n\n    .dataframe tbody tr th {\n        vertical-align: top;\n    }\n\n    .dataframe thead th {\n        text-align: right;\n    }\n</style>\n<table border=\"1\" class=\"dataframe\">\n  <thead>\n    <tr style=\"text-align: right;\">\n      <th></th>\n      <th>data</th>\n    </tr>\n  </thead>\n  <tbody>\n    <tr>\n      <th>0</th>\n      <td>https://www.republika.co.id/berita/r0lw6h349/p...</td>\n    </tr>\n    <tr>\n      <th>1</th>\n      <td>https://www.republika.co.id/berita/r0cdeo335/p...</td>\n    </tr>\n    <tr>\n      <th>2</th>\n      <td>https://www.republika.co.id/berita/r06mes423/k...</td>\n    </tr>\n    <tr>\n      <th>3</th>\n      <td>https://www.republika.co.id/berita/qzzepx349/p...</td>\n    </tr>\n    <tr>\n      <th>4</th>\n      <td>https://www.republika.co.id/berita/qztzt0383/p...</td>\n    </tr>\n  </tbody>\n</table>\n</div>"
     },
     "execution_count": 99,
     "metadata": {},
     "output_type": "execute_result"
    }
   ],
   "source": [
    "df.head()"
   ],
   "metadata": {
    "collapsed": false,
    "pycharm": {
     "name": "#%%\n"
    }
   }
  },
  {
   "cell_type": "code",
   "execution_count": 102,
   "outputs": [],
   "source": [
    "data = []\n",
    "for url in urls:\n",
    "    try:\n",
    "        a = Article(url, language='id')\n",
    "        a.download()\n",
    "        a.parse()\n",
    "\n",
    "    except newspaper.ArticleException as e:\n",
    "        print(e)\n",
    "\n",
    "    else:\n",
    "        author = a.authors\n",
    "        dates = a.publish_date\n",
    "        add_data = a.additional_data\n",
    "        text = a.text\n",
    "        tag = a.tags\n",
    "        title = a.title\n",
    "        keywords = a.keywords\n",
    "\n",
    "\n",
    "        new_df = pd.DataFrame({'penulis':[author],'tanggal':[dates],'additional':[add_data],'berita':[text],'tags':[tag],'judul':[title],'kata':[keywords]})\n",
    "        data.append(new_df)\n",
    "\n",
    "df = pd.concat(data)\n",
    "\n"
   ],
   "metadata": {
    "collapsed": false,
    "pycharm": {
     "name": "#%%\n"
    }
   }
  },
  {
   "cell_type": "code",
   "execution_count": 103,
   "outputs": [
    {
     "data": {
      "text/plain": "   penulis                   tanggal additional  \\\n0       [] 2021-10-07 19:03:53+07:00         {}   \n0       [] 2021-10-03 05:05:00+07:00         {}   \n0       [] 2021-09-29 13:13:00+07:00         {}   \n0       [] 2021-09-25 15:39:33+07:00         {}   \n0       [] 2021-09-22 17:29:24+07:00         {}   \n..     ...                       ...        ...   \n0       [] 2020-11-06 21:39:56+07:00         {}   \n0       [] 2020-11-05 12:06:05+07:00         {}   \n0       [] 2020-10-28 10:48:50+07:00         {}   \n0       [] 2020-10-13 20:08:28+07:00         {}   \n0       [] 2020-10-01 14:48:40+07:00         {}   \n\n                                               berita  \\\n0   Tata kelola dan penerapan manajemen risiko bag...   \n0   Santripreneur bisa bergabung menjadi Agen Pos ...   \n0   Kerja sama Motionbanking-Pos Indonesia akan me...   \n0   Pos Indonesia menyebut pendistribusian BST dit...   \n0   Saat ini Pos Indonesia menyediakan pelayanan s...   \n..                                                ...   \n0   Pos Indonesia berinovasi layanan Quick Interna...   \n0   Permintaan jasa pengiriman barang saat pandemi...   \n0   Pos Indonesia ingin beri pelayanan maksimal ke...   \n0   Sidang Senat Terbuka dan karakter building mah...   \n0   BUMN Brand Award merupakan apresiasi kepada BU...   \n\n                                                 tags  \\\n0   {TOP GRC Awards 2021, faizal rochmad djoemadi,...   \n0   {Santripreneur indonesia, pos indonesia, bisni...   \n0   {motionbanking, pos inodnesia mnc, pos indones...   \n0   {keluarga penerima manfaat, kemensos, pulau te...   \n0   {pospay, ekonomi syariah, layanan syariah pos ...   \n..                                                ...   \n0                      {pos indonesia, swa, Qix, qix}   \n0   {layanan kurir luar negeri, pos indonesia, bis...   \n0   {layanan pos indonesia, layanan Pos Indonesia,...   \n0   {pos indonesia, penerimaan mahasiswa baru (PMB...   \n0   {penghargaan pos indonesia, bumn brand award, ...   \n\n                                                judul kata  \n0   Pos Indonesia Raih Empat Penghargaan TOP GRC A...   []  \n0       Pos Indonesia Gandeng Santripreneur Indonesia   []  \n0   Kembangkan Layanan Setor Tunai, PT Pos Indones...   []  \n0      Pos Indonesia Kejar Target Pendistribusian BST   []  \n0   Pos Indonesia Perluas Kolaborasi Sektor Ekonom...   []  \n..                                                ...  ...  \n0             Layanan Kiriman Qix PT Pos ke 18 Negara   []  \n0   Pos Indonesia Luncurkan Layanan Bisnis Kurir L...   []  \n0          Kantor Pos Tetap Buka Selama Libur Panjang   []  \n0               Poltekpos Kukuhkan 651 Mahasiswa Baru   []  \n0   Pos Indonesia Raih Penghargaan BUMN Brand Awar...   []  \n\n[73 rows x 7 columns]",
      "text/html": "<div>\n<style scoped>\n    .dataframe tbody tr th:only-of-type {\n        vertical-align: middle;\n    }\n\n    .dataframe tbody tr th {\n        vertical-align: top;\n    }\n\n    .dataframe thead th {\n        text-align: right;\n    }\n</style>\n<table border=\"1\" class=\"dataframe\">\n  <thead>\n    <tr style=\"text-align: right;\">\n      <th></th>\n      <th>penulis</th>\n      <th>tanggal</th>\n      <th>additional</th>\n      <th>berita</th>\n      <th>tags</th>\n      <th>judul</th>\n      <th>kata</th>\n    </tr>\n  </thead>\n  <tbody>\n    <tr>\n      <th>0</th>\n      <td>[]</td>\n      <td>2021-10-07 19:03:53+07:00</td>\n      <td>{}</td>\n      <td>Tata kelola dan penerapan manajemen risiko bag...</td>\n      <td>{TOP GRC Awards 2021, faizal rochmad djoemadi,...</td>\n      <td>Pos Indonesia Raih Empat Penghargaan TOP GRC A...</td>\n      <td>[]</td>\n    </tr>\n    <tr>\n      <th>0</th>\n      <td>[]</td>\n      <td>2021-10-03 05:05:00+07:00</td>\n      <td>{}</td>\n      <td>Santripreneur bisa bergabung menjadi Agen Pos ...</td>\n      <td>{Santripreneur indonesia, pos indonesia, bisni...</td>\n      <td>Pos Indonesia Gandeng Santripreneur Indonesia</td>\n      <td>[]</td>\n    </tr>\n    <tr>\n      <th>0</th>\n      <td>[]</td>\n      <td>2021-09-29 13:13:00+07:00</td>\n      <td>{}</td>\n      <td>Kerja sama Motionbanking-Pos Indonesia akan me...</td>\n      <td>{motionbanking, pos inodnesia mnc, pos indones...</td>\n      <td>Kembangkan Layanan Setor Tunai, PT Pos Indones...</td>\n      <td>[]</td>\n    </tr>\n    <tr>\n      <th>0</th>\n      <td>[]</td>\n      <td>2021-09-25 15:39:33+07:00</td>\n      <td>{}</td>\n      <td>Pos Indonesia menyebut pendistribusian BST dit...</td>\n      <td>{keluarga penerima manfaat, kemensos, pulau te...</td>\n      <td>Pos Indonesia Kejar Target Pendistribusian BST</td>\n      <td>[]</td>\n    </tr>\n    <tr>\n      <th>0</th>\n      <td>[]</td>\n      <td>2021-09-22 17:29:24+07:00</td>\n      <td>{}</td>\n      <td>Saat ini Pos Indonesia menyediakan pelayanan s...</td>\n      <td>{pospay, ekonomi syariah, layanan syariah pos ...</td>\n      <td>Pos Indonesia Perluas Kolaborasi Sektor Ekonom...</td>\n      <td>[]</td>\n    </tr>\n    <tr>\n      <th>...</th>\n      <td>...</td>\n      <td>...</td>\n      <td>...</td>\n      <td>...</td>\n      <td>...</td>\n      <td>...</td>\n      <td>...</td>\n    </tr>\n    <tr>\n      <th>0</th>\n      <td>[]</td>\n      <td>2020-11-06 21:39:56+07:00</td>\n      <td>{}</td>\n      <td>Pos Indonesia berinovasi layanan Quick Interna...</td>\n      <td>{pos indonesia, swa, Qix, qix}</td>\n      <td>Layanan Kiriman Qix PT Pos ke 18 Negara</td>\n      <td>[]</td>\n    </tr>\n    <tr>\n      <th>0</th>\n      <td>[]</td>\n      <td>2020-11-05 12:06:05+07:00</td>\n      <td>{}</td>\n      <td>Permintaan jasa pengiriman barang saat pandemi...</td>\n      <td>{layanan kurir luar negeri, pos indonesia, bis...</td>\n      <td>Pos Indonesia Luncurkan Layanan Bisnis Kurir L...</td>\n      <td>[]</td>\n    </tr>\n    <tr>\n      <th>0</th>\n      <td>[]</td>\n      <td>2020-10-28 10:48:50+07:00</td>\n      <td>{}</td>\n      <td>Pos Indonesia ingin beri pelayanan maksimal ke...</td>\n      <td>{layanan pos indonesia, layanan Pos Indonesia,...</td>\n      <td>Kantor Pos Tetap Buka Selama Libur Panjang</td>\n      <td>[]</td>\n    </tr>\n    <tr>\n      <th>0</th>\n      <td>[]</td>\n      <td>2020-10-13 20:08:28+07:00</td>\n      <td>{}</td>\n      <td>Sidang Senat Terbuka dan karakter building mah...</td>\n      <td>{pos indonesia, penerimaan mahasiswa baru (PMB...</td>\n      <td>Poltekpos Kukuhkan 651 Mahasiswa Baru</td>\n      <td>[]</td>\n    </tr>\n    <tr>\n      <th>0</th>\n      <td>[]</td>\n      <td>2020-10-01 14:48:40+07:00</td>\n      <td>{}</td>\n      <td>BUMN Brand Award merupakan apresiasi kepada BU...</td>\n      <td>{penghargaan pos indonesia, bumn brand award, ...</td>\n      <td>Pos Indonesia Raih Penghargaan BUMN Brand Awar...</td>\n      <td>[]</td>\n    </tr>\n  </tbody>\n</table>\n<p>73 rows × 7 columns</p>\n</div>"
     },
     "execution_count": 103,
     "metadata": {},
     "output_type": "execute_result"
    }
   ],
   "source": [
    "df"
   ],
   "metadata": {
    "collapsed": false,
    "pycharm": {
     "name": "#%%\n"
    }
   }
  },
  {
   "cell_type": "code",
   "execution_count": 104,
   "outputs": [],
   "source": [
    "old_dates = df['tanggal']\n",
    "df['tanggal'] = df['tanggal'].apply(lambda a: pd.to_datetime(a).date())"
   ],
   "metadata": {
    "collapsed": false,
    "pycharm": {
     "name": "#%%\n"
    }
   }
  },
  {
   "cell_type": "code",
   "execution_count": 105,
   "outputs": [],
   "source": [
    "df.to_excel(\"berita republika2.xlsx\")\n"
   ],
   "metadata": {
    "collapsed": false,
    "pycharm": {
     "name": "#%%\n"
    }
   }
  }
 ],
 "metadata": {
  "kernelspec": {
   "display_name": "Python 3",
   "language": "python",
   "name": "python3"
  },
  "language_info": {
   "codemirror_mode": {
    "name": "ipython",
    "version": 2
   },
   "file_extension": ".py",
   "mimetype": "text/x-python",
   "name": "python",
   "nbconvert_exporter": "python",
   "pygments_lexer": "ipython2",
   "version": "2.7.6"
  }
 },
 "nbformat": 4,
 "nbformat_minor": 0
}