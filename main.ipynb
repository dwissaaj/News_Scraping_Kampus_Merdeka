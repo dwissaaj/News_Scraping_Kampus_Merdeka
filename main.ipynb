{
 "cells": [
  {
   "cell_type": "code",
   "execution_count": 2,
   "metadata": {
    "collapsed": true
   },
   "outputs": [],
   "source": [
    "import pandas as pd\n",
    "import newspaper\n",
    "from newspaper import Article\n",
    "df = pd.read_csv('Link Berita.csv')\n",
    "urls = df['data'].to_list()\n",
    "\n"
   ]
  },
  {
   "cell_type": "code",
   "execution_count": 3,
   "outputs": [],
   "source": [
    "data = []\n",
    "for url in urls:\n",
    "    try:\n",
    "        a = Article(url, language='id')\n",
    "        a.download()\n",
    "        a.parse()\n",
    "\n",
    "    except newspaper.ArticleException as e:\n",
    "        print(e)\n",
    "\n",
    "    else:\n",
    "        author = a.authors\n",
    "        dates = a.publish_date\n",
    "        add_data = a.additional_data\n",
    "        text = a.text\n",
    "        tag = a.tags\n",
    "        title = a.title\n",
    "        keywords = a.keywords\n",
    "\n",
    "\n",
    "        new_df = pd.DataFrame({'penulis':[author],'tanggal':[dates],'additional':[add_data],'berita':[text],'tags':[tag],'judul':[title],'kata':[keywords]})\n",
    "        data.append(new_df)\n",
    "\n",
    "df = pd.concat(data)\n",
    "\n"
   ],
   "metadata": {
    "collapsed": false,
    "pycharm": {
     "name": "#%%\n"
    }
   }
  },
  {
   "cell_type": "code",
   "execution_count": 4,
   "outputs": [
    {
     "data": {
      "text/plain": "                              penulis                   tanggal additional  \\\n0                               [Sep] 2021-09-13 13:09:53+07:00         {}   \n0                 [Nofie Tessar, Okt] 2020-10-16 19:57:45+07:00         {}   \n0                               [Nov] 2020-11-05 20:05:50+07:00         {}   \n0                 [Adyaksa Vidi, Des] 2020-12-22 07:00:12+07:00         {}   \n0                               [Jan] 2021-01-05 13:59:02+07:00         {}   \n0            [Cakrayuri Nuralam, Jan] 2021-01-18 18:00:08+07:00         {}   \n0             [Andina Librianty, Mar] 2021-03-05 15:50:12+07:00         {}   \n0  [Muhammad Radityo Priyasmoro, Mar] 2021-03-17 14:25:24+07:00         {}   \n0                 [Athika Rahma, Mar] 2021-03-19 13:15:46+07:00         {}   \n0                               [Mar] 2021-03-29 09:30:27+07:00         {}   \n0                               [Apr] 2021-04-01 22:44:21+07:00         {}   \n0                               [Apr] 2021-04-07 14:05:54+07:00         {}   \n0                               [Apr] 2021-04-21 20:00:00+07:00         {}   \n0                 [Adyaksa Vidi, Jul] 2021-07-31 07:00:57+07:00         {}   \n0                   [Nefri Inge, Jul] 2021-07-31 20:24:32+07:00         {}   \n\n                                              berita  \\\n0  Liputan6.com, Jakarta Dalam kunjungan kerjanya...   \n0  Liputan6.com, Jakarta Meningkatnya peran Usaha...   \n0  Liputan6.com, Jakarta - Menteri Sosial Juliari...   \n0  Liputan6.com, Jakarta - Beredar di media sosia...   \n0  Liputan6.com, Jakarta Pandemi masih melanda te...   \n0  Untuk mengetahui kebenaran poster lowongan ker...   \n0  Liputan6.com, Jakarta - PT Bank Pembangunan Da...   \n0  Liputan6.com, Jakarta - Wakil Presiden Ma'ruf ...   \n0  Liputan6.com, Jakarta - Menteri BUMN Erick Tho...   \n0  Liputan6.com, Jakarta - Pemerintah terus menga...   \n0  Liputan6.com, Jakarta - Komitmen PT Pos Indone...   \n0  Liputan6.com, Jakarta Pandemi Covid-19 menjadi...   \n0  Liputan6.com, Jakarta Tiap 21 April kita mempe...   \n0  Liputan6.com, Jakarta - PT Pos Indonesia memin...   \n0  Liputan6.com, Palembang - PT Pos Indonesia min...   \n\n                                                tags  \\\n0  {Jokowi, KPK, Bansos Tunai, Gempa Hari Ini, PT...   \n0  {Aplikasi PeduliLindungi, INFO LOWONGAN KERJA,...   \n0  {Jokowi, KPK, Gempa Hari Ini, Lihat Selengkapn...   \n0  {Cek Fakta, Vaksin Covid-19, Cek Fakta Liputan...   \n0  {Advertorial Gov, HUT TNI, Jokowi, KPK, Gempa ...   \n0  {Cek Fakta, Vaksin Covid-19, Cek Fakta Liputan...   \n0  {Aplikasi PeduliLindungi, INFO LOWONGAN KERJA,...   \n0  {Wakaf, Jokowi, Wapres Ma'ruf Amin, Gerakan Na...   \n0  {Pos, Aplikasi PeduliLindungi, INFO LOWONGAN K...   \n0  {Aplikasi PeduliLindungi, pemulihan ekonomi, P...   \n0  {BST, Jokowi, KPK, Gempa Hari Ini, Lihat Selen...   \n0  {Jokowi, KPK, Gempa Hari Ini, PT Pos Indonesia...   \n0  {Jokowi, KPK, Gempa Hari Ini, PT Pos Indonesia...   \n0  {Cek Fakta, Vaksin Covid-19, Cek Fakta Liputan...   \n0  {Lawan Hoaks, Kriminal, HOAX!, Palembang, Cek ...   \n\n                                               judul kata  \n0  PT Pos Indonesia Optimalkan Penyaluran Bantuan...   []  \n0  Permudah Pelaku UMKM, PT Telkom Indonesia Hadi...   []  \n0  Mensos, Mendes, dan Dirut PT Pos Tinjau Penyal...   []  \n0  Cek Fakta: Hati-Hati Akun Mengatasnamakan PT P...   []  \n0  PT Pos Indonesia Dipercaya Kembali untuk Salur...   []  \n0  Cek Fakta: Tidak Benar Poster Lowongan Kerja P...   []  \n0  Gandeng PT Pos Indonesia, Bank Kalsel Ingin Pe...   []  \n0  Wapres Ma'ruf Berharap PT Pos Indonesia Jadi K...   []  \n0  Rombak Direksi PT Pos, Erick Thohir Angkat Per...   []  \n0  Capai 98 Persen, PT Pos Salurkan Bansos Tunai ...   []  \n0  Komitmen PT Pos Indonesia Mengawal Distribusi ...   []  \n0  PT Pos Siapkan Sistem untuk Capai Target Inklu...   []  \n0  Video: PT Pos Indonesia Ucapkan Selamat Hari K...   []  \n0  Waspada, Pesan Berantai Janjikan Hadiah dari P...   []  \n0  Waspada Be Dulur, Pesen Berantai yang Janjike ...   []  ",
      "text/html": "<div>\n<style scoped>\n    .dataframe tbody tr th:only-of-type {\n        vertical-align: middle;\n    }\n\n    .dataframe tbody tr th {\n        vertical-align: top;\n    }\n\n    .dataframe thead th {\n        text-align: right;\n    }\n</style>\n<table border=\"1\" class=\"dataframe\">\n  <thead>\n    <tr style=\"text-align: right;\">\n      <th></th>\n      <th>penulis</th>\n      <th>tanggal</th>\n      <th>additional</th>\n      <th>berita</th>\n      <th>tags</th>\n      <th>judul</th>\n      <th>kata</th>\n    </tr>\n  </thead>\n  <tbody>\n    <tr>\n      <th>0</th>\n      <td>[Sep]</td>\n      <td>2021-09-13 13:09:53+07:00</td>\n      <td>{}</td>\n      <td>Liputan6.com, Jakarta Dalam kunjungan kerjanya...</td>\n      <td>{Jokowi, KPK, Bansos Tunai, Gempa Hari Ini, PT...</td>\n      <td>PT Pos Indonesia Optimalkan Penyaluran Bantuan...</td>\n      <td>[]</td>\n    </tr>\n    <tr>\n      <th>0</th>\n      <td>[Nofie Tessar, Okt]</td>\n      <td>2020-10-16 19:57:45+07:00</td>\n      <td>{}</td>\n      <td>Liputan6.com, Jakarta Meningkatnya peran Usaha...</td>\n      <td>{Aplikasi PeduliLindungi, INFO LOWONGAN KERJA,...</td>\n      <td>Permudah Pelaku UMKM, PT Telkom Indonesia Hadi...</td>\n      <td>[]</td>\n    </tr>\n    <tr>\n      <th>0</th>\n      <td>[Nov]</td>\n      <td>2020-11-05 20:05:50+07:00</td>\n      <td>{}</td>\n      <td>Liputan6.com, Jakarta - Menteri Sosial Juliari...</td>\n      <td>{Jokowi, KPK, Gempa Hari Ini, Lihat Selengkapn...</td>\n      <td>Mensos, Mendes, dan Dirut PT Pos Tinjau Penyal...</td>\n      <td>[]</td>\n    </tr>\n    <tr>\n      <th>0</th>\n      <td>[Adyaksa Vidi, Des]</td>\n      <td>2020-12-22 07:00:12+07:00</td>\n      <td>{}</td>\n      <td>Liputan6.com, Jakarta - Beredar di media sosia...</td>\n      <td>{Cek Fakta, Vaksin Covid-19, Cek Fakta Liputan...</td>\n      <td>Cek Fakta: Hati-Hati Akun Mengatasnamakan PT P...</td>\n      <td>[]</td>\n    </tr>\n    <tr>\n      <th>0</th>\n      <td>[Jan]</td>\n      <td>2021-01-05 13:59:02+07:00</td>\n      <td>{}</td>\n      <td>Liputan6.com, Jakarta Pandemi masih melanda te...</td>\n      <td>{Advertorial Gov, HUT TNI, Jokowi, KPK, Gempa ...</td>\n      <td>PT Pos Indonesia Dipercaya Kembali untuk Salur...</td>\n      <td>[]</td>\n    </tr>\n    <tr>\n      <th>0</th>\n      <td>[Cakrayuri Nuralam, Jan]</td>\n      <td>2021-01-18 18:00:08+07:00</td>\n      <td>{}</td>\n      <td>Untuk mengetahui kebenaran poster lowongan ker...</td>\n      <td>{Cek Fakta, Vaksin Covid-19, Cek Fakta Liputan...</td>\n      <td>Cek Fakta: Tidak Benar Poster Lowongan Kerja P...</td>\n      <td>[]</td>\n    </tr>\n    <tr>\n      <th>0</th>\n      <td>[Andina Librianty, Mar]</td>\n      <td>2021-03-05 15:50:12+07:00</td>\n      <td>{}</td>\n      <td>Liputan6.com, Jakarta - PT Bank Pembangunan Da...</td>\n      <td>{Aplikasi PeduliLindungi, INFO LOWONGAN KERJA,...</td>\n      <td>Gandeng PT Pos Indonesia, Bank Kalsel Ingin Pe...</td>\n      <td>[]</td>\n    </tr>\n    <tr>\n      <th>0</th>\n      <td>[Muhammad Radityo Priyasmoro, Mar]</td>\n      <td>2021-03-17 14:25:24+07:00</td>\n      <td>{}</td>\n      <td>Liputan6.com, Jakarta - Wakil Presiden Ma'ruf ...</td>\n      <td>{Wakaf, Jokowi, Wapres Ma'ruf Amin, Gerakan Na...</td>\n      <td>Wapres Ma'ruf Berharap PT Pos Indonesia Jadi K...</td>\n      <td>[]</td>\n    </tr>\n    <tr>\n      <th>0</th>\n      <td>[Athika Rahma, Mar]</td>\n      <td>2021-03-19 13:15:46+07:00</td>\n      <td>{}</td>\n      <td>Liputan6.com, Jakarta - Menteri BUMN Erick Tho...</td>\n      <td>{Pos, Aplikasi PeduliLindungi, INFO LOWONGAN K...</td>\n      <td>Rombak Direksi PT Pos, Erick Thohir Angkat Per...</td>\n      <td>[]</td>\n    </tr>\n    <tr>\n      <th>0</th>\n      <td>[Mar]</td>\n      <td>2021-03-29 09:30:27+07:00</td>\n      <td>{}</td>\n      <td>Liputan6.com, Jakarta - Pemerintah terus menga...</td>\n      <td>{Aplikasi PeduliLindungi, pemulihan ekonomi, P...</td>\n      <td>Capai 98 Persen, PT Pos Salurkan Bansos Tunai ...</td>\n      <td>[]</td>\n    </tr>\n    <tr>\n      <th>0</th>\n      <td>[Apr]</td>\n      <td>2021-04-01 22:44:21+07:00</td>\n      <td>{}</td>\n      <td>Liputan6.com, Jakarta - Komitmen PT Pos Indone...</td>\n      <td>{BST, Jokowi, KPK, Gempa Hari Ini, Lihat Selen...</td>\n      <td>Komitmen PT Pos Indonesia Mengawal Distribusi ...</td>\n      <td>[]</td>\n    </tr>\n    <tr>\n      <th>0</th>\n      <td>[Apr]</td>\n      <td>2021-04-07 14:05:54+07:00</td>\n      <td>{}</td>\n      <td>Liputan6.com, Jakarta Pandemi Covid-19 menjadi...</td>\n      <td>{Jokowi, KPK, Gempa Hari Ini, PT Pos Indonesia...</td>\n      <td>PT Pos Siapkan Sistem untuk Capai Target Inklu...</td>\n      <td>[]</td>\n    </tr>\n    <tr>\n      <th>0</th>\n      <td>[Apr]</td>\n      <td>2021-04-21 20:00:00+07:00</td>\n      <td>{}</td>\n      <td>Liputan6.com, Jakarta Tiap 21 April kita mempe...</td>\n      <td>{Jokowi, KPK, Gempa Hari Ini, PT Pos Indonesia...</td>\n      <td>Video: PT Pos Indonesia Ucapkan Selamat Hari K...</td>\n      <td>[]</td>\n    </tr>\n    <tr>\n      <th>0</th>\n      <td>[Adyaksa Vidi, Jul]</td>\n      <td>2021-07-31 07:00:57+07:00</td>\n      <td>{}</td>\n      <td>Liputan6.com, Jakarta - PT Pos Indonesia memin...</td>\n      <td>{Cek Fakta, Vaksin Covid-19, Cek Fakta Liputan...</td>\n      <td>Waspada, Pesan Berantai Janjikan Hadiah dari P...</td>\n      <td>[]</td>\n    </tr>\n    <tr>\n      <th>0</th>\n      <td>[Nefri Inge, Jul]</td>\n      <td>2021-07-31 20:24:32+07:00</td>\n      <td>{}</td>\n      <td>Liputan6.com, Palembang - PT Pos Indonesia min...</td>\n      <td>{Lawan Hoaks, Kriminal, HOAX!, Palembang, Cek ...</td>\n      <td>Waspada Be Dulur, Pesen Berantai yang Janjike ...</td>\n      <td>[]</td>\n    </tr>\n  </tbody>\n</table>\n</div>"
     },
     "execution_count": 4,
     "metadata": {},
     "output_type": "execute_result"
    }
   ],
   "source": [
    "df"
   ],
   "metadata": {
    "collapsed": false,
    "pycharm": {
     "name": "#%%\n"
    }
   }
  },
  {
   "cell_type": "code",
   "execution_count": 5,
   "outputs": [],
   "source": [
    "old_dates = df['tanggal']\n",
    "df['tanggal'] = df['tanggal'].apply(lambda a: pd.to_datetime(a).date())"
   ],
   "metadata": {
    "collapsed": false,
    "pycharm": {
     "name": "#%%\n"
    }
   }
  },
  {
   "cell_type": "code",
   "execution_count": 6,
   "outputs": [],
   "source": [
    "df.to_excel(\"liputan 6 mungkin berhasil.xlsx\")\n"
   ],
   "metadata": {
    "collapsed": false,
    "pycharm": {
     "name": "#%%\n"
    }
   }
  }
 ],
 "metadata": {
  "kernelspec": {
   "display_name": "Python 3",
   "language": "python",
   "name": "python3"
  },
  "language_info": {
   "codemirror_mode": {
    "name": "ipython",
    "version": 2
   },
   "file_extension": ".py",
   "mimetype": "text/x-python",
   "name": "python",
   "nbconvert_exporter": "python",
   "pygments_lexer": "ipython2",
   "version": "2.7.6"
  }
 },
 "nbformat": 4,
 "nbformat_minor": 0
}