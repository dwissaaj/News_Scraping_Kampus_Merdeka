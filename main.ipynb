{
 "cells": [
  {
   "cell_type": "code",
   "execution_count": 1,
   "metadata": {
    "collapsed": true
   },
   "outputs": [
    {
     "data": {
      "text/plain": "   Unnamed: 0  position                                               link  \\\n0           0         1  https://www.kompas.tv/article/226342/pt-pos-in...   \n1           1         2  https://www.liputan6.com/showbiz/read/4697386/...   \n2           2         3  https://m.brilio.net/selebritis/krisdayanti-di...   \n3           3         4  https://hot.detik.com/celeb/d-5787571/krisdaya...   \n4           4         5  https://mantrasukabumi.pikiran-rakyat.com/ekon...   \n\n                                               title           source  \\\n0     PT Pos Indonesia Peringati Sumpah Pemuda Ke-93        Kompas TV   \n1   Krisdayanti Dibuatkan Prangko oleh Pos Indonesia     Liputan6.com   \n2  Krisdayanti dibuatkan prangko oleh Pos Indones...       Brilio.net   \n3   Krisdayanti Dibuatkan Prangko oleh Pos Indonesia         detikHOT   \n4  BUMN Buka Lowongan Kerja di PT Pos Indonesia O...  Mantra Sukabumi   \n\n            date                                            snippet  \\\n0    5 hari lalu  Suarakan semangat untuk bersatu, bangkit, dan ...   \n1    4 hari lalu  \"Itu kemarin ulang tahun Pos Indonesia, jadi a...   \n2    3 hari lalu  Krisdayanti dibuatkan prangko oleh Pos Indones...   \n3    5 hari lalu  Krisdayanti Dibuatkan Prangko oleh Pos Indones...   \n4  2 minggu lalu  BUMN Buka Lowongan Kerja di PT Pos Indonesia O...   \n\n                                           thumbnail  \n0  https://serpapi.com/searches/618213dc1d986e120...  \n1  https://serpapi.com/searches/618213dc1d986e120...  \n2  https://serpapi.com/searches/618213dc1d986e120...  \n3  https://serpapi.com/searches/618213dc1d986e120...  \n4  https://serpapi.com/searches/618213dc1d986e120...  ",
      "text/html": "<div>\n<style scoped>\n    .dataframe tbody tr th:only-of-type {\n        vertical-align: middle;\n    }\n\n    .dataframe tbody tr th {\n        vertical-align: top;\n    }\n\n    .dataframe thead th {\n        text-align: right;\n    }\n</style>\n<table border=\"1\" class=\"dataframe\">\n  <thead>\n    <tr style=\"text-align: right;\">\n      <th></th>\n      <th>Unnamed: 0</th>\n      <th>position</th>\n      <th>link</th>\n      <th>title</th>\n      <th>source</th>\n      <th>date</th>\n      <th>snippet</th>\n      <th>thumbnail</th>\n    </tr>\n  </thead>\n  <tbody>\n    <tr>\n      <th>0</th>\n      <td>0</td>\n      <td>1</td>\n      <td>https://www.kompas.tv/article/226342/pt-pos-in...</td>\n      <td>PT Pos Indonesia Peringati Sumpah Pemuda Ke-93</td>\n      <td>Kompas TV</td>\n      <td>5 hari lalu</td>\n      <td>Suarakan semangat untuk bersatu, bangkit, dan ...</td>\n      <td>https://serpapi.com/searches/618213dc1d986e120...</td>\n    </tr>\n    <tr>\n      <th>1</th>\n      <td>1</td>\n      <td>2</td>\n      <td>https://www.liputan6.com/showbiz/read/4697386/...</td>\n      <td>Krisdayanti Dibuatkan Prangko oleh Pos Indonesia</td>\n      <td>Liputan6.com</td>\n      <td>4 hari lalu</td>\n      <td>\"Itu kemarin ulang tahun Pos Indonesia, jadi a...</td>\n      <td>https://serpapi.com/searches/618213dc1d986e120...</td>\n    </tr>\n    <tr>\n      <th>2</th>\n      <td>2</td>\n      <td>3</td>\n      <td>https://m.brilio.net/selebritis/krisdayanti-di...</td>\n      <td>Krisdayanti dibuatkan prangko oleh Pos Indones...</td>\n      <td>Brilio.net</td>\n      <td>3 hari lalu</td>\n      <td>Krisdayanti dibuatkan prangko oleh Pos Indones...</td>\n      <td>https://serpapi.com/searches/618213dc1d986e120...</td>\n    </tr>\n    <tr>\n      <th>3</th>\n      <td>3</td>\n      <td>4</td>\n      <td>https://hot.detik.com/celeb/d-5787571/krisdaya...</td>\n      <td>Krisdayanti Dibuatkan Prangko oleh Pos Indonesia</td>\n      <td>detikHOT</td>\n      <td>5 hari lalu</td>\n      <td>Krisdayanti Dibuatkan Prangko oleh Pos Indones...</td>\n      <td>https://serpapi.com/searches/618213dc1d986e120...</td>\n    </tr>\n    <tr>\n      <th>4</th>\n      <td>4</td>\n      <td>5</td>\n      <td>https://mantrasukabumi.pikiran-rakyat.com/ekon...</td>\n      <td>BUMN Buka Lowongan Kerja di PT Pos Indonesia O...</td>\n      <td>Mantra Sukabumi</td>\n      <td>2 minggu lalu</td>\n      <td>BUMN Buka Lowongan Kerja di PT Pos Indonesia O...</td>\n      <td>https://serpapi.com/searches/618213dc1d986e120...</td>\n    </tr>\n  </tbody>\n</table>\n</div>"
     },
     "execution_count": 1,
     "metadata": {},
     "output_type": "execute_result"
    }
   ],
   "source": [
    "import pandas as pd\n",
    "import newspaper\n",
    "from newspaper import Article\n",
    "df = pd.read_excel('oktober pos.xlsx')\n",
    "df.head()"
   ]
  },
  {
   "cell_type": "code",
   "execution_count": 2,
   "outputs": [
    {
     "data": {
      "text/plain": "['https://www.kompas.tv/article/226342/pt-pos-indonesia-peringati-sumpah-pemuda-ke-93',\n 'https://www.liputan6.com/showbiz/read/4697386/krisdayanti-dibuatkan-prangko-oleh-pos-indonesia',\n 'https://m.brilio.net/selebritis/krisdayanti-dibuatkan-prangko-oleh-pos-indonesia-ini-penampakannya-211030r.html',\n 'https://hot.detik.com/celeb/d-5787571/krisdayanti-dibuatkan-prangko-oleh-pos-indonesia',\n 'https://mantrasukabumi.pikiran-rakyat.com/ekonomi/pr-202837833/bumn-buka-lowongan-kerja-di-pt-pos-indonesia-oktober-2021-terbaru-cari-lulusan-d3-ini-persyaratannya',\n 'https://nasional.tempo.co/read/1519877/pos-bloc-jakarta-dikunjungi-ribuan-orang-per-hari',\n 'https://bangka.tribunnews.com/2021/10/26/info-lowongan-kerja-pt-pos-indonesia-dan-siloam-hospitals-group-lulusan-d3s1',\n 'https://hot.grid.id/read/182966057/lowongan-kerja-bumn-pt-pos-indonesia-terbaru-untuk-lulusan-sma-berikut-syarat-dan-cara-daftarnya?page=all',\n 'https://suarapemerintah.id/2021/10/beri-kemudahan-legal-dokumen-pt-pos-indonesia-mou-dengan-kemlu/',\n 'https://video.tempo.co/read/26669/perjuangan-kaum-muda-inspirasi-pos-indonesia-berkarya',\n 'https://www.medcom.id/ekonomi/bisnis/VNxgRxBK-gaet-milenial-pos-indonesia-optimalkan-pospay-dan-pos-bloc',\n 'https://video.medcom.id/video-advertorial/aNr98BWK-pos-indonesia-peringati-93-tahun-sumpah-pemuda',\n 'https://www.kompas.tv/article/226330/sumpah-pemuda-ke-93-pos-indonesia-dorong-penguatan-talenta-muda-digital',\n 'https://www.cnnindonesia.com/nasional/20211028102652-12-713491/pos-polisi-di-aceh-ditembak-orang-tak-dikenal',\n 'https://www.suara.com/bisnis/2021/10/26/074405/pospay-ditarget-capai-1-juta-subscriber-charles-sitorus-yakin-tembus-15-juta?page=all',\n 'https://jabar.tribunnews.com/2021/10/21/kecelakaan-truk-pos-indonesia-tabrak-truk-pos-indonesia-lainnya-di-malangbong-ini-penyebabnya',\n 'https://aceh.tribunnews.com/2021/10/31/wajahnya-diabadikan-di-lembar-perangko-diva-indonesia-ini-ucapkan-terima-kasih-kepada-pos',\n 'https://jateng.antaranews.com/berita/411905/gus-yasin-apresiasi-pos-indonesia-salurkan-bantuan-saat-pandemi',\n 'https://kabarpriangan.pikiran-rakyat.com/kabar-priangan/pr-1482848703/akibat-rem-blong-dua-truk-logistik-pos-indonesia-alami-kecelakaan',\n 'https://m.industry.co.id/read/96283/pospay-layanan-digital-pt-pos-indonesia-ditarget-capai-15-juta-subscriber',\n 'https://aceh.tribunnews.com/2021/10/20/lowongan-kerja-bumn-pt-pos-indonesia-untuk-lulusan-minimal-sma-daftar-sekarang',\n 'https://www.wartaekonomi.co.id/read368952/ini-alasan-pos-indonesia-sulap-gedung-filateli-jadi-pos-bloc',\n 'https://banpos.co/2021/10/27/indonesia-u23-2-vs-3-australia-u23-asa-masih-ada/',\n 'https://baaca.id/dibuatkan-prangko-oleh-pos-indonesia-krisdayanti-kalau-memang-bisa-dijual-saya-senang/',\n 'https://hot.grid.id/read/182949436/lowongan-kerja-bumn-pt-pos-indonesia-untuk-lulusan-sma-dan-d3-berikut-syarat-dan-cara-daftarnya?page=all',\n 'https://money.kompas.com/read/2021/10/26/170000926/mengenal-perbedaan-wesel-pos-dan-kartu-pos?page=all',\n 'https://jabar.tribunnews.com/2021/10/21/dua-truk-pos-indonesia-terlibat-tabrakan-di-jalur-malangbong-garut-angkut-benang-ini-kronologinya',\n 'https://www.internationalmedia.id/2021/10/kemlu-tanda-tangani-kerja-sama-dengan.html',\n 'https://www.bantennews.co.id/lancarkan-bisnis-ekspor-melalui-market-place-pt-pos-indonesia-cilegon-kunjungi-karantina/',\n 'https://www.medcom.id/ekonomi/bisnis/JKRWM9pN-pos-bloc-jakarta-dikunjungi-ribuan-orang-per-hari',\n 'https://www.cnnindonesia.com/teknologi/20211028141149-384-713620/jangkauan-aplikasi-signal-diperluas-28-provinsi-urus-stnk-lebih-mudah',\n 'https://www.kompas.com/skola/read/2021/10/28/143000469/perbedaan-wesel-dan-kartu-pos',\n 'https://sorotindonesia.com/taj-yasin-sampaikan-terima-kasih-kepada-pt-pos-yang-sudah-membantu-pemerintah-menyalurkan-bantuan-saat-pandemi/',\n 'https://sumsel.tribunnews.com/2021/10/20/caracekresipakettiki-pos-indonesia-jt-dan-jne-dengan-mudah-cukup-masukkan-nomornya-disini',\n 'https://money.kompas.com/read/2021/10/26/170000926/mengenal-perbedaan-wesel-pos-dan-kartu-pos',\n 'https://radarsolo.jawapos.com/sport/sport-nasional/18/10/2021/merah-putih-tak-berkibar-di-thomas-cup-ladi-dan-kemenpora-minta-maaf/',\n 'https://www.jawapos.com/nasional/30/10/2021/jokowi-apresiasi-kerja-sama-pertahanan-indonesia-prancis/',\n 'https://finance.detik.com/berita-ekonomi-bisnis/d-5788405/kok-bisa-foto-krisdayanti-mejeng-di-prangko-begini-cara-bikinnya',\n 'https://kupang.tribunnews.com/2021/10/22/bem-universitas-indonesia-beri-nilai-merah-6-menteri-jokowi',\n 'https://industri.kontan.co.id/news/kembali-beroperasi-dua-kapal-pelni-segera-layani-rute-karimunjawa',\n 'https://kupang.tribunnews.com/2021/11/01/airlangga-hartarto-berbagai-negara-dukung-indonesia-presidensi-g20-tahun-depan',\n 'https://radarmojokerto.jawapos.com/ekonomi/31/10/2021/dihadiri-presiden-jokowi-indonesia-gelar-national-day-di-world-expo',\n 'https://kupang.tribunnews.com/2021/10/31/airlangga-sebut-presiden-ingin-pasar-cpo-indonesia-di-turki-kembali-meningkat',\n 'https://market.bisnis.com/read/20211018/192/1455728/pefindo-turunkan-peringkat-tiga-perusahaan-di-kuartal-iii2021',\n 'https://finance.yahoo.com/news/southeast-asia-pos-terminal-market-110400748.html',\n 'https://kupang.tribunnews.com/2021/10/30/terbang-ke-roma-italia-jokowi-carter-pesawat-garuda-indonesia-ini-alasannya',\n 'https://www.jawapos.com/sports/23/10/2021/ginting-dan-jonatan-tepis-rasa-sakit-agar-bisa-bawa-indonesia-juara/',\n 'https://radarsurabaya.jawapos.com/sport/nasional-sport/29/10/2021/indonesia-gagal-ke-piala-asia-u-23-kalah-dua-kali-oleh-australia/',\n 'https://www.tribunnews.com/sport/2021/10/30/sorotan-hasil-prancis-open-2021-harapan-praveenmelati-pupus-indonesia-pindah-haluan-ke-minions',\n 'https://www.liputan6.com/regional/read/4691352/hari-santri-nasional-gp-ansor-rembang-luncurkan-program-sobat-bayar',\n 'https://www.jawapos.com/sports/26/10/2021/gagal-juara-di-denmark-tim-indonesia-bertekad-bangkit-di-prancis/',\n 'https://www.cnbcindonesia.com/news/20211025165639-4-286411/ri-ketiban-durian-runtuh-triliunan-ini-daftarnya',\n 'https://radargresik.jawapos.com/ekonomi-bisnis/21/10/2021/keren-mampu-kendalikan-pandemiekonomi-indonesia-tumbuh-707-persen/',\n 'https://www.jawapos.com/nasional/20/10/2021/saudi-disebut-prioritaskan-keberangkatan-umrah-jamaah-indonesia/',\n 'https://radarsolo.jawapos.com/nasional/22/10/2021/mendag-lutfi-yakin-indonesia-mampu-jadi-kiblat-fesyen-muslim-dunia/',\n 'https://www.republika.co.id/berita/r1dhx3370/hadapi-tantangan-bisnis-damri-pastikan-terus-adaptif',\n 'https://lifestyle.sindonews.com/read/584826/187/krisdayanti-bangga-wajahnya-terpampang-di-prangko-1635639008',\n 'https://radarsolo.jawapos.com/sport/sport-nasional/21/10/2021/gelandang-persis-solo-m-kanu-bawa-indonesia-kalahkan-tajikistan/',\n 'https://www.jawapos.com/nasional/25/10/2021/penerima-vaksin-lengkap-capai-6791-juta-jiwa-penduduk-indonesia/',\n 'https://www.tribunnews.com/sport/2021/10/26/bulu-tangkis-malaysia-cita-rasa-legenda-indonesia-rexy-mainaky-putuskan-kembali-ke-bam',\n 'https://travel.detik.com/domestic-destination/d-5789208/tempat-nongkrong-di-jakarta-buat-weekend-yuk-ke-pos-bloc',\n 'https://www.cnnindonesia.com/olahraga/20211019153816-156-709729/pembalap-wsbk-indonesia-di-mandalika-wajib-karantina',\n 'https://www.jawapos.com/nasional/29/10/2021/indonesia-terima-kedatangan-65-juta-dosis-vaksin-covid-19/',\n 'https://video.medcom.id/video-advertorial/akWxRvLK-testimoni-bantuan-sosial-tunai-di-pacitan',\n 'https://www.cnbcindonesia.com/market/20211026062550-17-286480/rekor-bursa-mitratel-bidik-dana-ipo-rp-25-t-catat-jadwalnya',\n 'https://www.minews.id/gaya-hidup/sering-kenakan-pakaian-daerah-wajah-krisdayanti-terpampang-di-prangko-senilai-rp-5000',\n 'https://radarsolo.jawapos.com/ekonomi/28/10/2021/memberi-makna-indonesia-bri-gandeng-padi-reborn-di-kickoff-hut-ke-126/',\n 'https://baliexpress.jawapos.com/kolom/31/10/2021/indonesia-negara-risiko-rendah-covid-19-versi-cdc',\n 'https://baliexpress.jawapos.com/bisnis/28/10/2021/garuda-indonesia-promo-layanan-tes-covid-19-hingga-akhir-tahun',\n 'https://oto.detik.com/berita/d-5785314/samsat-digital-belum-beroperasi-di-wilayah-indonesia-timur',\n 'https://www.jawapos.com/ekonomi/28/10/2021/11-anak-muda-terima-apresiasi-12th-satu-indonesia-awards-2021-astra/',\n 'https://radarsolo.jawapos.com/ekonomi/30/10/2021/bri-jadi-best-private-bank-for-hnwis-indonesia-dari-the-asset-triple-a/',\n 'https://radarsurabaya.jawapos.com/sport/nasional-sport/25/10/2021/wada-komitmen-bantu-indonesia-bebas-sanksi/',\n 'https://radarsolo.jawapos.com/ekonomi/20/10/2021/kpp-pratama-surakarta-di-pasar-tetap-bisa-bayar-pajak/',\n 'https://gopos.id/tiga-strategi-presiden-untuk-pemulihan-perekonomian-indonesia/',\n 'https://www.jawapos.com/nasional/26/10/2021/dubes-jepang-berharap-indonesia-menjadi-pemersatu-di-g20-dan-asean/',\n 'https://www.jawapos.com/oto-dan-tekno/otomotif/22/10/2021/intip-desain-hyundai-creta-suv-pertama-buatan-indonesia/',\n 'https://radarsolo.jawapos.com/nasional/21/10/2021/tangani-dampak-perubahan-iklim-indonesia-bahas-kerja-sama-uni-eropa/',\n 'https://baliexpress.jawapos.com/bisnis/27/10/2021/anggota-dpr-ajak-selamatkan-garuda-indonesia',\n 'https://aceh.tribunnews.com/2021/10/23/koperasi-industri-tanyoe-aceh-buka-jaringan-pemasaran-produk-umkm-aceh-ke-singapore',\n 'https://regional.kompas.com/read/2021/10/21/133649478/29-pekerja-migran-indonesia-dari-malaysia-positif-covid-19-masuk-lewat-pos',\n 'https://nasional.kontan.co.id/news/ekonom-core-sebut-tambahan-penerimaan-pajak-akibat-uu-hpp-berpotensi-tercapai',\n 'https://www.kompasiana.com/kamilakhoirunnisa1516/617e9af601019075f92a3592/program-bantuan-sosial-pemerintah-dalam-pandangan-pembangunan-sosial',\n 'https://www.bandungbaratpos.com/2021/10/19/indonesia-power-dukung-perlindungan-fosil-sebagai-warisan-ilmu-pengetahuan/',\n 'https://radarsolo.jawapos.com/sport/sport-nasional/19/10/2021/mulai-bulan-depan-bali-jadi-tuan-rumah-indonesia-badminton-festival/',\n 'https://www.kompas.tv/article/224521/dalam-sepuluh-hari-pos-ponorogo-capai-98-5-persen-penyaluran-bansos-tunai',\n 'https://www.jawapos.com/sports/24/10/2021/sanksi-wada-indonesia-terancam-gagal-jadi-tuan-rumah-kejuaraan-asia/',\n 'https://id.motorsport.com/wsbk/news/imi-pastikan-marshal-siap-bertugas-wsbk-indonesia/6689433/',\n 'https://kupang.tribunnews.com/2021/10/19/jumlah-penumpang-garuda-indonesia-ke-labuan-bajo-manggarai-barat-naik',\n 'https://mediamagelang.pikiran-rakyat.com/nasional/pr-1432835443/kemensos-cairkan-rp600-ribu-bansos-kantor-pos-apa-dinsos-jakarta-tetap-lanjutkan-bst-dki-tahap-7',\n 'https://portallebak.pikiran-rakyat.com/nasional/pr-292917947/tni-amankan-pelaku-penyelundup-sabu-seberat-8-kg-di-perbatasan-indonesia-malaysia',\n 'https://www.pasificpos.com/gelar-media-workshop-bpjs-kesehatan-beri-penghargaan-kepada-jurnalis/',\n 'https://sinarjateng.pikiran-rakyat.com/ekbis/pr-1002898094/wajib-siapkan-berkas-ini-untuk-cairkan-bst-rp600-ribu-tahap-7-dan-8-cek-berkala-cekbansoskemensosgoid',\n 'https://radarsolo.jawapos.com/nasional/20/10/2021/indonesia-tawarkan-3-proyek-investasi-sektor-energi-kepada-jepang/',\n 'https://kupang.tribunnews.com/2021/10/21/gp-ansor-ntt-latih-anggota-dampingi-umkm',\n 'https://id.motorsport.com/wsbk/news/mgpa-siapkan-protokol-ketat-gelaran-wsbk-indonesia/6694809/',\n 'https://kalselpos.com/2021/10/26/airlangga-aktivitas-ekonomi-digital-di-indonesia-terus-meningkat/',\n 'https://mediamagelang.pikiran-rakyat.com/nasional/pr-1432834592/kemensos-cairkan-bansos-ke-rekening-bank-dan-kantor-pos-apa-dinsos-jakarta-tetap-lanjutkan-bst-dki',\n 'https://baliexpress.jawapos.com/internasional/27/10/2021/as-indonesia-serukan-forum-g20-baru-untuk-hadapi-pandemi-berikutnya',\n 'https://radarmalang.jawapos.com/ekonomi-bisnis/01/11/2021/sumpah-pemuda-jadi-momentum-bri-percepat-herd-immunity-di-indonesia/']"
     },
     "execution_count": 2,
     "metadata": {},
     "output_type": "execute_result"
    }
   ],
   "source": [
    "urls = df['link'].to_list()\n",
    "urls"
   ],
   "metadata": {
    "collapsed": false,
    "pycharm": {
     "name": "#%%\n"
    }
   }
  },
  {
   "cell_type": "code",
   "execution_count": 3,
   "outputs": [
    {
     "name": "stdout",
     "output_type": "stream",
     "text": [
      "Article `download()` failed with 403 Client Error: Forbidden for url: https://market.bisnis.com/read/20211018/192/1455728/pefindo-turunkan-peringkat-tiga-perusahaan-di-kuartal-iii2021 on URL https://market.bisnis.com/read/20211018/192/1455728/pefindo-turunkan-peringkat-tiga-perusahaan-di-kuartal-iii2021\n"
     ]
    }
   ],
   "source": [
    "data = []\n",
    "for url in urls:\n",
    "    try:\n",
    "        a = Article(url, language='id')\n",
    "        a.download()\n",
    "        a.parse()\n",
    "\n",
    "    except newspaper.ArticleException as e:\n",
    "        print(e)\n",
    "\n",
    "    else:\n",
    "        author = a.authors\n",
    "        dates = a.publish_date\n",
    "        add_data = a.additional_data\n",
    "        text = a.text\n",
    "        tag = a.tags\n",
    "        title = a.title\n",
    "        keywords = a.keywords\n",
    "\n",
    "\n",
    "        new_df = pd.DataFrame({'penulis':[author],'tanggal':[dates],'additional':[add_data],'berita':[text],'tags':[tag],'judul':[title],'kata':[keywords]})\n",
    "        data.append(new_df)\n",
    "\n",
    "df = pd.concat(data)\n",
    "\n"
   ],
   "metadata": {
    "collapsed": false,
    "pycharm": {
     "name": "#%%\n"
    }
   }
  },
  {
   "cell_type": "code",
   "execution_count": 4,
   "outputs": [
    {
     "data": {
      "text/plain": "                                             penulis  \\\n0                               [Sapto Purnomo, Okt]   \n0                                                 []   \n0  [Hanif Hawari, Https, Www.Facebook.Com Detikho...   \n0                                             [Oleh]   \n0                                                 []   \n\n                     tanggal additional  \\\n0  2021-10-30 07:00:00+07:00         {}   \n0  2021-10-30 13:50:00+07:00         {}   \n0        2021-10-29 10:04:19         {}   \n0  2021-10-22 10:20:00+07:00         {}   \n0        2021-10-26 00:00:00         {}   \n\n                                              berita  \\\n0  Liputan6.com, Jakarta Krisdayanti berkesempata...   \n0  Brilio.net - Sosok Krisdayanti tak pernah gaga...   \n0  Krisdayanti mendapat kesempatan dibuatkan pran...   \n0  INFO NASIONAL: Pos Bloc Jakarta menuai animo p...   \n0  BANGKAPOS.COM -- Info lowongan kerja terbaru p...   \n\n                                                tags  \\\n0  {Ria Ricis, Ali Syakieb, Krisdayanti, Berita T...   \n0  {Diva Indonesia, SPONSORED CONTENT, Prangko, K...   \n0  {iKON's Type, krisdayanti, Krisdayanti, krisda...   \n0  {Pos Indonesia, #Suzuki Wagon R, Usaha Kecil d...   \n0  {PT Pos Indonesia, Lowongan Kerja, lowongan ke...   \n\n                                               judul kata  \n0   Krisdayanti Dibuatkan Prangko oleh Pos Indonesia   []  \n0  Krisdayanti dibuatkan prangko oleh Pos Indones...   []  \n0   Krisdayanti Dibuatkan Prangko oleh Pos Indonesia   []  \n0  Pos Bloc Jakarta Dikunjungi Ribuan Orang per Hari   []  \n0  Info Lowongan Kerja PT Pos Indonesia dan Siloa...   []  ",
      "text/html": "<div>\n<style scoped>\n    .dataframe tbody tr th:only-of-type {\n        vertical-align: middle;\n    }\n\n    .dataframe tbody tr th {\n        vertical-align: top;\n    }\n\n    .dataframe thead th {\n        text-align: right;\n    }\n</style>\n<table border=\"1\" class=\"dataframe\">\n  <thead>\n    <tr style=\"text-align: right;\">\n      <th></th>\n      <th>penulis</th>\n      <th>tanggal</th>\n      <th>additional</th>\n      <th>berita</th>\n      <th>tags</th>\n      <th>judul</th>\n      <th>kata</th>\n    </tr>\n  </thead>\n  <tbody>\n    <tr>\n      <th>0</th>\n      <td>[Sapto Purnomo, Okt]</td>\n      <td>2021-10-30 07:00:00+07:00</td>\n      <td>{}</td>\n      <td>Liputan6.com, Jakarta Krisdayanti berkesempata...</td>\n      <td>{Ria Ricis, Ali Syakieb, Krisdayanti, Berita T...</td>\n      <td>Krisdayanti Dibuatkan Prangko oleh Pos Indonesia</td>\n      <td>[]</td>\n    </tr>\n    <tr>\n      <th>0</th>\n      <td>[]</td>\n      <td>2021-10-30 13:50:00+07:00</td>\n      <td>{}</td>\n      <td>Brilio.net - Sosok Krisdayanti tak pernah gaga...</td>\n      <td>{Diva Indonesia, SPONSORED CONTENT, Prangko, K...</td>\n      <td>Krisdayanti dibuatkan prangko oleh Pos Indones...</td>\n      <td>[]</td>\n    </tr>\n    <tr>\n      <th>0</th>\n      <td>[Hanif Hawari, Https, Www.Facebook.Com Detikho...</td>\n      <td>2021-10-29 10:04:19</td>\n      <td>{}</td>\n      <td>Krisdayanti mendapat kesempatan dibuatkan pran...</td>\n      <td>{iKON's Type, krisdayanti, Krisdayanti, krisda...</td>\n      <td>Krisdayanti Dibuatkan Prangko oleh Pos Indonesia</td>\n      <td>[]</td>\n    </tr>\n    <tr>\n      <th>0</th>\n      <td>[Oleh]</td>\n      <td>2021-10-22 10:20:00+07:00</td>\n      <td>{}</td>\n      <td>INFO NASIONAL: Pos Bloc Jakarta menuai animo p...</td>\n      <td>{Pos Indonesia, #Suzuki Wagon R, Usaha Kecil d...</td>\n      <td>Pos Bloc Jakarta Dikunjungi Ribuan Orang per Hari</td>\n      <td>[]</td>\n    </tr>\n    <tr>\n      <th>0</th>\n      <td>[]</td>\n      <td>2021-10-26 00:00:00</td>\n      <td>{}</td>\n      <td>BANGKAPOS.COM -- Info lowongan kerja terbaru p...</td>\n      <td>{PT Pos Indonesia, Lowongan Kerja, lowongan ke...</td>\n      <td>Info Lowongan Kerja PT Pos Indonesia dan Siloa...</td>\n      <td>[]</td>\n    </tr>\n  </tbody>\n</table>\n</div>"
     },
     "execution_count": 4,
     "metadata": {},
     "output_type": "execute_result"
    }
   ],
   "source": [
    "import numpy as np\n",
    "df = df.replace(to_replace='None', value=np.nan).dropna()\n",
    "df.head()"
   ],
   "metadata": {
    "collapsed": false,
    "pycharm": {
     "name": "#%%\n"
    }
   }
  },
  {
   "cell_type": "code",
   "execution_count": 5,
   "outputs": [],
   "source": [
    "old_dates = df['tanggal']\n",
    "df['tanggal'] = df['tanggal'].apply(lambda a: pd.to_datetime(a).date())"
   ],
   "metadata": {
    "collapsed": false,
    "pycharm": {
     "name": "#%%\n"
    }
   }
  },
  {
   "cell_type": "code",
   "execution_count": 6,
   "outputs": [],
   "source": [
    "df.to_excel(\"berita sampe 31.xlsx\")\n"
   ],
   "metadata": {
    "collapsed": false,
    "pycharm": {
     "name": "#%%\n"
    }
   }
  }
 ],
 "metadata": {
  "kernelspec": {
   "name": "python3",
   "language": "python",
   "display_name": "Python 3 (ipykernel)"
  },
  "language_info": {
   "codemirror_mode": {
    "name": "ipython",
    "version": 2
   },
   "file_extension": ".py",
   "mimetype": "text/x-python",
   "name": "python",
   "nbconvert_exporter": "python",
   "pygments_lexer": "ipython2",
   "version": "2.7.6"
  }
 },
 "nbformat": 4,
 "nbformat_minor": 0
}