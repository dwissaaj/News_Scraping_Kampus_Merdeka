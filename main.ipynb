{
 "cells": [
  {
   "cell_type": "code",
   "execution_count": 1,
   "metadata": {
    "collapsed": true
   },
   "outputs": [
    {
     "data": {
      "text/plain": "   Unnamed: 0  position                                               link  \\\n0           0         1  https://hot.grid.id/read/182993295/lowongan-ke...   \n1           1         2  https://www.kabarbisnis.com/read/28110234/bidi...   \n2           2         3  https://palembang.tribunnews.com/2021/11/13/lo...   \n3           3         4  https://infosemarangraya.pikiran-rakyat.com/ek...   \n4           4         5  https://m.industry.co.id/read/97287/incar-pasa...   \n\n                                               title              source  \\\n0  Lowongan Kerja BUMN PT Pos Indonesia, Lulusan ...            Grid Hot   \n1  Bidik kaum milenial, Pos Indonesia hadirkan 60...     kabarbisnis.com   \n2  Lowongan Kerja PT Pos Indonesia (Persero), Pri...      Sriwijaya Post   \n3  Info Loker BUMN, PT Pos Indonesia (Persero) Bu...  Info Semarang Raya   \n4  Incar Pasar Milenial, Pos Indonesia Kembangkan...      Industry.co.id   \n\n          date                                            snippet  \\\n0  2 hari lalu  Adapun seperti dibawah ini yang dilansir GridH...   \n1  2 hari lalu  BANDUNG, kabarbisnis.com: PT Pos Indonesia mel...   \n2  3 hari lalu  SRIPOKU.COM - PT Pos Indonesia (Persero) salah...   \n3  2 hari lalu  Info Loker BUMN, PT Pos Indonesia (Persero) Bu...   \n4  3 hari lalu  INDUSTRY.co.id - Surabaya - PT Pos Indonesia (...   \n\n                                           thumbnail  \n0  https://serpapi.com/searches/61938ae02ff42124a...  \n1  https://serpapi.com/searches/61938ae02ff42124a...  \n2  https://serpapi.com/searches/61938ae02ff42124a...  \n3  https://serpapi.com/searches/61938ae02ff42124a...  \n4  https://serpapi.com/searches/61938ae02ff42124a...  ",
      "text/html": "<div>\n<style scoped>\n    .dataframe tbody tr th:only-of-type {\n        vertical-align: middle;\n    }\n\n    .dataframe tbody tr th {\n        vertical-align: top;\n    }\n\n    .dataframe thead th {\n        text-align: right;\n    }\n</style>\n<table border=\"1\" class=\"dataframe\">\n  <thead>\n    <tr style=\"text-align: right;\">\n      <th></th>\n      <th>Unnamed: 0</th>\n      <th>position</th>\n      <th>link</th>\n      <th>title</th>\n      <th>source</th>\n      <th>date</th>\n      <th>snippet</th>\n      <th>thumbnail</th>\n    </tr>\n  </thead>\n  <tbody>\n    <tr>\n      <th>0</th>\n      <td>0</td>\n      <td>1</td>\n      <td>https://hot.grid.id/read/182993295/lowongan-ke...</td>\n      <td>Lowongan Kerja BUMN PT Pos Indonesia, Lulusan ...</td>\n      <td>Grid Hot</td>\n      <td>2 hari lalu</td>\n      <td>Adapun seperti dibawah ini yang dilansir GridH...</td>\n      <td>https://serpapi.com/searches/61938ae02ff42124a...</td>\n    </tr>\n    <tr>\n      <th>1</th>\n      <td>1</td>\n      <td>2</td>\n      <td>https://www.kabarbisnis.com/read/28110234/bidi...</td>\n      <td>Bidik kaum milenial, Pos Indonesia hadirkan 60...</td>\n      <td>kabarbisnis.com</td>\n      <td>2 hari lalu</td>\n      <td>BANDUNG, kabarbisnis.com: PT Pos Indonesia mel...</td>\n      <td>https://serpapi.com/searches/61938ae02ff42124a...</td>\n    </tr>\n    <tr>\n      <th>2</th>\n      <td>2</td>\n      <td>3</td>\n      <td>https://palembang.tribunnews.com/2021/11/13/lo...</td>\n      <td>Lowongan Kerja PT Pos Indonesia (Persero), Pri...</td>\n      <td>Sriwijaya Post</td>\n      <td>3 hari lalu</td>\n      <td>SRIPOKU.COM - PT Pos Indonesia (Persero) salah...</td>\n      <td>https://serpapi.com/searches/61938ae02ff42124a...</td>\n    </tr>\n    <tr>\n      <th>3</th>\n      <td>3</td>\n      <td>4</td>\n      <td>https://infosemarangraya.pikiran-rakyat.com/ek...</td>\n      <td>Info Loker BUMN, PT Pos Indonesia (Persero) Bu...</td>\n      <td>Info Semarang Raya</td>\n      <td>2 hari lalu</td>\n      <td>Info Loker BUMN, PT Pos Indonesia (Persero) Bu...</td>\n      <td>https://serpapi.com/searches/61938ae02ff42124a...</td>\n    </tr>\n    <tr>\n      <th>4</th>\n      <td>4</td>\n      <td>5</td>\n      <td>https://m.industry.co.id/read/97287/incar-pasa...</td>\n      <td>Incar Pasar Milenial, Pos Indonesia Kembangkan...</td>\n      <td>Industry.co.id</td>\n      <td>3 hari lalu</td>\n      <td>INDUSTRY.co.id - Surabaya - PT Pos Indonesia (...</td>\n      <td>https://serpapi.com/searches/61938ae02ff42124a...</td>\n    </tr>\n  </tbody>\n</table>\n</div>"
     },
     "execution_count": 1,
     "metadata": {},
     "output_type": "execute_result"
    }
   ],
   "source": [
    "import pandas as pd\n",
    "import newspaper\n",
    "from newspaper import Article\n",
    "df = pd.read_excel('link 13 14 nov.xlsx')\n",
    "df.head()"
   ]
  },
  {
   "cell_type": "code",
   "execution_count": 2,
   "outputs": [
    {
     "data": {
      "text/plain": "['https://hot.grid.id/read/182993295/lowongan-kerja-bumn-pt-pos-indonesia-lulusan-sma-bisa-mendaftar-berikut-kualifikasi-lengkapnya?page=all',\n 'https://www.kabarbisnis.com/read/28110234/bidik-kaum-milenial-pos-indonesia-hadirkan-600-gerai-mypos',\n 'https://palembang.tribunnews.com/2021/11/13/lowongan-kerja-pt-pos-indonesia-persero-pria-atau-wanita-tamatan-sma-cek-ini-posisi-yang-dilamar',\n 'https://infosemarangraya.pikiran-rakyat.com/ekonomi/pr-1603008909/info-loker-bumn-pt-pos-indonesia-persero-buka-lowongan-kerja-minimal-sma-november-2021',\n 'https://m.industry.co.id/read/97287/incar-pasar-milenial-pos-indonesia-kembangkan-gerai-mypos',\n 'https://akurat.co/pos-indonesia-buka-lowongan-kerja-bagi-lulusan-slta-sikat',\n 'https://klikjatim.com/diawali-dari-surabaya-pos-indonesia-hadirkan-600-gera-mypos/',\n 'https://analisadaily.com/berita/baca/2021/11/14/1024253/magang-di-pos-indonesia-medan-johor-mahasiswa-usu-pelajari-operasional-pengiriman-barang/',\n 'https://jogja.tribunnews.com/2021/11/13/gandeng-yayasan-kanker-indonesia-film-kartu-pos-wini-bakal-dirilis-pada-hari-kanker-sedunia',\n 'https://sport.tempo.co/read/1528634/asia-talent-cup-2021-di-mandalika-ditunda-herlian-dandi-matangkan-persiapan',\n 'https://www.theiconomics.com/millennial/mypos-yang-membidik-milenial/',\n 'https://radarsolo.jawapos.com/nasional/13/11/2021/indonesia-terima-8-juta-vasin-sinovac-kejar-vaksinasi-123-juta-warga/',\n 'https://ambon.antaranews.com/berita/112297/bank-indonesia-dukung-akselerasi-wisata-dan-pemulihan-ekonomi-malut-intensifkan-kerja-sama',\n 'https://kabartegal.pikiran-rakyat.com/kabar-tegal/pr-933007948/varian-corona-ay-sudah-sampai-di-malaysia-pemerintah-perketat-pintu-masuk-perbatasan',\n 'https://www.kemenkopmk.go.id/serahkan-jaring-dan-motor-sampah-siap-bantu-perbaiki-rumah-kurang-layak-huni',\n 'https://energysiren.co.ke/2021/11/15/retail-pos-software-market-size-revenue-analysis-vend-eposnow-shopkeep-lightspeed-revel-pos-nation/',\n 'https://radarsemarang.jawapos.com/berita/nasional/2021/11/14/roadmap-hilirisasi-produk-kelapa-sawit-untuk-menjadikan-indonesia-sebagai-price-center-bagi-cpo-global/',\n 'https://mediaindopos.com/2021/11/15/husin-shahab-cabut-laporan-polisi-terhadap-greenpeace/',\n 'https://infosemarangraya.pikiran-rakyat.com/ekonomi/pr-1603012592/info-loker-erigo-indonesia-buka-lowongan-kerja-pada-8-posisi-terbaru-november-2021',\n 'https://kendaripos.co.id/2021/11/mtq-v-korpri-nasional-dibuka-wamenag/',\n 'https://mediaindopos.com/2021/11/14/atlet-atlet-indonesia-tak-sabar-uji-lapangan-jelang-indonesia-masters-2021/',\n 'https://baliexpress.jawapos.com/sportainment/13/11/2021/presiden-jokowi-tantang-sean-galael-wakili-indonesia-di-formula-e',\n 'https://halmaherapost.com/2021/11/14/pesona-kie-raha-cara-bi-dukung-umkm-dan-pariwisata-di-maluku-utara/',\n 'https://www.jawapos.com/oto-dan-tekno/13/11/2021/honda-cb150x-resmi-meluncur-di-indonesia-ini-harganya/',\n 'https://wartakota.tribunnews.com/2021/11/14/sinemata-gandeng-yayasan-kanker-indonesia-produksi-film-kartu-pos-wini-yang-unik-dan-inspiratif',\n 'https://kalselpos.com/2021/11/14/ketersediaan-insulin-untuk-pasien-diabetes-belum-merata-di-indonesia-000/',\n 'https://kupang.tribunnews.com/2021/11/15/jenderal-andika-perkasa-resmikan-brigade-kavaleri-pertama-di-indonesia-ini-manfaatnya',\n 'https://baliexpress.jawapos.com/sportainment/14/11/2021/3-pebalap-indonesia-start-dari-baris-ketiga-motogp-junior-di-mandalika',\n 'https://bolanas.bolasport.com/read/492994434/latihan-kucing-kucingan-timnas-indonesia-hanya-libatkan-calon-starter-di-piala-aff-2020?page=all',\n 'https://kendaripos.co.id/2021/11/prabowo-korbrimob-pasukan-tangguh-andalan-bangsa-2/',\n 'https://radarkediri.jawapos.com/show-case/15/11/2021/airlangga-indonesia-butuh-generasi-muda-adaptif-dan-inovatif',\n 'https://www.cnbcindonesia.com/market/20211115091055-17-291455/ihsg-tampak-sulit-capai-rekor-meski-dibuka-dari-zona-hijau',\n 'https://nusadaily.com/news/metro/den-paparkan-komitmen-ri-bangun-energi-bersih-di-forum-cop.html',\n 'https://mediaindopos.com/2021/11/14/jangan-khawatir-harga-jual-hyundai-creta-anjlok-dijamin-pabrikan/',\n 'https://energysiren.co.ke/2021/11/13/intelligent-pos-market-analysis-by-size-share-industry-growth-and-forecasts-till-2030/',\n 'https://mediaindopos.com/2021/11/14/ui-menempati-peringkat-i-indonesia-us-news-best-global-universities/',\n 'https://www.jawapos.com/oto-dan-tekno/15/11/2021/q3-2021-vivo-klaim-jadi-merek-ponsel-nomor-satu-di-indonesia/',\n 'https://mediaindopos.com/2021/11/13/produksi-pesawat-n219-jenis-amphibi-terhambat-anggaran/',\n 'https://mediaindopos.com/2021/11/15/kemenkes-susun-roadmap-diabetes-melitus/',\n 'https://www.jawapos.com/surabaya/14/11/2021/ratusan-pohon-bonsai-terbaik-dari-indonesia-dipamerkan-di-surabaya/',\n 'https://www.jawapos.com/surabaya/14/11/2021/bersyukur-kembali-pulang-ke-indonesia-belanda-kini-lockdown/',\n 'https://kupang.tribunnews.com/2021/11/13/tumbuh-positif-pemerintah-optimis-ekonomi-indonesia-capai-q4',\n 'https://kendaripos.co.id/2021/11/perpustakaan-sultra-3-besar-terbanyak-di-indonesia-optimalisasi-fungsi/',\n 'https://mediaindopos.com/2021/11/14/yuta-watanabe-pemain-ganda-campuran-jepang-senang-kunjungi-bali/',\n 'https://radarsemarang.jawapos.com/berita/nasional/2021/11/13/pemulihan-sektor-transportasi-dan-pergudangan-untuk-mengakselerasi-pemulihan-berbagai-aktivitas-ekonomi/',\n 'https://radarbojonegoro.jawapos.com/berita-daerah/tuban/15/11/2021/matakin-doakan-indonesia-pulih-dari-pandemi',\n 'https://kalselpos.com/2021/11/14/gelora-indonesia-banjarbaru-siap-bawa-obor-harapan-rakyat/',\n 'https://www.cnbcindonesia.com/market/20211115103516-17-291485/ihsg-reli-laba-jpmorgan-indonesia-kok-bisa-anjlok-95',\n 'https://sekato.id/buat-sim-mudah-bagi-kaum-rebahan/',\n 'https://radarbali.jawapos.com/berita-daerah/dwipa/14/11/2021/virolog-unud-minta-waspadai-gelombang-ketiga-dan-varian-delta-plus',\n 'https://www.ceposonline.com/2021/11/15/lunaskan-janji-menko-pmk-bantu-perbaiki-rumah-kurang-layak-huni/',\n 'https://www.jawapos.com/sports/14/11/2021/waktu-kali-pertama-ke-indonesia-kami-terkejut-dengan-penontonnya/',\n 'https://www.agrofarm.co.id/2021/11/karantina-pertanian-jayapura-garda-terdepan-perbatasan-indonesia-dan-papua-nugini/',\n 'https://radarmojokerto.jawapos.com/ekonomi/13/11/2021/menko-airlangga-ajak-investasi-di-kawasan-ekonomi-khusus',\n 'https://radarjombang.jawapos.com/jombang-banget/14/11/2021/kenalkan-batik-jombangan-di-ajang-putri-batik-remaja-indonesia',\n 'https://mediaindopos.com/2021/11/13/ketua-dpd-ri-aa-lanyalla-tekankan-pentingnya-pembinaan-atlet/',\n 'https://baliexpress.jawapos.com/nasional/14/11/2021/dukung-idc-2021-rektor-unr-tugas-kami-mengedukasi-dan-diedukasi',\n 'https://radarbromo.jawapos.com/ekonomi-bisnis/15/11/2021/roadmap-hilirisasi-produk-kelapa-sawit-jadikan-indonesia-price-center/',\n 'https://www.kompas.tv/article/231883/menko-pmk-serahkan-bantuan-ke-kampung-nelayan-kumuh-di-papua',\n 'https://www.jawapos.com/sepak-bola/sepak-bola-indonesia/13/11/2021/targetkan-ada-perwakilan-penonton-di-pekan-ke-14-atau-ke-15/',\n 'https://jateng.antaranews.com/berita/415601/pemkot-pekalongan-membuka-pos-layanan-vaksinasi-di-kelurahan',\n 'https://m.industry.co.id/read/97352/artis-ruth-berperan-di-film-kartu-pos-wini-kisah-gadis-pengidap-kanker-darah',\n 'https://mediaindopos.com/2021/11/15/peringatan-keras-luhut-ke-lsm-penyebar-berita-yang-tidak-benar/',\n 'https://www.jawapos.com/sports/13/11/2021/pemain-indonesia-yang-berteman-akrab-denganku-melati-dan-greysia/',\n 'https://nasional.okezone.com/read/2021/11/15/337/2501863/ini-langkah-satgas-covid-19-cegah-varian-ay4-2-masuk-indonesia',\n 'https://radarsolo.jawapos.com/ekonomi/14/11/2021/contact-center-bri-raih-14-penghargaan-dari-icca/',\n 'https://radarsolo.jawapos.com/sport/sport-nasional/14/11/2021/vietnam-mundur-sebagai-tuan-rumah-asean-para-games/',\n 'https://kupang.tribunnews.com/2021/11/15/hasil-survey-elektabilitas-meningkat-pemilih-jokowi-disebut-mulai-melirik-prabowo',\n 'https://www.jawapos.com/oto-dan-tekno/otomotif/14/11/2021/pakai-cara-kekinian-mitsubishi-beri-kemudahan-layanan-untuk-konsumen/',\n 'https://www.jawapos.com/lifestyle/15/11/2021/pasar-fashion-muslim-indonesia-bertengger-di-top-5-besar-dunia/',\n 'https://www.jawapos.com/ekonomi/15/11/2021/bps-neraca-perdagangan-ri-oktober-2021-kembali-surplus-usd-573-m/',\n 'https://industri.kontan.co.id/news/merger-isat-dan-tri-indonesia-dinilai-akan-memberikan-dampak-maksimal-pada-20242026',\n 'https://www.jawapos.com/oto-dan-tekno/otomotif/13/11/2021/wuling-kenalkan-mobil-listrik-global-small-electric-vehicle-di-giias/',\n 'https://banpos.co/2021/11/13/didominasi-anak-muda-prima-banten-dikukuhkan/',\n 'https://www.jawapos.com/oto-dan-tekno/otomotif/14/11/2021/antusias-pengunjun-tinggi-antrean-giias-2021-mengular/',\n 'https://baliexpress.jawapos.com/bisnis/14/11/2021/ppnbm-penjualan-daihatsu-meningkat-sampai-30-persen',\n 'https://mediaindopos.com/2021/11/14/aksi-nekat-makan-kunyit-mentah-bikin-kesal-netizen/',\n 'https://radarsolo.jawapos.com/entertainment/13/11/2021/ini-cerita-artis-88rising-asal-indonesia-di-festival-head-in-the-cloud/',\n 'https://www.cnbcindonesia.com/news/20211115081527-4-291435/siap-siap-harga-baju-celana-impor-jadi-lebih-mahal',\n 'https://kendaripos.co.id/2021/11/menkes-apresiasi-webinar-nasional-hkn-farmasi-uho/',\n 'http://kominfo.jatimprov.go.id/read/umum/bi-pasar-kapasan-jadi-pilot-project-pasar-siap-qris',\n 'https://www.jawapos.com/oto-dan-tekno/otomotif/13/11/2021/mazda-bakal-serius-garap-pasar-suv-di-indonesia/',\n 'https://www.liputan6.com/showbiz/read/4710692/film-kartu-pos-wini-menyorot-kisah-seorang-gadis-pengidap-kanker-darah',\n 'https://radarsurabaya.jawapos.com/ekonomi/14/11/2021/konsisten-beri-layanan-prima-contact-center-bri-raih-14-penghargaan-icca/',\n 'https://pks.id/content/presiden-pks-kunjungi-bangka-pos-kuatkan-sinergi-dengan-pers',\n 'https://www.law-justice.co/artikel/119754/bahayanya-tito-karnavian-dan-andika-perkasa/',\n 'https://mediaindopos.com/2021/11/14/menhan-prabowo-hadiri-peringatan-remembrance-sunday-di-tpu-menteng-pulo/',\n 'https://batampos.co.id/2021/11/15/ada-yang-mendukung-agar-garuda-dipailitkan/',\n 'https://padek.jawapos.com/kerjasama/bankbri/14/11/2021/berdaya-bersama-bri-rudi-jadi-pahlawan-kembangkan-kampung-sayur-cempoko/',\n 'https://www.telusur.co.id/detail/legislator-gerindra-sesalkan-balapan-perdana-di-sirkuit-mandalika-batal-nama-indonesia-tercoreng',\n 'https://www.medcom.id/nasional/daerah/Gbmo2gOK-cegah-varian-delta-plus-perbatasan-indonesia-timor-leste-diperketat',\n 'https://radarbali.jawapos.com/sportainment/15/11/2021/pertama-kali-injakkan-kaki-kento-momota-langsung-terkesan-bali',\n 'https://www.jawapos.com/oto-dan-tekno/13/11/2021/lama-ditunggu-toyota-akhirnya-distribusikan-gr-yaris-ke-konsumen/',\n 'https://lombokpost.jawapos.com/ekonomi-bisnis/14/11/2021/lebih-berdaya-bersama-bri-pensiunan-tni-kembangkan-kampung-sayur-cempoko/',\n 'https://pospapua.com/semakin-ambisius-aksi-iklim-semakin-baik-bagi-perekonomian-indonesia-akademisi/',\n 'https://www.timesindonesia.co.id/read/news/381693/muhaimin-perintahkan-kader-pkb-turun-tangan-batu-korban-bajir-sintang',\n 'https://www.cnnindonesia.com/nasional/20211114143909-20-720986/32-ribu-warga-di-sintang-masih-mengungsi-akibat-banjir',\n 'https://kendaripos.co.id/2021/11/sultra-juara-iii-nasional/',\n 'https://www.suarapemredkalbar.com/read/nasional/15112021/jaksa-agung-buka-posko-pengaduan-korban-mafia-tanah',\n 'https://mediaindopos.com/2021/11/15/harga-minyak-terjun-bebas-gegara-inflasi-as-meroket/']"
     },
     "execution_count": 2,
     "metadata": {},
     "output_type": "execute_result"
    }
   ],
   "source": [
    "urls = df['link'].to_list()\n",
    "urls"
   ],
   "metadata": {
    "collapsed": false,
    "pycharm": {
     "name": "#%%\n"
    }
   }
  },
  {
   "cell_type": "code",
   "execution_count": 3,
   "outputs": [
    {
     "name": "stdout",
     "output_type": "stream",
     "text": [
      "Article `download()` failed with 500 Server Error: Internal Server Error for url: https://nusadaily.com/news/metro/den-paparkan-komitmen-ri-bangun-energi-bersih-di-forum-cop.html on URL https://nusadaily.com/news/metro/den-paparkan-komitmen-ri-bangun-energi-bersih-di-forum-cop.html\n",
      "Article `download()` failed with 502 Server Error: Bad Gateway for url: https://www.agrofarm.co.id/2021/11/karantina-pertanian-jayapura-garda-terdepan-perbatasan-indonesia-dan-papua-nugini/ on URL https://www.agrofarm.co.id/2021/11/karantina-pertanian-jayapura-garda-terdepan-perbatasan-indonesia-dan-papua-nugini/\n",
      "Article `download()` failed with ('Connection aborted.', RemoteDisconnected('Remote end closed connection without response')) on URL https://jateng.antaranews.com/berita/415601/pemkot-pekalongan-membuka-pos-layanan-vaksinasi-di-kelurahan\n",
      "Article `download()` failed with 403 Client Error: Forbidden for url: https://www.law-justice.co/artikel/119754/bahayanya-tito-karnavian-dan-andika-perkasa/ on URL https://www.law-justice.co/artikel/119754/bahayanya-tito-karnavian-dan-andika-perkasa/\n",
      "Article `download()` failed with HTTPSConnectionPool(host='batampos.co.id', port=443): Read timed out. (read timeout=7) on URL https://batampos.co.id/2021/11/15/ada-yang-mendukung-agar-garuda-dipailitkan/\n"
     ]
    }
   ],
   "source": [
    "data = []\n",
    "for url in urls:\n",
    "    try:\n",
    "        a = Article(url, language='id')\n",
    "        a.download()\n",
    "        a.parse()\n",
    "\n",
    "    except newspaper.ArticleException as e:\n",
    "        print(e)\n",
    "\n",
    "    else:\n",
    "        author = a.authors\n",
    "        dates = a.publish_date\n",
    "        add_data = a.additional_data\n",
    "        text = a.text\n",
    "        tag = a.tags\n",
    "        title = a.title\n",
    "        keywords = a.keywords\n",
    "\n",
    "\n",
    "        new_df = pd.DataFrame({'penulis':[author],'tanggal':[dates],'additional':[add_data],'berita':[text],'tags':[tag],'judul':[title],'kata':[keywords]})\n",
    "        data.append(new_df)\n",
    "\n",
    "df = pd.concat(data)\n",
    "\n"
   ],
   "metadata": {
    "collapsed": false,
    "pycharm": {
     "name": "#%%\n"
    }
   }
  },
  {
   "cell_type": "code",
   "execution_count": 5,
   "outputs": [
    {
     "data": {
      "text/plain": "                                         penulis                    tanggal  \\\n0                                             []        2021-11-13 00:00:00   \n0                                             []  2021-11-13 15:04:00+07:00   \n0                       [Pt Akurat Sentra Media]        2021-11-14 13:05:00   \n0  [M. Shohibul Anwar - Klikjatim.Com, Reporter]  2021-11-15 03:08:04+00:00   \n0                                             []        2021-11-14 00:00:00   \n\n  additional                                             berita  \\\n0         {}  Ilustrasi lowonga kerja PT Pos Indonesia\\n\\nSR...   \n0         {}  INDUSTRY.co.id - Surabaya - PT Pos Indonesia (...   \n0         {}  AKURAT.CO, PT Pos Indonesia dalam rangka untuk...   \n0         {}  KLIKJATIM.Com | Surabaya – PT Pos Indonesia me...   \n0         {}  Mahasiswa USU Magang di Pos Indonesia Cabang M...   \n\n                                                tags  \\\n0  {#Lowongan Kerja Palembang, PT Pos Indonesia (...   \n0   {#bumn, #jababeka, #menperin, #industri, #kadin}   \n0  {# Infotainment, # Wabah Corona, # lowongan te...   \n0                                                 {}   \n0                                                 {}   \n\n                                               judul kata  \n0  Lowongan Kerja PT Pos Indonesia (Persero), Pri...   []  \n0  Incar Pasar Milenial, Pos Indonesia Kembangkan...   []  \n0  Pos Indonesia Buka Lowongan Kerja Bagi Lulusan...   []  \n0  Diawali dari Surabaya, Pos Indonesia Hadirkan ...   []  \n0  Magang di Pos Indonesia Medan Johor, Mahasiswa...   []  ",
      "text/html": "<div>\n<style scoped>\n    .dataframe tbody tr th:only-of-type {\n        vertical-align: middle;\n    }\n\n    .dataframe tbody tr th {\n        vertical-align: top;\n    }\n\n    .dataframe thead th {\n        text-align: right;\n    }\n</style>\n<table border=\"1\" class=\"dataframe\">\n  <thead>\n    <tr style=\"text-align: right;\">\n      <th></th>\n      <th>penulis</th>\n      <th>tanggal</th>\n      <th>additional</th>\n      <th>berita</th>\n      <th>tags</th>\n      <th>judul</th>\n      <th>kata</th>\n    </tr>\n  </thead>\n  <tbody>\n    <tr>\n      <th>0</th>\n      <td>[]</td>\n      <td>2021-11-13 00:00:00</td>\n      <td>{}</td>\n      <td>Ilustrasi lowonga kerja PT Pos Indonesia\\n\\nSR...</td>\n      <td>{#Lowongan Kerja Palembang, PT Pos Indonesia (...</td>\n      <td>Lowongan Kerja PT Pos Indonesia (Persero), Pri...</td>\n      <td>[]</td>\n    </tr>\n    <tr>\n      <th>0</th>\n      <td>[]</td>\n      <td>2021-11-13 15:04:00+07:00</td>\n      <td>{}</td>\n      <td>INDUSTRY.co.id - Surabaya - PT Pos Indonesia (...</td>\n      <td>{#bumn, #jababeka, #menperin, #industri, #kadin}</td>\n      <td>Incar Pasar Milenial, Pos Indonesia Kembangkan...</td>\n      <td>[]</td>\n    </tr>\n    <tr>\n      <th>0</th>\n      <td>[Pt Akurat Sentra Media]</td>\n      <td>2021-11-14 13:05:00</td>\n      <td>{}</td>\n      <td>AKURAT.CO, PT Pos Indonesia dalam rangka untuk...</td>\n      <td>{# Infotainment, # Wabah Corona, # lowongan te...</td>\n      <td>Pos Indonesia Buka Lowongan Kerja Bagi Lulusan...</td>\n      <td>[]</td>\n    </tr>\n    <tr>\n      <th>0</th>\n      <td>[M. Shohibul Anwar - Klikjatim.Com, Reporter]</td>\n      <td>2021-11-15 03:08:04+00:00</td>\n      <td>{}</td>\n      <td>KLIKJATIM.Com | Surabaya – PT Pos Indonesia me...</td>\n      <td>{}</td>\n      <td>Diawali dari Surabaya, Pos Indonesia Hadirkan ...</td>\n      <td>[]</td>\n    </tr>\n    <tr>\n      <th>0</th>\n      <td>[]</td>\n      <td>2021-11-14 00:00:00</td>\n      <td>{}</td>\n      <td>Mahasiswa USU Magang di Pos Indonesia Cabang M...</td>\n      <td>{}</td>\n      <td>Magang di Pos Indonesia Medan Johor, Mahasiswa...</td>\n      <td>[]</td>\n    </tr>\n  </tbody>\n</table>\n</div>"
     },
     "execution_count": 5,
     "metadata": {},
     "output_type": "execute_result"
    }
   ],
   "source": [
    "import numpy as np\n",
    "df = df.replace(to_replace='None', value=np.nan).dropna()\n",
    "df.head()"
   ],
   "metadata": {
    "collapsed": false,
    "pycharm": {
     "name": "#%%\n"
    }
   }
  },
  {
   "cell_type": "code",
   "execution_count": 6,
   "outputs": [],
   "source": [
    "old_dates = df['tanggal']\n",
    "df['tanggal'] = df['tanggal'].apply(lambda a: pd.to_datetime(a).date())"
   ],
   "metadata": {
    "collapsed": false,
    "pycharm": {
     "name": "#%%\n"
    }
   }
  },
  {
   "cell_type": "code",
   "execution_count": 7,
   "outputs": [],
   "source": [
    "df.to_excel(\"berita 13 14.xlsx\")\n"
   ],
   "metadata": {
    "collapsed": false,
    "pycharm": {
     "name": "#%%\n"
    }
   }
  }
 ],
 "metadata": {
  "kernelspec": {
   "name": "python3",
   "language": "python",
   "display_name": "Python 3 (ipykernel)"
  },
  "language_info": {
   "codemirror_mode": {
    "name": "ipython",
    "version": 2
   },
   "file_extension": ".py",
   "mimetype": "text/x-python",
   "name": "python",
   "nbconvert_exporter": "python",
   "pygments_lexer": "ipython2",
   "version": "2.7.6"
  }
 },
 "nbformat": 4,
 "nbformat_minor": 0
}