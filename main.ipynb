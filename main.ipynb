{
 "cells": [
  {
   "cell_type": "code",
   "execution_count": 18,
   "metadata": {
    "collapsed": true
   },
   "outputs": [],
   "source": [
    "import pandas as pd\n",
    "import newspaper\n",
    "from newspaper import Article\n",
    "df = pd.read_excel('PT. Wahana Prestasi Logistik OR Wahana EXpress OR Kurir wahana.xlsx')\n",
    "urls = df['link'].to_list()"
   ]
  },
  {
   "cell_type": "code",
   "execution_count": 23,
   "outputs": [
    {
     "data": {
      "text/plain": "   Unnamed: 0  position                                               link  \\\n0           0         1  https://news.detik.com/berita/d-5765652/duh-ko...   \n1           1         2  https://www.suara.com/news/2021/05/21/195347/c...   \n2           2         3  https://www.viva.co.id/digital/digilife/139100...   \n3           3         4  https://mediakonsumen.com/2021/05/04/surat-pem...   \n4           4         5  https://mediakonsumen.com/2021/08/21/surat-pem...   \n\n                                               title          source  \\\n0  Duh! Kok Pencabutan Tiang Makan Jalan di Ciput...       detikNews   \n1            Cara Mengecek Cek Resi Wahana, Gampang!       Suara.com   \n2  2 Cara Cek Resi Wahana Express dengan Mudah da...            Viva   \n3  Pengiriman Menggunakan Wahana Express Mengecew...  Media Konsumen   \n4  Paket Diretur, Wahana Express Meminta Ongkir 2...  Media Konsumen   \n\n           date                                            snippet  \\\n0   15 jam lalu  Tangkil. 5. 1 buah di depan Kantor Sekretariat...   \n1   21 Mei 2021  Wahana Express telah memiliki layanan pengirim...   \n2   28 Jul 2021  Wahana Express merupakan salah satu perusahaan...   \n3    4 Mei 2021  Selamat siang Bpk/Ibu Yth Wahana Express. Mung...   \n4  1 bulan lalu  10 komentar untuk “Paket Diretur, Wahana Expre...   \n\n                                           thumbnail  \n0  https://serpapi.com/searches/616795291c450a350...  \n1  https://serpapi.com/searches/616795291c450a350...  \n2  https://serpapi.com/searches/616795291c450a350...  \n3  https://serpapi.com/searches/616795291c450a350...  \n4  https://serpapi.com/searches/616795291c450a350...  ",
      "text/html": "<div>\n<style scoped>\n    .dataframe tbody tr th:only-of-type {\n        vertical-align: middle;\n    }\n\n    .dataframe tbody tr th {\n        vertical-align: top;\n    }\n\n    .dataframe thead th {\n        text-align: right;\n    }\n</style>\n<table border=\"1\" class=\"dataframe\">\n  <thead>\n    <tr style=\"text-align: right;\">\n      <th></th>\n      <th>Unnamed: 0</th>\n      <th>position</th>\n      <th>link</th>\n      <th>title</th>\n      <th>source</th>\n      <th>date</th>\n      <th>snippet</th>\n      <th>thumbnail</th>\n    </tr>\n  </thead>\n  <tbody>\n    <tr>\n      <th>0</th>\n      <td>0</td>\n      <td>1</td>\n      <td>https://news.detik.com/berita/d-5765652/duh-ko...</td>\n      <td>Duh! Kok Pencabutan Tiang Makan Jalan di Ciput...</td>\n      <td>detikNews</td>\n      <td>15 jam lalu</td>\n      <td>Tangkil. 5. 1 buah di depan Kantor Sekretariat...</td>\n      <td>https://serpapi.com/searches/616795291c450a350...</td>\n    </tr>\n    <tr>\n      <th>1</th>\n      <td>1</td>\n      <td>2</td>\n      <td>https://www.suara.com/news/2021/05/21/195347/c...</td>\n      <td>Cara Mengecek Cek Resi Wahana, Gampang!</td>\n      <td>Suara.com</td>\n      <td>21 Mei 2021</td>\n      <td>Wahana Express telah memiliki layanan pengirim...</td>\n      <td>https://serpapi.com/searches/616795291c450a350...</td>\n    </tr>\n    <tr>\n      <th>2</th>\n      <td>2</td>\n      <td>3</td>\n      <td>https://www.viva.co.id/digital/digilife/139100...</td>\n      <td>2 Cara Cek Resi Wahana Express dengan Mudah da...</td>\n      <td>Viva</td>\n      <td>28 Jul 2021</td>\n      <td>Wahana Express merupakan salah satu perusahaan...</td>\n      <td>https://serpapi.com/searches/616795291c450a350...</td>\n    </tr>\n    <tr>\n      <th>3</th>\n      <td>3</td>\n      <td>4</td>\n      <td>https://mediakonsumen.com/2021/05/04/surat-pem...</td>\n      <td>Pengiriman Menggunakan Wahana Express Mengecew...</td>\n      <td>Media Konsumen</td>\n      <td>4 Mei 2021</td>\n      <td>Selamat siang Bpk/Ibu Yth Wahana Express. Mung...</td>\n      <td>https://serpapi.com/searches/616795291c450a350...</td>\n    </tr>\n    <tr>\n      <th>4</th>\n      <td>4</td>\n      <td>5</td>\n      <td>https://mediakonsumen.com/2021/08/21/surat-pem...</td>\n      <td>Paket Diretur, Wahana Express Meminta Ongkir 2...</td>\n      <td>Media Konsumen</td>\n      <td>1 bulan lalu</td>\n      <td>10 komentar untuk “Paket Diretur, Wahana Expre...</td>\n      <td>https://serpapi.com/searches/616795291c450a350...</td>\n    </tr>\n  </tbody>\n</table>\n</div>"
     },
     "execution_count": 23,
     "metadata": {},
     "output_type": "execute_result"
    }
   ],
   "source": [
    "df.head()"
   ],
   "metadata": {
    "collapsed": false,
    "pycharm": {
     "name": "#%%\n"
    }
   }
  },
  {
   "cell_type": "code",
   "execution_count": 24,
   "outputs": [
    {
     "name": "stdout",
     "output_type": "stream",
     "text": [
      "Article `download()` failed with 403 Client Error: Forbidden for url: https://ekonomi.bisnis.com/read/20210920/620/1444463/universal-studios-beijing-makin-populer-di-tengah-kampanye-antibudaya-barat on URL https://ekonomi.bisnis.com/read/20210920/620/1444463/universal-studios-beijing-makin-populer-di-tengah-kampanye-antibudaya-barat\n",
      "Article `download()` failed with ('Connection aborted.', ConnectionResetError(104, 'Connection reset by peer')) on URL https://money.kompas.com/read/2021/08/19/114418926/cara-cek-ongkir-jt-jne-tiki-sicepat-dan-pos-indonesia\n",
      "Article `download()` failed with ('Connection aborted.', ConnectionResetError(104, 'Connection reset by peer')) on URL https://www.kompas.com/tren/read/2021/05/12/162900865/jadwal-operasional-perusahaan-ekspedisi-selama-libur-lebaran-2021?page=all\n",
      "Article `download()` failed with 403 Client Error: Forbidden for url: https://teknologi.bisnis.com/read/20210211/84/1355455/pencarian-planet-layak-huni-europa-clipper-siap-diluncurkan on URL https://teknologi.bisnis.com/read/20210211/84/1355455/pencarian-planet-layak-huni-europa-clipper-siap-diluncurkan\n",
      "Article `download()` failed with ('Connection aborted.', ConnectionResetError(104, 'Connection reset by peer')) on URL https://money.kompas.com/read/2021/05/17/140300926/pakar-hukum-ui-nilai-pembentukan-goto-tidak-ciptakan-monopoli\n",
      "Article `download()` failed with HTTPSConnectionPool(host='www.tribunnews.com', port=443): Read timed out. (read timeout=7) on URL https://www.tribunnews.com/sport/2019/10/09/daftar-tim-peserta-livoli-divisi-utama-2019-digelar-di-tangerang-mulai-minggu-13-oktober\n",
      "Article `download()` failed with HTTPSConnectionPool(host='mancode.id', port=443): Max retries exceeded with url: /berita/mantap-jt-express-menyandang-gelar-unicorn-baru/ (Caused by ConnectTimeoutError(<urllib3.connection.HTTPSConnection object at 0x7f9694eb6be0>, 'Connection to mancode.id timed out. (connect timeout=7)')) on URL https://mancode.id/berita/mantap-jt-express-menyandang-gelar-unicorn-baru/\n",
      "Article `download()` failed with ('Connection aborted.', ConnectionResetError(104, 'Connection reset by peer')) on URL https://megapolitan.kompas.com/read/2021/05/28/08005191/kala-sicepat-ekspress-tolak-mediasi-usai-kurirnya-diancam-senjata-tajam?page=all\n",
      "Article `download()` failed with 403 Client Error: Forbidden for url: https://ekonomi.bisnis.com/read/20210124/98/1347054/tarif-sewa-gudang-di-soetta-naik-kemenhub-fasilitasi-dialog on URL https://ekonomi.bisnis.com/read/20210124/98/1347054/tarif-sewa-gudang-di-soetta-naik-kemenhub-fasilitasi-dialog\n",
      "Article `download()` failed with 503 Server Error: Service Temporarily Unavailable for url: https://id.investing.com/news/economy/5-keluarga-kaya-indonesia-yang-investasi-di-startup-1974113 on URL https://id.investing.com/news/economy/5-keluarga-kaya-indonesia-yang-investasi-di-startup-1974113\n",
      "Article `download()` failed with 403 Client Error: Forbidden for url: https://poskota.co.id/2021/10/07/yayasan-wahana-artha-dukung-potensi-anak-pengungsi-afganistan-donasikan-fasilitas-olahraga-karate on URL https://poskota.co.id/2021/10/07/yayasan-wahana-artha-dukung-potensi-anak-pengungsi-afganistan-donasikan-fasilitas-olahraga-karate\n",
      "Article `download()` failed with 403 Client Error: Forbidden for url: https://poskota.co.id/2021/08/27/sedang-antarkan-paket-barang-paket-kurir-sekarung-ditaruh-di-motor-raib-digondol-maling-di-gator-subroto-jaksel on URL https://poskota.co.id/2021/08/27/sedang-antarkan-paket-barang-paket-kurir-sekarung-ditaruh-di-motor-raib-digondol-maling-di-gator-subroto-jaksel\n",
      "Article `download()` failed with ('Connection aborted.', ConnectionResetError(104, 'Connection reset by peer')) on URL https://aceh.tribunnews.com/2021/04/19/video-viral-air-kolam-renang-atlantis-keruh-penjelasan-manajemen-taman-impian-jaya-ancol\n",
      "Article `download()` failed with ('Connection aborted.', ConnectionResetError(104, 'Connection reset by peer')) on URL https://medan.tribunnews.com/2021/08/11/arung-jeram-sungai-bingei-lokasi-wisata-di-langkat-yang-memacu-adrenalin\n",
      "Article `download()` failed with ('Connection aborted.', ConnectionResetError(104, 'Connection reset by peer')) on URL https://majalah.tempo.co/read/info-tempo/162815/rups-pt-pos-indonesia-angkat-siti-choiriana-sebagai-direktur-bisnis-kurir-dan-logistik\n",
      "Article `download()` failed with ('Connection aborted.', ConnectionResetError(104, 'Connection reset by peer')) on URL https://cantik.tempo.co/read/1344315/mau-kirim-paket-saat-pandemi-corona-ikuti-4-tips-aman-ini\n",
      "Article `download()` failed with HTTPSConnectionPool(host='pingpoint.co.id', port=443): Read timed out. (read timeout=7) on URL https://pingpoint.co.id/berita/pos-indonesia-layani-pengiriman-weekend-dan-beri-diskon-20-persen/\n"
     ]
    }
   ],
   "source": [
    "data = []\n",
    "for url in urls:\n",
    "    try:\n",
    "        a = Article(url, language='id')\n",
    "        a.download()\n",
    "        a.parse()\n",
    "\n",
    "    except newspaper.ArticleException as e:\n",
    "        print(e)\n",
    "\n",
    "    else:\n",
    "        author = a.authors\n",
    "        dates = a.publish_date\n",
    "        add_data = a.additional_data\n",
    "        text = a.text\n",
    "        tag = a.tags\n",
    "        title = a.title\n",
    "        keywords = a.keywords\n",
    "\n",
    "\n",
    "        new_df = pd.DataFrame({'penulis':[author],'tanggal':[dates],'additional':[add_data],'berita':[text],'tags':[tag],'judul':[title],'kata':[keywords]})\n",
    "        data.append(new_df)\n",
    "\n",
    "df = pd.concat(data)\n",
    "\n"
   ],
   "metadata": {
    "collapsed": false,
    "pycharm": {
     "name": "#%%\n"
    }
   }
  },
  {
   "cell_type": "code",
   "execution_count": 43,
   "outputs": [
    {
     "data": {
      "text/plain": "                                             penulis              tanggal  \\\n0  [Firda Cynthia Anggrainy Al Djokya, Https, Www...  2021-10-13 18:25:26   \n\n  additional                                             berita  \\\n0         {}  Sama seperti kondisi pekan lalu, situasi 'tian...   \n\n                                                tags  \\\n0  {tangerang selatan, tiang makan jalan, detikco...   \n\n                                               judul kata  \n0  Duh! Kok Pencabutan Tiang Makan Jalan di Ciput...   []  ",
      "text/html": "<div>\n<style scoped>\n    .dataframe tbody tr th:only-of-type {\n        vertical-align: middle;\n    }\n\n    .dataframe tbody tr th {\n        vertical-align: top;\n    }\n\n    .dataframe thead th {\n        text-align: right;\n    }\n</style>\n<table border=\"1\" class=\"dataframe\">\n  <thead>\n    <tr style=\"text-align: right;\">\n      <th></th>\n      <th>penulis</th>\n      <th>tanggal</th>\n      <th>additional</th>\n      <th>berita</th>\n      <th>tags</th>\n      <th>judul</th>\n      <th>kata</th>\n    </tr>\n  </thead>\n  <tbody>\n    <tr>\n      <th>0</th>\n      <td>[Firda Cynthia Anggrainy Al Djokya, Https, Www...</td>\n      <td>2021-10-13 18:25:26</td>\n      <td>{}</td>\n      <td>Sama seperti kondisi pekan lalu, situasi 'tian...</td>\n      <td>{tangerang selatan, tiang makan jalan, detikco...</td>\n      <td>Duh! Kok Pencabutan Tiang Makan Jalan di Ciput...</td>\n      <td>[]</td>\n    </tr>\n  </tbody>\n</table>\n</div>"
     },
     "execution_count": 43,
     "metadata": {},
     "output_type": "execute_result"
    }
   ],
   "source": [
    "df.head(1)"
   ],
   "metadata": {
    "collapsed": false,
    "pycharm": {
     "name": "#%%\n"
    }
   }
  },
  {
   "cell_type": "code",
   "execution_count": 44,
   "outputs": [
    {
     "ename": "AttributeError",
     "evalue": "'NoneType' object has no attribute 'date'",
     "output_type": "error",
     "traceback": [
      "\u001B[0;31m---------------------------------------------------------------------------\u001B[0m",
      "\u001B[0;31mAttributeError\u001B[0m                            Traceback (most recent call last)",
      "\u001B[0;32m/tmp/ipykernel_401/274321751.py\u001B[0m in \u001B[0;36m<module>\u001B[0;34m\u001B[0m\n\u001B[0;32m----> 1\u001B[0;31m \u001B[0mdf\u001B[0m\u001B[0;34m[\u001B[0m\u001B[0;34m'tanggal'\u001B[0m\u001B[0;34m]\u001B[0m \u001B[0;34m=\u001B[0m \u001B[0mdf\u001B[0m\u001B[0;34m[\u001B[0m\u001B[0;34m'tanggal'\u001B[0m\u001B[0;34m]\u001B[0m\u001B[0;34m.\u001B[0m\u001B[0mapply\u001B[0m\u001B[0;34m(\u001B[0m\u001B[0;32mlambda\u001B[0m \u001B[0ma\u001B[0m\u001B[0;34m:\u001B[0m \u001B[0mpd\u001B[0m\u001B[0;34m.\u001B[0m\u001B[0mto_datetime\u001B[0m\u001B[0;34m(\u001B[0m\u001B[0ma\u001B[0m\u001B[0;34m)\u001B[0m\u001B[0;34m.\u001B[0m\u001B[0mdate\u001B[0m\u001B[0;34m(\u001B[0m\u001B[0;34m)\u001B[0m\u001B[0;34m)\u001B[0m\u001B[0;34m\u001B[0m\u001B[0;34m\u001B[0m\u001B[0m\n\u001B[0m\u001B[1;32m      2\u001B[0m \u001B[0;34m\u001B[0m\u001B[0m\n\u001B[1;32m      3\u001B[0m \u001B[0;34m\u001B[0m\u001B[0m\n",
      "\u001B[0;32m~/PycharmProjects/Topic-Modelling/venv/lib/python3.9/site-packages/pandas/core/series.py\u001B[0m in \u001B[0;36mapply\u001B[0;34m(self, func, convert_dtype, args, **kwargs)\u001B[0m\n\u001B[1;32m   4355\u001B[0m         \u001B[0mdtype\u001B[0m\u001B[0;34m:\u001B[0m \u001B[0mfloat64\u001B[0m\u001B[0;34m\u001B[0m\u001B[0;34m\u001B[0m\u001B[0m\n\u001B[1;32m   4356\u001B[0m         \"\"\"\n\u001B[0;32m-> 4357\u001B[0;31m         \u001B[0;32mreturn\u001B[0m \u001B[0mSeriesApply\u001B[0m\u001B[0;34m(\u001B[0m\u001B[0mself\u001B[0m\u001B[0;34m,\u001B[0m \u001B[0mfunc\u001B[0m\u001B[0;34m,\u001B[0m \u001B[0mconvert_dtype\u001B[0m\u001B[0;34m,\u001B[0m \u001B[0margs\u001B[0m\u001B[0;34m,\u001B[0m \u001B[0mkwargs\u001B[0m\u001B[0;34m)\u001B[0m\u001B[0;34m.\u001B[0m\u001B[0mapply\u001B[0m\u001B[0;34m(\u001B[0m\u001B[0;34m)\u001B[0m\u001B[0;34m\u001B[0m\u001B[0;34m\u001B[0m\u001B[0m\n\u001B[0m\u001B[1;32m   4358\u001B[0m \u001B[0;34m\u001B[0m\u001B[0m\n\u001B[1;32m   4359\u001B[0m     def _reduce(\n",
      "\u001B[0;32m~/PycharmProjects/Topic-Modelling/venv/lib/python3.9/site-packages/pandas/core/apply.py\u001B[0m in \u001B[0;36mapply\u001B[0;34m(self)\u001B[0m\n\u001B[1;32m   1041\u001B[0m             \u001B[0;32mreturn\u001B[0m \u001B[0mself\u001B[0m\u001B[0;34m.\u001B[0m\u001B[0mapply_str\u001B[0m\u001B[0;34m(\u001B[0m\u001B[0;34m)\u001B[0m\u001B[0;34m\u001B[0m\u001B[0;34m\u001B[0m\u001B[0m\n\u001B[1;32m   1042\u001B[0m \u001B[0;34m\u001B[0m\u001B[0m\n\u001B[0;32m-> 1043\u001B[0;31m         \u001B[0;32mreturn\u001B[0m \u001B[0mself\u001B[0m\u001B[0;34m.\u001B[0m\u001B[0mapply_standard\u001B[0m\u001B[0;34m(\u001B[0m\u001B[0;34m)\u001B[0m\u001B[0;34m\u001B[0m\u001B[0;34m\u001B[0m\u001B[0m\n\u001B[0m\u001B[1;32m   1044\u001B[0m \u001B[0;34m\u001B[0m\u001B[0m\n\u001B[1;32m   1045\u001B[0m     \u001B[0;32mdef\u001B[0m \u001B[0magg\u001B[0m\u001B[0;34m(\u001B[0m\u001B[0mself\u001B[0m\u001B[0;34m)\u001B[0m\u001B[0;34m:\u001B[0m\u001B[0;34m\u001B[0m\u001B[0;34m\u001B[0m\u001B[0m\n",
      "\u001B[0;32m~/PycharmProjects/Topic-Modelling/venv/lib/python3.9/site-packages/pandas/core/apply.py\u001B[0m in \u001B[0;36mapply_standard\u001B[0;34m(self)\u001B[0m\n\u001B[1;32m   1097\u001B[0m                 \u001B[0;31m# List[Union[Callable[..., Any], str]]]]]\"; expected\u001B[0m\u001B[0;34m\u001B[0m\u001B[0;34m\u001B[0m\u001B[0m\n\u001B[1;32m   1098\u001B[0m                 \u001B[0;31m# \"Callable[[Any], Any]\"\u001B[0m\u001B[0;34m\u001B[0m\u001B[0;34m\u001B[0m\u001B[0m\n\u001B[0;32m-> 1099\u001B[0;31m                 mapped = lib.map_infer(\n\u001B[0m\u001B[1;32m   1100\u001B[0m                     \u001B[0mvalues\u001B[0m\u001B[0;34m,\u001B[0m\u001B[0;34m\u001B[0m\u001B[0;34m\u001B[0m\u001B[0m\n\u001B[1;32m   1101\u001B[0m                     \u001B[0mf\u001B[0m\u001B[0;34m,\u001B[0m  \u001B[0;31m# type: ignore[arg-type]\u001B[0m\u001B[0;34m\u001B[0m\u001B[0;34m\u001B[0m\u001B[0m\n",
      "\u001B[0;32m~/PycharmProjects/Topic-Modelling/venv/lib/python3.9/site-packages/pandas/_libs/lib.pyx\u001B[0m in \u001B[0;36mpandas._libs.lib.map_infer\u001B[0;34m()\u001B[0m\n",
      "\u001B[0;32m/tmp/ipykernel_401/274321751.py\u001B[0m in \u001B[0;36m<lambda>\u001B[0;34m(a)\u001B[0m\n\u001B[0;32m----> 1\u001B[0;31m \u001B[0mdf\u001B[0m\u001B[0;34m[\u001B[0m\u001B[0;34m'tanggal'\u001B[0m\u001B[0;34m]\u001B[0m \u001B[0;34m=\u001B[0m \u001B[0mdf\u001B[0m\u001B[0;34m[\u001B[0m\u001B[0;34m'tanggal'\u001B[0m\u001B[0;34m]\u001B[0m\u001B[0;34m.\u001B[0m\u001B[0mapply\u001B[0m\u001B[0;34m(\u001B[0m\u001B[0;32mlambda\u001B[0m \u001B[0ma\u001B[0m\u001B[0;34m:\u001B[0m \u001B[0mpd\u001B[0m\u001B[0;34m.\u001B[0m\u001B[0mto_datetime\u001B[0m\u001B[0;34m(\u001B[0m\u001B[0ma\u001B[0m\u001B[0;34m)\u001B[0m\u001B[0;34m.\u001B[0m\u001B[0mdate\u001B[0m\u001B[0;34m(\u001B[0m\u001B[0;34m)\u001B[0m\u001B[0;34m)\u001B[0m\u001B[0;34m\u001B[0m\u001B[0;34m\u001B[0m\u001B[0m\n\u001B[0m\u001B[1;32m      2\u001B[0m \u001B[0;34m\u001B[0m\u001B[0m\n\u001B[1;32m      3\u001B[0m \u001B[0;34m\u001B[0m\u001B[0m\n",
      "\u001B[0;31mAttributeError\u001B[0m: 'NoneType' object has no attribute 'date'"
     ]
    }
   ],
   "source": [
    "from datetime import datetime.datetime.dt\n",
    "dt = dt_tz.replace(tzinfo=None)\n",
    "'''df['tanggal'] = df['tanggal'].apply\\\n",
    "    (lambda a: pd.to_datetime(a).date())'''\n"
   ],
   "metadata": {
    "collapsed": false,
    "pycharm": {
     "name": "#%%\n"
    }
   }
  },
  {
   "cell_type": "code",
   "execution_count": 38,
   "outputs": [
    {
     "ename": "ValueError",
     "evalue": "Excel does not support datetimes with timezones. Please ensure that datetimes are timezone unaware before writing to Excel.",
     "output_type": "error",
     "traceback": [
      "\u001B[0;31m---------------------------------------------------------------------------\u001B[0m",
      "\u001B[0;31mValueError\u001B[0m                                Traceback (most recent call last)",
      "\u001B[0;32m/tmp/ipykernel_401/1465975515.py\u001B[0m in \u001B[0;36m<module>\u001B[0;34m\u001B[0m\n\u001B[0;32m----> 1\u001B[0;31m \u001B[0mdf\u001B[0m\u001B[0;34m.\u001B[0m\u001B[0mto_excel\u001B[0m\u001B[0;34m(\u001B[0m\u001B[0;34m\"berita PT. Wahana Prestasi Logistik OR Wahana EXpress OR Kurir wahana.xlsx\"\u001B[0m\u001B[0;34m)\u001B[0m\u001B[0;34m\u001B[0m\u001B[0;34m\u001B[0m\u001B[0m\n\u001B[0m\u001B[1;32m      2\u001B[0m \u001B[0;34m\u001B[0m\u001B[0m\n",
      "\u001B[0;32m~/PycharmProjects/Topic-Modelling/venv/lib/python3.9/site-packages/pandas/core/generic.py\u001B[0m in \u001B[0;36mto_excel\u001B[0;34m(self, excel_writer, sheet_name, na_rep, float_format, columns, header, index, index_label, startrow, startcol, engine, merge_cells, encoding, inf_rep, verbose, freeze_panes, storage_options)\u001B[0m\n\u001B[1;32m   2282\u001B[0m             \u001B[0minf_rep\u001B[0m\u001B[0;34m=\u001B[0m\u001B[0minf_rep\u001B[0m\u001B[0;34m,\u001B[0m\u001B[0;34m\u001B[0m\u001B[0;34m\u001B[0m\u001B[0m\n\u001B[1;32m   2283\u001B[0m         )\n\u001B[0;32m-> 2284\u001B[0;31m         formatter.write(\n\u001B[0m\u001B[1;32m   2285\u001B[0m             \u001B[0mexcel_writer\u001B[0m\u001B[0;34m,\u001B[0m\u001B[0;34m\u001B[0m\u001B[0;34m\u001B[0m\u001B[0m\n\u001B[1;32m   2286\u001B[0m             \u001B[0msheet_name\u001B[0m\u001B[0;34m=\u001B[0m\u001B[0msheet_name\u001B[0m\u001B[0;34m,\u001B[0m\u001B[0;34m\u001B[0m\u001B[0;34m\u001B[0m\u001B[0m\n",
      "\u001B[0;32m~/PycharmProjects/Topic-Modelling/venv/lib/python3.9/site-packages/pandas/io/formats/excel.py\u001B[0m in \u001B[0;36mwrite\u001B[0;34m(self, writer, sheet_name, startrow, startcol, freeze_panes, engine, storage_options)\u001B[0m\n\u001B[1;32m    838\u001B[0m \u001B[0;34m\u001B[0m\u001B[0m\n\u001B[1;32m    839\u001B[0m         \u001B[0;32mtry\u001B[0m\u001B[0;34m:\u001B[0m\u001B[0;34m\u001B[0m\u001B[0;34m\u001B[0m\u001B[0m\n\u001B[0;32m--> 840\u001B[0;31m             writer.write_cells(\n\u001B[0m\u001B[1;32m    841\u001B[0m                 \u001B[0mformatted_cells\u001B[0m\u001B[0;34m,\u001B[0m\u001B[0;34m\u001B[0m\u001B[0;34m\u001B[0m\u001B[0m\n\u001B[1;32m    842\u001B[0m                 \u001B[0msheet_name\u001B[0m\u001B[0;34m,\u001B[0m\u001B[0;34m\u001B[0m\u001B[0;34m\u001B[0m\u001B[0m\n",
      "\u001B[0;32m~/PycharmProjects/Topic-Modelling/venv/lib/python3.9/site-packages/pandas/io/excel/_openpyxl.py\u001B[0m in \u001B[0;36mwrite_cells\u001B[0;34m(self, cells, sheet_name, startrow, startcol, freeze_panes)\u001B[0m\n\u001B[1;32m    455\u001B[0m             )\n\u001B[1;32m    456\u001B[0m \u001B[0;34m\u001B[0m\u001B[0m\n\u001B[0;32m--> 457\u001B[0;31m         \u001B[0;32mfor\u001B[0m \u001B[0mcell\u001B[0m \u001B[0;32min\u001B[0m \u001B[0mcells\u001B[0m\u001B[0;34m:\u001B[0m\u001B[0;34m\u001B[0m\u001B[0;34m\u001B[0m\u001B[0m\n\u001B[0m\u001B[1;32m    458\u001B[0m             xcell = wks.cell(\n\u001B[1;32m    459\u001B[0m                 \u001B[0mrow\u001B[0m\u001B[0;34m=\u001B[0m\u001B[0mstartrow\u001B[0m \u001B[0;34m+\u001B[0m \u001B[0mcell\u001B[0m\u001B[0;34m.\u001B[0m\u001B[0mrow\u001B[0m \u001B[0;34m+\u001B[0m \u001B[0;36m1\u001B[0m\u001B[0;34m,\u001B[0m \u001B[0mcolumn\u001B[0m\u001B[0;34m=\u001B[0m\u001B[0mstartcol\u001B[0m \u001B[0;34m+\u001B[0m \u001B[0mcell\u001B[0m\u001B[0;34m.\u001B[0m\u001B[0mcol\u001B[0m \u001B[0;34m+\u001B[0m \u001B[0;36m1\u001B[0m\u001B[0;34m\u001B[0m\u001B[0;34m\u001B[0m\u001B[0m\n",
      "\u001B[0;32m~/PycharmProjects/Topic-Modelling/venv/lib/python3.9/site-packages/pandas/io/formats/excel.py\u001B[0m in \u001B[0;36mget_formatted_cells\u001B[0;34m(self)\u001B[0m\n\u001B[1;32m    776\u001B[0m     \u001B[0;32mdef\u001B[0m \u001B[0mget_formatted_cells\u001B[0m\u001B[0;34m(\u001B[0m\u001B[0mself\u001B[0m\u001B[0;34m)\u001B[0m \u001B[0;34m->\u001B[0m \u001B[0mIterable\u001B[0m\u001B[0;34m[\u001B[0m\u001B[0mExcelCell\u001B[0m\u001B[0;34m]\u001B[0m\u001B[0;34m:\u001B[0m\u001B[0;34m\u001B[0m\u001B[0;34m\u001B[0m\u001B[0m\n\u001B[1;32m    777\u001B[0m         \u001B[0;32mfor\u001B[0m \u001B[0mcell\u001B[0m \u001B[0;32min\u001B[0m \u001B[0mitertools\u001B[0m\u001B[0;34m.\u001B[0m\u001B[0mchain\u001B[0m\u001B[0;34m(\u001B[0m\u001B[0mself\u001B[0m\u001B[0;34m.\u001B[0m\u001B[0m_format_header\u001B[0m\u001B[0;34m(\u001B[0m\u001B[0;34m)\u001B[0m\u001B[0;34m,\u001B[0m \u001B[0mself\u001B[0m\u001B[0;34m.\u001B[0m\u001B[0m_format_body\u001B[0m\u001B[0;34m(\u001B[0m\u001B[0;34m)\u001B[0m\u001B[0;34m)\u001B[0m\u001B[0;34m:\u001B[0m\u001B[0;34m\u001B[0m\u001B[0;34m\u001B[0m\u001B[0m\n\u001B[0;32m--> 778\u001B[0;31m             \u001B[0mcell\u001B[0m\u001B[0;34m.\u001B[0m\u001B[0mval\u001B[0m \u001B[0;34m=\u001B[0m \u001B[0mself\u001B[0m\u001B[0;34m.\u001B[0m\u001B[0m_format_value\u001B[0m\u001B[0;34m(\u001B[0m\u001B[0mcell\u001B[0m\u001B[0;34m.\u001B[0m\u001B[0mval\u001B[0m\u001B[0;34m)\u001B[0m\u001B[0;34m\u001B[0m\u001B[0;34m\u001B[0m\u001B[0m\n\u001B[0m\u001B[1;32m    779\u001B[0m             \u001B[0;32myield\u001B[0m \u001B[0mcell\u001B[0m\u001B[0;34m\u001B[0m\u001B[0;34m\u001B[0m\u001B[0m\n\u001B[1;32m    780\u001B[0m \u001B[0;34m\u001B[0m\u001B[0m\n",
      "\u001B[0;32m~/PycharmProjects/Topic-Modelling/venv/lib/python3.9/site-packages/pandas/io/formats/excel.py\u001B[0m in \u001B[0;36m_format_value\u001B[0;34m(self, val)\u001B[0m\n\u001B[1;32m    524\u001B[0m                 \u001B[0mval\u001B[0m \u001B[0;34m=\u001B[0m \u001B[0mfloat\u001B[0m\u001B[0;34m(\u001B[0m\u001B[0mself\u001B[0m\u001B[0;34m.\u001B[0m\u001B[0mfloat_format\u001B[0m \u001B[0;34m%\u001B[0m \u001B[0mval\u001B[0m\u001B[0;34m)\u001B[0m\u001B[0;34m\u001B[0m\u001B[0;34m\u001B[0m\u001B[0m\n\u001B[1;32m    525\u001B[0m         \u001B[0;32mif\u001B[0m \u001B[0mgetattr\u001B[0m\u001B[0;34m(\u001B[0m\u001B[0mval\u001B[0m\u001B[0;34m,\u001B[0m \u001B[0;34m\"tzinfo\"\u001B[0m\u001B[0;34m,\u001B[0m \u001B[0;32mNone\u001B[0m\u001B[0;34m)\u001B[0m \u001B[0;32mis\u001B[0m \u001B[0;32mnot\u001B[0m \u001B[0;32mNone\u001B[0m\u001B[0;34m:\u001B[0m\u001B[0;34m\u001B[0m\u001B[0;34m\u001B[0m\u001B[0m\n\u001B[0;32m--> 526\u001B[0;31m             raise ValueError(\n\u001B[0m\u001B[1;32m    527\u001B[0m                 \u001B[0;34m\"Excel does not support datetimes with \"\u001B[0m\u001B[0;34m\u001B[0m\u001B[0;34m\u001B[0m\u001B[0m\n\u001B[1;32m    528\u001B[0m                 \u001B[0;34m\"timezones. Please ensure that datetimes \"\u001B[0m\u001B[0;34m\u001B[0m\u001B[0;34m\u001B[0m\u001B[0m\n",
      "\u001B[0;31mValueError\u001B[0m: Excel does not support datetimes with timezones. Please ensure that datetimes are timezone unaware before writing to Excel."
     ]
    }
   ],
   "source": [
    "df.to_excel(\"berita PT. Wahana Prestasi Logistik OR Wahana EXpress OR Kurir wahana.xlsx\")\n"
   ],
   "metadata": {
    "collapsed": false,
    "pycharm": {
     "name": "#%%\n"
    }
   }
  }
 ],
 "metadata": {
  "kernelspec": {
   "display_name": "Python 3",
   "language": "python",
   "name": "python3"
  },
  "language_info": {
   "codemirror_mode": {
    "name": "ipython",
    "version": 2
   },
   "file_extension": ".py",
   "mimetype": "text/x-python",
   "name": "python",
   "nbconvert_exporter": "python",
   "pygments_lexer": "ipython2",
   "version": "2.7.6"
  }
 },
 "nbformat": 4,
 "nbformat_minor": 0
}