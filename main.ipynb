{
 "cells": [
  {
   "cell_type": "code",
   "execution_count": 1,
   "metadata": {
    "collapsed": true
   },
   "outputs": [],
   "source": [
    "import pandas as pd\n",
    "import newspaper\n",
    "from newspaper import Article\n",
    "df = pd.read_excel('link pos bloc.xlsx')\n",
    "urls = df['data'].to_list()"
   ]
  },
  {
   "cell_type": "code",
   "execution_count": 3,
   "outputs": [
    {
     "data": {
      "text/plain": "['https://travel.kompas.com/read/2021/10/14/191800827/pos-bloc-jakarta-sudah-buka-simak-syarat-kunjungannya',\n 'https://megapolitan.kompas.com/read/2021/10/11/12043311/pos-bloc-jakarta-ruang-kekinian-lengkap-dengan-wisata-kuliner-dan-produk?page=all',\n 'https://www.inews.id/multimedia/photo/pos-bloc-tempat-nongkrong-kreatif-dan-kekinian',\n 'https://bisnis.tempo.co/read/1517075/pos-bloc-dikunjungi-1-200-orang-selama-3-hari-usai-resmi-dibuka',\n 'https://lifestyle.sindonews.com/read/570666/156/pos-bloc-jakarta-tempat-nongkrong-kekinian-yang-lagi-hits-1634375431',\n 'https://metro.tempo.co/read/1516670/pos-bloc-wajah-baru-gedung-filateli-jakarta',\n 'https://m.tribunnews.com/travel/2021/10/13/pos-bloc-tongkrongan-baru-anak-muda-jakarta-ada-kedai-jamunya',\n 'https://www.kompasiana.com/tonnysy/616a635906310e2f2e76bc52/pos-bloc-destinasi-hangout-terkini-di-jakarta',\n 'https://www.idntimes.com/travel/destination/dhiya-azzahra/potret-pos-bloc-jakarta-viral',\n 'https://www.kompas.tv/article/221301/pos-bloc-jakarta-ruang-kreatif-anak-muda-inovasi-pt-pos-indonesia',\n 'https://m.merdeka.com/uang/erick-thohir-pos-bloc-jadi-wadah-dan-ruang-kreatif-bagi-generasi-milenial.html',\n 'https://travel.detik.com/domestic-destination/d-5747743/pos-bloc-jakarta-tempat-nongkrong-asyik-di-gedung-bersejarah',\n 'https://m.merdeka.com/foto/jakarta/asyiknya-nongkrong-di-pos-bloc-jakarta.html',\n 'https://www.cnnindonesia.com/gaya-hidup/20211008174642-272-705330/foto-pos-bloc-tempat-kongko-di-kemegahan-gedung-filateli',\n 'https://travel.detik.com/detiktv/d-5758026/pos-bloc-jakarta-hangout-asyik-sambil-belajar-sejarah-pos',\n 'https://kumparan.com/millennial/foto-pos-bloc-jakarta-ruang-kreatif-bernuansa-gedung-tua-belanda-1wh9ZIuARV3',\n 'https://www.liputan6.com/news/read/4680103/foto-pos-bloc-tempat-nongkrong-asyik-di-jakarta-pusat',\n 'https://travel.detik.com/fototravel/d-5749375/potret-wajah-baru-gedung-filateli-menjadi-pos-bloc',\n 'https://travel.detik.com/detiktv/d-5750510/nongkrong-asyik-dan-klasik-di-pos-bloc-eks-kantor-pos-pasar-baru',\n 'https://www.suara.com/foto/2021/10/09/180000/mengunjungi-pos-bloc-tempat-nongkrong-di-gedung-bersejarah-jakarta',\n 'https://video.tempo.co/read/26494/pos-bloc-wujud-transformasi-digital-pos-indonesia',\n 'https://www.republika.co.id/berita/r0rsvh314/menteri-bumn-resmikan-pos-bloc-jakarta',\n 'https://katadata.co.id/doddyrosadi/berita/615a763e749ab/majukan-kopi-indonesia-filosofi-kopi-buka-kedai-ketujuh-di-pos-bloc',\n 'https://www.indozone.id/news/0ysyv0a/foto-pembukaan-pos-bloc-jakarta',\n 'https://voi.id/berita/93767/gedung-filateli-jakarta-direnovasi-jadi-tempat-inongkrongi-dengan-nama-pos-bloc',\n 'https://www.jurnas.com/artikel/103418/Resmikan-Pos-Bloc-Eriek-Thohir-Minta-PT-Pos-Bertranformasi/',\n 'https://pingpoint.co.id/berita/hari-kopi-sedunia-gerai-filosofi-kopi-pos-bloc-jakarta-diresmikan/',\n 'https://jakarta.tribunnews.com/2021/09/29/menyusuri-pos-bloc-jakarta-ruang-kreatif-baru-di-tengah-ibu-kota',\n 'https://www.indozone.id/food/OjsXEz0/filosofi-kopi-pos-bloc-diresmikan-bertepatan-dengan-hari-kopi-internasional',\n 'https://travel.detik.com/domestic-destination/d-5749656/melihat-gedung-filateli-yang-kini-jadi-ruang-kreatif',\n 'https://www.beritasatu.com/gaya-hidup/840299/mrat-ekspansi-gerai-jejamu-bersama-pos-indonesia',\n 'https://www.idxchannel.com/foto-1/foto/bekas-kantor-pos-pertama-buatan-voc-di-batavia-disulap-jadi-tempat-nongkrong-anak-muda',\n 'https://news.detik.com/berita/d-5750806/masih-ingat-dengan-po-box-saat-surat-menyurat-ini-nih-bentuknya',\n 'https://coconuts.co/jakarta/lifestyle/pos-bloc-jakarta-combines-arts-culture-and-entertainment-at-historic-philatelic-building/',\n 'https://video.tribunnews.com/view/266761/tribun-travel-update-pos-bloc-jakarta-tempat-nongkrong-kekinian-di-gedung-era-hindia-belanda',\n 'https://www.msn.com/id-id/travel/ideperjalanan/10-potret-pos-bloc-jakarta-yang-viral-di-tiktok-banyak-spot-estetik/ar-AAPa6ZG?li=AAv04jD',\n 'https://memo-x.com/pos-blok-jakarta-menggabungkan-seni-budaya-dan-hiburan-di-gedung-filateli-yang-bersejarah/',\n 'https://nasional.tempo.co/read/1516008/pos-indonesia-optimistis-pospay-penuhi-kebutuhan-milenial',\n 'https://www.kompas.id/baca/gaya-hidup/2021/10/01/nongkrong-dan-kerja-di-gedung-filateli-jakarta/',\n 'https://m.medcom.id/ekonomi/bisnis/Rb1zxOek-pos-indonesia-optimistis-pospay-penuhi-target-dan-jadi-pemain-kunci-di-layanan-keuangan-digital',\n 'https://jakarta.tribunnews.com/2021/09/30/mengunjungi-toko-barang-antik-di-gedung-era-hindia-belanda',\n 'https://nusadaily.com/news/metro/sejak-kapan-sih-tukang-pos-ada-yuk-lihat-sejarahnya.html',\n 'https://www.tribunnews.com/seleb/2021/10/01/lanjutan-film-filosofi-kopi-bukan-lagi-drama-tapi-action-chicco-dan-rio-dewanto-beri-penjelasan',\n 'https://www.tribunnews.com/seleb/2021/09/29/prilly-latuconsina-nekat-buka-restoran-di-masa-pandemi-covid-19',\n 'https://katadata.co.id/padjar/berita/61232be4f20f9/mendekatkan-diri-ke-milenial-pos-indonesia-gagas-pos-bloc',\n 'https://www.merdeka.com/uang/erick-thohir-ingin-bangsa-indonesia-jadi-market-di-negara-sendiri.html',\n 'https://www.republika.co.id/berita/quqsvt314/pos-bloc-jakarta-ruang-kreatif-bagi-produk-umkm-dan-ukm',\n 'https://www.popbela.com/career/working-life/niken-ari/pos-bloc-tenant-hunt-hidupkan-kembali-kantor-gedung-filateli-jakarta',\n 'https://lepetitjournal.com/jakarta/a-voir-a-faire/pos-bloc-rehabilitation-batiment-historique-322385',\n 'https://entrepreneur.bisnis.com/read/20210507/263/1391805/ini-syarat-pelaku-usaha-jadi-tenant-di-pos-bloc-jakarta',\n 'https://www.washingtonpost.com/world/europe/czech-elections-babis-pandora-papers/2021/10/09/2bb985e2-2851-11ec-8739-5cb6aba30a30_story.html',\n 'https://nova.grid.id/read/052551479/pos-bloc-gedung-kantor-pos-pasar-baru-yang-akan-dialihfungsikan-jadi-ruang-kreatif-publik?page=all',\n 'https://lifestyle.sindonews.com/read/327106/166/manfaatkan-bangunan-heritage-pos-bloc-ingin-ikuti-jejak-m-bloc-space-1612645333',\n 'https://kumparan.com/millennial/pengembang-m-bloc-hadirkan-ruang-kreatif-di-bekas-gedung-kantor-pos-pasar-baru-1v7FwwKfxkc',\n 'https://lifestyle.sindonews.com/read/300412/166/pos-bloc-dari-gedung-kantor-pos-bersejarah-menuju-ruang-kreatif-publik-generasi-muda-1610546484',\n 'https://travel.kompas.com/read/2021/02/12/123100027/gedung-filateli-jakarta-bakal-diubah-jadi-tempat-nongkrong-kekinian?page=all',\n 'https://megapolitan.kompas.com/read/2021/03/30/06260031/bidik-anak-muda-gedung-filateli-jakarta-siap-disulap-jadi-tempat?page=all',\n 'https://hot.detik.com/music/d-5363337/gedung-filateli-bakal-alih-fungsi-jadi-ruang-kreatif-publik',\n 'https://www.jpnn.com/news/bekas-gedung-kantor-pos-bakal-disulap-jadi-ruang-kreatif-publik',\n 'https://bisnis.tempo.co/read/1505355/erick-thohir-ingin-pos-indonesia-jadi-central-distribution-hub-di-indonesia',\n 'https://hot.detik.com/art/d-5715766/jadi-ruang-kreatif-m-bloc-space-tambah-venue-di-gedung-jogja-national-museum',\n 'https://www.medcom.id/ekonomi/bisnis/gNQ840qK-pos-indonesia-optimalkan-penyaluran-bst-tahap-lanjutan',\n 'https://www.medcom.id/ekonomi/bisnis/VNxgQyxK-kembangkan-kewirausahaan-pos-indonesia-dan-gp-ansor-luncurkan-sobat-bayar',\n 'https://www.medcom.id/ekonomi/bisnis/0KvgP3RN-hut-ke-76-ri-pos-indonesia-optimalkan-layanan-posaja',\n 'https://www.medcom.id/ekonomi/bisnis/8N0jW1Ak-pengiriman-paket-melalui-kantor-pos-lampung-naik-300',\n 'https://ekonomi.bisnis.com/read/20210827/98/1434858/pos-indonesia-beri-diskon-untuk-pengiriman-barang-ke-luar-negeri',\n 'https://www.medcom.id/ekonomi/bisnis/GNG7GGxN-pospay-dan-pos-aja-transformasi-digital-pos-indonesia-di-usia-275-tahun',\n 'https://ekonomi.bisnis.com/read/20210914/98/1442189/pos-indonesia-luncurkan-aplikasi-posaja-paket-3-jam-sampai',\n 'https://www.medcom.id/ekonomi/bisnis/zNPZwRPk-luncurkan-pospay-layanan-keuangan-digital-pos-indonesia-jangkau-masyarakat-pelosok',\n 'https://www.medcom.id/ekonomi/bisnis/ybJOdAak-hut-ke-275-tahun-pos-indonesia-perkenalkan-pospay-giropos-digital-channel',\n 'https://ekonomi.bisnis.com/read/20210826/98/1434385/cuma-hari-ini-pos-indonesia-promo-diskon-hingga-75-persen',\n 'https://www.medcom.id/ekonomi/bisnis/0KvgZroN-posaja-layanan-digital-kurir-baru-dari-pos-indonesia',\n 'https://ekonomi.bisnis.com/read/20210830/98/1435644/pengiriman-pos-indonesia-naik-20-persen-saat-ppkm',\n 'https://ekbis.sindonews.com/read/514722/33/dicek-bunda-blt-tahap-lanjutan-rp600000-sudah-cair-lewat-kantor-pos-1629284898',\n 'https://ekonomi.bisnis.com/read/20210830/98/1435619/hut-ke-275-pos-indonesia-gratiskan-distribusi-4600-paket-apd',\n 'https://www.medcom.id/ekonomi/bisnis/3NO9Oypk-bantu-bulog-pos-indonesia-distribusikan-bantuan-beras-ppkm-ke-14-8-juta-penerima',\n 'https://ekonomi.bisnis.com/read/20210722/98/1420623/pos-logistik-mayoritas-pendapatan-kami-dari-bumn',\n 'https://megapolitan.kompas.com/read/2021/03/29/15485611/menengok-gedung-filateli-jakarta-yang-akan-direvitalisasi-menjadi-tempat?page=all',\n 'https://travel.detik.com/domestic-destination/d-5500481/m-bloc-market-pasar-produk-lokal-kekinian-jantung-ibu-kota',\n 'https://ekonomi.bisnis.com/read/20210510/98/1392658/pos-indonesia-dan-jne-tetap-beroperasi-selama-libur-lebaran-2021',\n 'https://www.medcom.id/ekonomi/bisnis/ybJO0l4k-pos-indonesia-masih-akan-salurkan-bst-hingga-agustus',\n 'https://ekbis.sindonews.com/read/542662/33/siapa-yang-berhak-dapat-blt-kantor-pos-rp300-ribu-cek-di-sini-bunda-1631794152',\n 'https://www.medcom.id/nasional/daerah/ybJWYqjk-kantor-pos-komodo-86700-distribusikan-vaksin-ke-tiga-kabupaten',\n 'https://ekbis.sindonews.com/read/540206/34/lakukan-7-transformasi-pendapatan-pos-indonesia-terkerek-720-di-semester-i2021-1631599773',\n 'https://www.medcom.id/nasional/daerah/0KvMjYwk-kantor-pos-karawang-terbuka-untuk-warga-terdampak-banjir',\n 'https://www.liputan6.com/cek-fakta/read/4619714/waspada-pesan-berantai-janjikan-hadiah-dari-pt-pos-indonesia',\n 'https://www.antaranews.com/berita/2354174/indonesia-terpilih-sebagai-anggota-dewan-pos-pbb',\n 'https://ekbis.sindonews.com/read/514660/34/permudah-masyarakat-pos-indonesia-optimalkan-layanan-posaja-1629281313',\n 'https://www.medcom.id/ekonomi/bisnis/Rb1zOw1k-tingkatkan-inklusi-keuangan-pos-indonesia-dan-btn-ajak-masyarakat-menabung-di-kantor-pos',\n 'https://ekbis.sindonews.com/read/495952/34/pos-indonesia-buka-lowongan-kerja-yuk-intip-syaratnya-1627535260',\n 'https://www.medcom.id/ekonomi/bisnis/ybJOrpwk-pos-indonesia-dan-bulog-gerak-cepat-ganti-beras-rusak-akibat-kapal-tenggelam',\n 'https://kabar24.bisnis.com/read/20210723/243/1421018/pt-pos-indonesia-buka-lowongan-kerja-untuk-25-posisi-begini-cara-daftarnya',\n 'https://ekbis.sindonews.com/read/505350/34/bulog-dan-pt-pos-respons-cepat-soal-beras-basah-di-angke-1628442536',\n 'https://megapolitan.kompas.com/read/2021/09/08/17570911/keluarga-korban-jiwa-kebakaran-lapas-tangerang-diminta-datang-ke-pos?page=all',\n 'https://megapolitan.kompas.com/read/2021/07/29/14452321/sebagian-petugas-rt-rw-di-depok-minta-pungutan-kantor-pos-klaim?page=all',\n 'https://www.medcom.id/ekonomi/bisnis/8N0wZ6zK-serentak-penyaluran-bst-petugas-pos-kediri-dibekali-telur-bebek-untuk-perkuat-imun',\n 'https://www.medcom.id/nasional/daerah/yNLP7agN-167-971-warga-bekasi-akan-terima-bst-rp600-ribu-ini-jadwalnya',\n 'https://bandung.bisnis.com/read/20210605/550/1401729/tak-ada-libur-kantor-pos-kini-beroperasi-24-jam-setiap-hari',\n 'https://market.bisnis.com/read/20210704/192/1413431/rhenald-kasali-jadi-komisaris-utama-baru-pos-indonesia-mulai-tugas-pekan-depan',\n 'https://ekbis.sindonews.com/read/517200/33/kabar-baik-blt-ppkm-rp600-ribu-cair-lagi-lewat-kantor-pos-1629472129']"
     },
     "execution_count": 3,
     "metadata": {},
     "output_type": "execute_result"
    }
   ],
   "source": [
    "urls"
   ],
   "metadata": {
    "collapsed": false,
    "pycharm": {
     "name": "#%%\n"
    }
   }
  },
  {
   "cell_type": "code",
   "execution_count": 4,
   "outputs": [
    {
     "name": "stdout",
     "output_type": "stream",
     "text": [
      "Article `download()` failed with HTTPSConnectionPool(host='www.jurnas.com', port=443): Read timed out. on URL https://www.jurnas.com/artikel/103418/Resmikan-Pos-Bloc-Eriek-Thohir-Minta-PT-Pos-Bertranformasi/\n",
      "Article `download()` failed with HTTPSConnectionPool(host='www.kompas.id', port=443): Read timed out. (read timeout=7) on URL https://www.kompas.id/baca/gaya-hidup/2021/10/01/nongkrong-dan-kerja-di-gedung-filateli-jakarta/\n",
      "Article `download()` failed with 403 Client Error: Forbidden for url: https://entrepreneur.bisnis.com/read/20210507/263/1391805/ini-syarat-pelaku-usaha-jadi-tenant-di-pos-bloc-jakarta on URL https://entrepreneur.bisnis.com/read/20210507/263/1391805/ini-syarat-pelaku-usaha-jadi-tenant-di-pos-bloc-jakarta\n",
      "Article `download()` failed with 403 Client Error: Forbidden for url: https://ekonomi.bisnis.com/read/20210827/98/1434858/pos-indonesia-beri-diskon-untuk-pengiriman-barang-ke-luar-negeri on URL https://ekonomi.bisnis.com/read/20210827/98/1434858/pos-indonesia-beri-diskon-untuk-pengiriman-barang-ke-luar-negeri\n",
      "Article `download()` failed with 403 Client Error: Forbidden for url: https://ekonomi.bisnis.com/read/20210914/98/1442189/pos-indonesia-luncurkan-aplikasi-posaja-paket-3-jam-sampai on URL https://ekonomi.bisnis.com/read/20210914/98/1442189/pos-indonesia-luncurkan-aplikasi-posaja-paket-3-jam-sampai\n",
      "Article `download()` failed with 403 Client Error: Forbidden for url: https://ekonomi.bisnis.com/read/20210826/98/1434385/cuma-hari-ini-pos-indonesia-promo-diskon-hingga-75-persen on URL https://ekonomi.bisnis.com/read/20210826/98/1434385/cuma-hari-ini-pos-indonesia-promo-diskon-hingga-75-persen\n",
      "Article `download()` failed with 403 Client Error: Forbidden for url: https://ekonomi.bisnis.com/read/20210830/98/1435644/pengiriman-pos-indonesia-naik-20-persen-saat-ppkm on URL https://ekonomi.bisnis.com/read/20210830/98/1435644/pengiriman-pos-indonesia-naik-20-persen-saat-ppkm\n",
      "Article `download()` failed with 403 Client Error: Forbidden for url: https://ekonomi.bisnis.com/read/20210830/98/1435619/hut-ke-275-pos-indonesia-gratiskan-distribusi-4600-paket-apd on URL https://ekonomi.bisnis.com/read/20210830/98/1435619/hut-ke-275-pos-indonesia-gratiskan-distribusi-4600-paket-apd\n",
      "Article `download()` failed with 403 Client Error: Forbidden for url: https://ekonomi.bisnis.com/read/20210722/98/1420623/pos-logistik-mayoritas-pendapatan-kami-dari-bumn on URL https://ekonomi.bisnis.com/read/20210722/98/1420623/pos-logistik-mayoritas-pendapatan-kami-dari-bumn\n",
      "Article `download()` failed with 403 Client Error: Forbidden for url: https://ekonomi.bisnis.com/read/20210510/98/1392658/pos-indonesia-dan-jne-tetap-beroperasi-selama-libur-lebaran-2021 on URL https://ekonomi.bisnis.com/read/20210510/98/1392658/pos-indonesia-dan-jne-tetap-beroperasi-selama-libur-lebaran-2021\n",
      "Article `download()` failed with 403 Client Error: Forbidden for url: https://kabar24.bisnis.com/read/20210723/243/1421018/pt-pos-indonesia-buka-lowongan-kerja-untuk-25-posisi-begini-cara-daftarnya on URL https://kabar24.bisnis.com/read/20210723/243/1421018/pt-pos-indonesia-buka-lowongan-kerja-untuk-25-posisi-begini-cara-daftarnya\n",
      "Article `download()` failed with 403 Client Error: Forbidden for url: https://bandung.bisnis.com/read/20210605/550/1401729/tak-ada-libur-kantor-pos-kini-beroperasi-24-jam-setiap-hari on URL https://bandung.bisnis.com/read/20210605/550/1401729/tak-ada-libur-kantor-pos-kini-beroperasi-24-jam-setiap-hari\n",
      "Article `download()` failed with 403 Client Error: Forbidden for url: https://market.bisnis.com/read/20210704/192/1413431/rhenald-kasali-jadi-komisaris-utama-baru-pos-indonesia-mulai-tugas-pekan-depan on URL https://market.bisnis.com/read/20210704/192/1413431/rhenald-kasali-jadi-komisaris-utama-baru-pos-indonesia-mulai-tugas-pekan-depan\n"
     ]
    }
   ],
   "source": [
    "data = []\n",
    "for url in urls:\n",
    "    try:\n",
    "        a = Article(url, language='id')\n",
    "        a.download()\n",
    "        a.parse()\n",
    "\n",
    "    except newspaper.ArticleException as e:\n",
    "        print(e)\n",
    "\n",
    "    else:\n",
    "        author = a.authors\n",
    "        dates = a.publish_date\n",
    "        add_data = a.additional_data\n",
    "        text = a.text\n",
    "        tag = a.tags\n",
    "        title = a.title\n",
    "        keywords = a.keywords\n",
    "\n",
    "\n",
    "        new_df = pd.DataFrame({'penulis':[author],'tanggal':[dates],'additional':[add_data],'berita':[text],'tags':[tag],'judul':[title],'kata':[keywords]})\n",
    "        data.append(new_df)\n",
    "\n",
    "df = pd.concat(data)\n",
    "\n"
   ],
   "metadata": {
    "collapsed": false,
    "pycharm": {
     "name": "#%%\n"
    }
   }
  },
  {
   "cell_type": "code",
   "execution_count": 5,
   "outputs": [
    {
     "data": {
      "text/plain": "                                              penulis  \\\n0   [Kompas Cyber Media, Nabilla Ramadhian, Antara...   \n0   [Kompas Cyber Media, Wahyu Adityo Prodjo, Dok....   \n0                    [Yulianto, Senin, Oktober - Wib]   \n0   [Kodrat Setiawan, Syaharani Putri, Reporter, E...   \n0                                      [Ahmad Haidir]   \n..                                                ...   \n0   [Kompas Cyber Media, Nirmala Maulana Achmad, K...   \n0   [Kompas Cyber Media, Vitorio Mantalean, Tangka...   \n0                          [Medcom.Id Developer, Ros]   \n0                          [Medcom.Id Developer, Syn]   \n0                                  [Nanang Wijayanto]   \n\n                      tanggal additional  \\\n0         2021-10-14 00:00:00         {}   \n0         2021-10-11 00:00:00         {}   \n0   2021-10-18 07:25:00+07:00         {}   \n0   2021-10-14 06:09:57+07:00         {}   \n0                        None         {}   \n..                        ...        ...   \n0         2021-09-08 00:00:00         {}   \n0         2021-07-29 00:00:00         {}   \n0   2021-07-18 16:10:01+07:00         {}   \n0   2021-07-20 17:23:08+07:00         {}   \n0                        None         {}   \n\n                                               berita  \\\n0   KOMPAS.com – Pos Bloc, spot wisata baru di Jak...   \n0   JAKARTA, KOMPAS.com - Menteri Badan Usaha Mili...   \n0   JAKARTA, iNews.id - Pengunjung saat menikmati ...   \n0   Suasana Pos Bloc di hari ketiga pembukaan pada...   \n0   loading...\\n\\nJakarta merupakan tempat nongkro...   \n..                                                ...   \n0   JAKARTA, KOMPAS.com - Keluarga korban jiwa keb...   \n0   DEPOK, KOMPAS.com - Kepala Kantor Pos Depok, J...   \n0   Bagaimana tanggapan anda mengenai artikel ini?...   \n0   Bagaimana tanggapan anda mengenai artikel ini?...   \n0   loading...\\n\\n- PT Pos Indonesia kembali menya...   \n\n                                                 tags  \\\n0   {#bau tak sedap, syarat wisata ke Pos Bloc Jak...   \n0   {#Soeharto, #Polda Metro Jaya, #Alex Noerdin, ...   \n0            {Pos Bloc, nongkrong, pos bloc, kreatif}   \n0   {Pasar Baru, #Toyota Avanza, #Wuling Almaz, #Y...   \n0   {# suami dibunuh, # mualaf, # viral di media s...   \n..                                                ...   \n0   {lapas kelas 1 tangerang kebakaran, kebakaran ...   \n0   {pungli BST, pungli BST depok, #Soeharto, #Pol...   \n0   {IHSG, bni, Bank Indonesia, Berita Kemensos, P...   \n0   {BST, mencegah kebakaran, muhaimin iskandar, p...   \n0   {# success story, # kisah sukses, # santri lir...   \n\n                                                judul kata  \n0   Pos Bloc Jakarta Sudah Buka, Simak Syarat Kunj...   []  \n0   Pos Bloc Jakarta, Ruang Kekinian Lengkap denga...   []  \n0     Pos Bloc, Tempat Nongkrong Kreatif dan Kekinian   []  \n0   Pos Bloc Dikunjungi 1.200 Orang Selama 3 Hari ...   []  \n0   Pos Bloc Jakarta, Tempat Nongkrong Kekinian ya...   []  \n..                                                ...  ...  \n0   Keluarga Korban Jiwa Kebakaran Lapas Tangerang...   []  \n0   Sebagian Petugas RT/RW di Depok Minta Pungutan...   []  \n0   Serentak Penyaluran BST, Petugas Pos Kediri Di...   []  \n0   167.971 Warga Bekasi Akan Terima BST Rp600 Rib...   []  \n0   Kabar Baik! BLT PPKM Rp600 Ribu Cair Lagi Lewa...   []  \n\n[87 rows x 7 columns]",
      "text/html": "<div>\n<style scoped>\n    .dataframe tbody tr th:only-of-type {\n        vertical-align: middle;\n    }\n\n    .dataframe tbody tr th {\n        vertical-align: top;\n    }\n\n    .dataframe thead th {\n        text-align: right;\n    }\n</style>\n<table border=\"1\" class=\"dataframe\">\n  <thead>\n    <tr style=\"text-align: right;\">\n      <th></th>\n      <th>penulis</th>\n      <th>tanggal</th>\n      <th>additional</th>\n      <th>berita</th>\n      <th>tags</th>\n      <th>judul</th>\n      <th>kata</th>\n    </tr>\n  </thead>\n  <tbody>\n    <tr>\n      <th>0</th>\n      <td>[Kompas Cyber Media, Nabilla Ramadhian, Antara...</td>\n      <td>2021-10-14 00:00:00</td>\n      <td>{}</td>\n      <td>KOMPAS.com – Pos Bloc, spot wisata baru di Jak...</td>\n      <td>{#bau tak sedap, syarat wisata ke Pos Bloc Jak...</td>\n      <td>Pos Bloc Jakarta Sudah Buka, Simak Syarat Kunj...</td>\n      <td>[]</td>\n    </tr>\n    <tr>\n      <th>0</th>\n      <td>[Kompas Cyber Media, Wahyu Adityo Prodjo, Dok....</td>\n      <td>2021-10-11 00:00:00</td>\n      <td>{}</td>\n      <td>JAKARTA, KOMPAS.com - Menteri Badan Usaha Mili...</td>\n      <td>{#Soeharto, #Polda Metro Jaya, #Alex Noerdin, ...</td>\n      <td>Pos Bloc Jakarta, Ruang Kekinian Lengkap denga...</td>\n      <td>[]</td>\n    </tr>\n    <tr>\n      <th>0</th>\n      <td>[Yulianto, Senin, Oktober - Wib]</td>\n      <td>2021-10-18 07:25:00+07:00</td>\n      <td>{}</td>\n      <td>JAKARTA, iNews.id - Pengunjung saat menikmati ...</td>\n      <td>{Pos Bloc, nongkrong, pos bloc, kreatif}</td>\n      <td>Pos Bloc, Tempat Nongkrong Kreatif dan Kekinian</td>\n      <td>[]</td>\n    </tr>\n    <tr>\n      <th>0</th>\n      <td>[Kodrat Setiawan, Syaharani Putri, Reporter, E...</td>\n      <td>2021-10-14 06:09:57+07:00</td>\n      <td>{}</td>\n      <td>Suasana Pos Bloc di hari ketiga pembukaan pada...</td>\n      <td>{Pasar Baru, #Toyota Avanza, #Wuling Almaz, #Y...</td>\n      <td>Pos Bloc Dikunjungi 1.200 Orang Selama 3 Hari ...</td>\n      <td>[]</td>\n    </tr>\n    <tr>\n      <th>0</th>\n      <td>[Ahmad Haidir]</td>\n      <td>None</td>\n      <td>{}</td>\n      <td>loading...\\n\\nJakarta merupakan tempat nongkro...</td>\n      <td>{# suami dibunuh, # mualaf, # viral di media s...</td>\n      <td>Pos Bloc Jakarta, Tempat Nongkrong Kekinian ya...</td>\n      <td>[]</td>\n    </tr>\n    <tr>\n      <th>...</th>\n      <td>...</td>\n      <td>...</td>\n      <td>...</td>\n      <td>...</td>\n      <td>...</td>\n      <td>...</td>\n      <td>...</td>\n    </tr>\n    <tr>\n      <th>0</th>\n      <td>[Kompas Cyber Media, Nirmala Maulana Achmad, K...</td>\n      <td>2021-09-08 00:00:00</td>\n      <td>{}</td>\n      <td>JAKARTA, KOMPAS.com - Keluarga korban jiwa keb...</td>\n      <td>{lapas kelas 1 tangerang kebakaran, kebakaran ...</td>\n      <td>Keluarga Korban Jiwa Kebakaran Lapas Tangerang...</td>\n      <td>[]</td>\n    </tr>\n    <tr>\n      <th>0</th>\n      <td>[Kompas Cyber Media, Vitorio Mantalean, Tangka...</td>\n      <td>2021-07-29 00:00:00</td>\n      <td>{}</td>\n      <td>DEPOK, KOMPAS.com - Kepala Kantor Pos Depok, J...</td>\n      <td>{pungli BST, pungli BST depok, #Soeharto, #Pol...</td>\n      <td>Sebagian Petugas RT/RW di Depok Minta Pungutan...</td>\n      <td>[]</td>\n    </tr>\n    <tr>\n      <th>0</th>\n      <td>[Medcom.Id Developer, Ros]</td>\n      <td>2021-07-18 16:10:01+07:00</td>\n      <td>{}</td>\n      <td>Bagaimana tanggapan anda mengenai artikel ini?...</td>\n      <td>{IHSG, bni, Bank Indonesia, Berita Kemensos, P...</td>\n      <td>Serentak Penyaluran BST, Petugas Pos Kediri Di...</td>\n      <td>[]</td>\n    </tr>\n    <tr>\n      <th>0</th>\n      <td>[Medcom.Id Developer, Syn]</td>\n      <td>2021-07-20 17:23:08+07:00</td>\n      <td>{}</td>\n      <td>Bagaimana tanggapan anda mengenai artikel ini?...</td>\n      <td>{BST, mencegah kebakaran, muhaimin iskandar, p...</td>\n      <td>167.971 Warga Bekasi Akan Terima BST Rp600 Rib...</td>\n      <td>[]</td>\n    </tr>\n    <tr>\n      <th>0</th>\n      <td>[Nanang Wijayanto]</td>\n      <td>None</td>\n      <td>{}</td>\n      <td>loading...\\n\\n- PT Pos Indonesia kembali menya...</td>\n      <td>{# success story, # kisah sukses, # santri lir...</td>\n      <td>Kabar Baik! BLT PPKM Rp600 Ribu Cair Lagi Lewa...</td>\n      <td>[]</td>\n    </tr>\n  </tbody>\n</table>\n<p>87 rows × 7 columns</p>\n</div>"
     },
     "execution_count": 5,
     "metadata": {},
     "output_type": "execute_result"
    }
   ],
   "source": [
    "df"
   ],
   "metadata": {
    "collapsed": false,
    "pycharm": {
     "name": "#%%\n"
    }
   }
  },
  {
   "cell_type": "code",
   "execution_count": 16,
   "outputs": [
    {
     "ename": "AttributeError",
     "evalue": "Can only use .dt accessor with datetimelike values",
     "output_type": "error",
     "traceback": [
      "\u001B[1;31m---------------------------------------------------------------------------\u001B[0m",
      "\u001B[1;31mAttributeError\u001B[0m                            Traceback (most recent call last)",
      "\u001B[1;32m~\\AppData\\Local\\Temp/ipykernel_9400/671707366.py\u001B[0m in \u001B[0;36m<module>\u001B[1;34m\u001B[0m\n\u001B[1;32m----> 1\u001B[1;33m \u001B[0mdf\u001B[0m\u001B[1;33m[\u001B[0m\u001B[1;34m'tanggal'\u001B[0m\u001B[1;33m]\u001B[0m \u001B[1;33m=\u001B[0m \u001B[0mpd\u001B[0m\u001B[1;33m.\u001B[0m\u001B[0mto_datetime\u001B[0m\u001B[1;33m(\u001B[0m\u001B[0mdf\u001B[0m\u001B[1;33m[\u001B[0m\u001B[1;34m\"tanggal\"\u001B[0m\u001B[1;33m]\u001B[0m\u001B[1;33m.\u001B[0m\u001B[0mdt\u001B[0m\u001B[1;33m.\u001B[0m\u001B[0mstrftime\u001B[0m\u001B[1;33m(\u001B[0m\u001B[1;34m'%Y-%m-%d'\u001B[0m\u001B[1;33m)\u001B[0m\u001B[1;33m)\u001B[0m\u001B[1;33m\u001B[0m\u001B[1;33m\u001B[0m\u001B[0m\n\u001B[0m\u001B[0;32m      2\u001B[0m \u001B[0mdf\u001B[0m\u001B[1;33m.\u001B[0m\u001B[0mhead\u001B[0m\u001B[1;33m(\u001B[0m\u001B[1;33m)\u001B[0m\u001B[1;33m\u001B[0m\u001B[1;33m\u001B[0m\u001B[0m\n",
      "\u001B[1;32m~\\PycharmProjects\\News_Scraping_Kampus_Merdeka\\venv\\lib\\site-packages\\pandas\\core\\generic.py\u001B[0m in \u001B[0;36m__getattr__\u001B[1;34m(self, name)\u001B[0m\n\u001B[0;32m   5485\u001B[0m         ):\n\u001B[0;32m   5486\u001B[0m             \u001B[1;32mreturn\u001B[0m \u001B[0mself\u001B[0m\u001B[1;33m[\u001B[0m\u001B[0mname\u001B[0m\u001B[1;33m]\u001B[0m\u001B[1;33m\u001B[0m\u001B[1;33m\u001B[0m\u001B[0m\n\u001B[1;32m-> 5487\u001B[1;33m         \u001B[1;32mreturn\u001B[0m \u001B[0mobject\u001B[0m\u001B[1;33m.\u001B[0m\u001B[0m__getattribute__\u001B[0m\u001B[1;33m(\u001B[0m\u001B[0mself\u001B[0m\u001B[1;33m,\u001B[0m \u001B[0mname\u001B[0m\u001B[1;33m)\u001B[0m\u001B[1;33m\u001B[0m\u001B[1;33m\u001B[0m\u001B[0m\n\u001B[0m\u001B[0;32m   5488\u001B[0m \u001B[1;33m\u001B[0m\u001B[0m\n\u001B[0;32m   5489\u001B[0m     \u001B[1;32mdef\u001B[0m \u001B[0m__setattr__\u001B[0m\u001B[1;33m(\u001B[0m\u001B[0mself\u001B[0m\u001B[1;33m,\u001B[0m \u001B[0mname\u001B[0m\u001B[1;33m:\u001B[0m \u001B[0mstr\u001B[0m\u001B[1;33m,\u001B[0m \u001B[0mvalue\u001B[0m\u001B[1;33m)\u001B[0m \u001B[1;33m->\u001B[0m \u001B[1;32mNone\u001B[0m\u001B[1;33m:\u001B[0m\u001B[1;33m\u001B[0m\u001B[1;33m\u001B[0m\u001B[0m\n",
      "\u001B[1;32m~\\PycharmProjects\\News_Scraping_Kampus_Merdeka\\venv\\lib\\site-packages\\pandas\\core\\accessor.py\u001B[0m in \u001B[0;36m__get__\u001B[1;34m(self, obj, cls)\u001B[0m\n\u001B[0;32m    179\u001B[0m             \u001B[1;31m# we're accessing the attribute of the class, i.e., Dataset.geo\u001B[0m\u001B[1;33m\u001B[0m\u001B[1;33m\u001B[0m\u001B[1;33m\u001B[0m\u001B[0m\n\u001B[0;32m    180\u001B[0m             \u001B[1;32mreturn\u001B[0m \u001B[0mself\u001B[0m\u001B[1;33m.\u001B[0m\u001B[0m_accessor\u001B[0m\u001B[1;33m\u001B[0m\u001B[1;33m\u001B[0m\u001B[0m\n\u001B[1;32m--> 181\u001B[1;33m         \u001B[0maccessor_obj\u001B[0m \u001B[1;33m=\u001B[0m \u001B[0mself\u001B[0m\u001B[1;33m.\u001B[0m\u001B[0m_accessor\u001B[0m\u001B[1;33m(\u001B[0m\u001B[0mobj\u001B[0m\u001B[1;33m)\u001B[0m\u001B[1;33m\u001B[0m\u001B[1;33m\u001B[0m\u001B[0m\n\u001B[0m\u001B[0;32m    182\u001B[0m         \u001B[1;31m# Replace the property with the accessor object. Inspired by:\u001B[0m\u001B[1;33m\u001B[0m\u001B[1;33m\u001B[0m\u001B[1;33m\u001B[0m\u001B[0m\n\u001B[0;32m    183\u001B[0m         \u001B[1;31m# https://www.pydanny.com/cached-property.html\u001B[0m\u001B[1;33m\u001B[0m\u001B[1;33m\u001B[0m\u001B[1;33m\u001B[0m\u001B[0m\n",
      "\u001B[1;32m~\\PycharmProjects\\News_Scraping_Kampus_Merdeka\\venv\\lib\\site-packages\\pandas\\core\\indexes\\accessors.py\u001B[0m in \u001B[0;36m__new__\u001B[1;34m(cls, data)\u001B[0m\n\u001B[0;32m    504\u001B[0m             \u001B[1;32mreturn\u001B[0m \u001B[0mPeriodProperties\u001B[0m\u001B[1;33m(\u001B[0m\u001B[0mdata\u001B[0m\u001B[1;33m,\u001B[0m \u001B[0morig\u001B[0m\u001B[1;33m)\u001B[0m\u001B[1;33m\u001B[0m\u001B[1;33m\u001B[0m\u001B[0m\n\u001B[0;32m    505\u001B[0m \u001B[1;33m\u001B[0m\u001B[0m\n\u001B[1;32m--> 506\u001B[1;33m         \u001B[1;32mraise\u001B[0m \u001B[0mAttributeError\u001B[0m\u001B[1;33m(\u001B[0m\u001B[1;34m\"Can only use .dt accessor with datetimelike values\"\u001B[0m\u001B[1;33m)\u001B[0m\u001B[1;33m\u001B[0m\u001B[1;33m\u001B[0m\u001B[0m\n\u001B[0m",
      "\u001B[1;31mAttributeError\u001B[0m: Can only use .dt accessor with datetimelike values"
     ]
    }
   ],
   "source": [
    "df['tanggal'] = pd.to_datetime(df[\"tanggal\"].dt.strftime('%Y-%m-%d'))\n",
    "df.head()"
   ],
   "metadata": {
    "collapsed": false,
    "pycharm": {
     "name": "#%%m\n"
    }
   }
  },
  {
   "cell_type": "code",
   "execution_count": 8,
   "outputs": [
    {
     "ename": "ValueError",
     "evalue": "Excel does not support datetimes with timezones. Please ensure that datetimes are timezone unaware before writing to Excel.",
     "output_type": "error",
     "traceback": [
      "\u001B[1;31m---------------------------------------------------------------------------\u001B[0m",
      "\u001B[1;31mValueError\u001B[0m                                Traceback (most recent call last)",
      "\u001B[1;32m~\\AppData\\Local\\Temp/ipykernel_9400/2824715915.py\u001B[0m in \u001B[0;36m<module>\u001B[1;34m\u001B[0m\n\u001B[1;32m----> 1\u001B[1;33m \u001B[0mdf\u001B[0m\u001B[1;33m.\u001B[0m\u001B[0mto_excel\u001B[0m\u001B[1;33m(\u001B[0m\u001B[1;34m\"berita pos bloc.xlsx\"\u001B[0m\u001B[1;33m)\u001B[0m\u001B[1;33m\u001B[0m\u001B[1;33m\u001B[0m\u001B[0m\n\u001B[0m\u001B[0;32m      2\u001B[0m \u001B[1;33m\u001B[0m\u001B[0m\n",
      "\u001B[1;32m~\\PycharmProjects\\News_Scraping_Kampus_Merdeka\\venv\\lib\\site-packages\\pandas\\core\\generic.py\u001B[0m in \u001B[0;36mto_excel\u001B[1;34m(self, excel_writer, sheet_name, na_rep, float_format, columns, header, index, index_label, startrow, startcol, engine, merge_cells, encoding, inf_rep, verbose, freeze_panes, storage_options)\u001B[0m\n\u001B[0;32m   2282\u001B[0m             \u001B[0minf_rep\u001B[0m\u001B[1;33m=\u001B[0m\u001B[0minf_rep\u001B[0m\u001B[1;33m,\u001B[0m\u001B[1;33m\u001B[0m\u001B[1;33m\u001B[0m\u001B[0m\n\u001B[0;32m   2283\u001B[0m         )\n\u001B[1;32m-> 2284\u001B[1;33m         formatter.write(\n\u001B[0m\u001B[0;32m   2285\u001B[0m             \u001B[0mexcel_writer\u001B[0m\u001B[1;33m,\u001B[0m\u001B[1;33m\u001B[0m\u001B[1;33m\u001B[0m\u001B[0m\n\u001B[0;32m   2286\u001B[0m             \u001B[0msheet_name\u001B[0m\u001B[1;33m=\u001B[0m\u001B[0msheet_name\u001B[0m\u001B[1;33m,\u001B[0m\u001B[1;33m\u001B[0m\u001B[1;33m\u001B[0m\u001B[0m\n",
      "\u001B[1;32m~\\PycharmProjects\\News_Scraping_Kampus_Merdeka\\venv\\lib\\site-packages\\pandas\\io\\formats\\excel.py\u001B[0m in \u001B[0;36mwrite\u001B[1;34m(self, writer, sheet_name, startrow, startcol, freeze_panes, engine, storage_options)\u001B[0m\n\u001B[0;32m    838\u001B[0m \u001B[1;33m\u001B[0m\u001B[0m\n\u001B[0;32m    839\u001B[0m         \u001B[1;32mtry\u001B[0m\u001B[1;33m:\u001B[0m\u001B[1;33m\u001B[0m\u001B[1;33m\u001B[0m\u001B[0m\n\u001B[1;32m--> 840\u001B[1;33m             writer.write_cells(\n\u001B[0m\u001B[0;32m    841\u001B[0m                 \u001B[0mformatted_cells\u001B[0m\u001B[1;33m,\u001B[0m\u001B[1;33m\u001B[0m\u001B[1;33m\u001B[0m\u001B[0m\n\u001B[0;32m    842\u001B[0m                 \u001B[0msheet_name\u001B[0m\u001B[1;33m,\u001B[0m\u001B[1;33m\u001B[0m\u001B[1;33m\u001B[0m\u001B[0m\n",
      "\u001B[1;32m~\\PycharmProjects\\News_Scraping_Kampus_Merdeka\\venv\\lib\\site-packages\\pandas\\io\\excel\\_openpyxl.py\u001B[0m in \u001B[0;36mwrite_cells\u001B[1;34m(self, cells, sheet_name, startrow, startcol, freeze_panes)\u001B[0m\n\u001B[0;32m    455\u001B[0m             )\n\u001B[0;32m    456\u001B[0m \u001B[1;33m\u001B[0m\u001B[0m\n\u001B[1;32m--> 457\u001B[1;33m         \u001B[1;32mfor\u001B[0m \u001B[0mcell\u001B[0m \u001B[1;32min\u001B[0m \u001B[0mcells\u001B[0m\u001B[1;33m:\u001B[0m\u001B[1;33m\u001B[0m\u001B[1;33m\u001B[0m\u001B[0m\n\u001B[0m\u001B[0;32m    458\u001B[0m             xcell = wks.cell(\n\u001B[0;32m    459\u001B[0m                 \u001B[0mrow\u001B[0m\u001B[1;33m=\u001B[0m\u001B[0mstartrow\u001B[0m \u001B[1;33m+\u001B[0m \u001B[0mcell\u001B[0m\u001B[1;33m.\u001B[0m\u001B[0mrow\u001B[0m \u001B[1;33m+\u001B[0m \u001B[1;36m1\u001B[0m\u001B[1;33m,\u001B[0m \u001B[0mcolumn\u001B[0m\u001B[1;33m=\u001B[0m\u001B[0mstartcol\u001B[0m \u001B[1;33m+\u001B[0m \u001B[0mcell\u001B[0m\u001B[1;33m.\u001B[0m\u001B[0mcol\u001B[0m \u001B[1;33m+\u001B[0m \u001B[1;36m1\u001B[0m\u001B[1;33m\u001B[0m\u001B[1;33m\u001B[0m\u001B[0m\n",
      "\u001B[1;32m~\\PycharmProjects\\News_Scraping_Kampus_Merdeka\\venv\\lib\\site-packages\\pandas\\io\\formats\\excel.py\u001B[0m in \u001B[0;36mget_formatted_cells\u001B[1;34m(self)\u001B[0m\n\u001B[0;32m    776\u001B[0m     \u001B[1;32mdef\u001B[0m \u001B[0mget_formatted_cells\u001B[0m\u001B[1;33m(\u001B[0m\u001B[0mself\u001B[0m\u001B[1;33m)\u001B[0m \u001B[1;33m->\u001B[0m \u001B[0mIterable\u001B[0m\u001B[1;33m[\u001B[0m\u001B[0mExcelCell\u001B[0m\u001B[1;33m]\u001B[0m\u001B[1;33m:\u001B[0m\u001B[1;33m\u001B[0m\u001B[1;33m\u001B[0m\u001B[0m\n\u001B[0;32m    777\u001B[0m         \u001B[1;32mfor\u001B[0m \u001B[0mcell\u001B[0m \u001B[1;32min\u001B[0m \u001B[0mitertools\u001B[0m\u001B[1;33m.\u001B[0m\u001B[0mchain\u001B[0m\u001B[1;33m(\u001B[0m\u001B[0mself\u001B[0m\u001B[1;33m.\u001B[0m\u001B[0m_format_header\u001B[0m\u001B[1;33m(\u001B[0m\u001B[1;33m)\u001B[0m\u001B[1;33m,\u001B[0m \u001B[0mself\u001B[0m\u001B[1;33m.\u001B[0m\u001B[0m_format_body\u001B[0m\u001B[1;33m(\u001B[0m\u001B[1;33m)\u001B[0m\u001B[1;33m)\u001B[0m\u001B[1;33m:\u001B[0m\u001B[1;33m\u001B[0m\u001B[1;33m\u001B[0m\u001B[0m\n\u001B[1;32m--> 778\u001B[1;33m             \u001B[0mcell\u001B[0m\u001B[1;33m.\u001B[0m\u001B[0mval\u001B[0m \u001B[1;33m=\u001B[0m \u001B[0mself\u001B[0m\u001B[1;33m.\u001B[0m\u001B[0m_format_value\u001B[0m\u001B[1;33m(\u001B[0m\u001B[0mcell\u001B[0m\u001B[1;33m.\u001B[0m\u001B[0mval\u001B[0m\u001B[1;33m)\u001B[0m\u001B[1;33m\u001B[0m\u001B[1;33m\u001B[0m\u001B[0m\n\u001B[0m\u001B[0;32m    779\u001B[0m             \u001B[1;32myield\u001B[0m \u001B[0mcell\u001B[0m\u001B[1;33m\u001B[0m\u001B[1;33m\u001B[0m\u001B[0m\n\u001B[0;32m    780\u001B[0m \u001B[1;33m\u001B[0m\u001B[0m\n",
      "\u001B[1;32m~\\PycharmProjects\\News_Scraping_Kampus_Merdeka\\venv\\lib\\site-packages\\pandas\\io\\formats\\excel.py\u001B[0m in \u001B[0;36m_format_value\u001B[1;34m(self, val)\u001B[0m\n\u001B[0;32m    524\u001B[0m                 \u001B[0mval\u001B[0m \u001B[1;33m=\u001B[0m \u001B[0mfloat\u001B[0m\u001B[1;33m(\u001B[0m\u001B[0mself\u001B[0m\u001B[1;33m.\u001B[0m\u001B[0mfloat_format\u001B[0m \u001B[1;33m%\u001B[0m \u001B[0mval\u001B[0m\u001B[1;33m)\u001B[0m\u001B[1;33m\u001B[0m\u001B[1;33m\u001B[0m\u001B[0m\n\u001B[0;32m    525\u001B[0m         \u001B[1;32mif\u001B[0m \u001B[0mgetattr\u001B[0m\u001B[1;33m(\u001B[0m\u001B[0mval\u001B[0m\u001B[1;33m,\u001B[0m \u001B[1;34m\"tzinfo\"\u001B[0m\u001B[1;33m,\u001B[0m \u001B[1;32mNone\u001B[0m\u001B[1;33m)\u001B[0m \u001B[1;32mis\u001B[0m \u001B[1;32mnot\u001B[0m \u001B[1;32mNone\u001B[0m\u001B[1;33m:\u001B[0m\u001B[1;33m\u001B[0m\u001B[1;33m\u001B[0m\u001B[0m\n\u001B[1;32m--> 526\u001B[1;33m             raise ValueError(\n\u001B[0m\u001B[0;32m    527\u001B[0m                 \u001B[1;34m\"Excel does not support datetimes with \"\u001B[0m\u001B[1;33m\u001B[0m\u001B[1;33m\u001B[0m\u001B[0m\n\u001B[0;32m    528\u001B[0m                 \u001B[1;34m\"timezones. Please ensure that datetimes \"\u001B[0m\u001B[1;33m\u001B[0m\u001B[1;33m\u001B[0m\u001B[0m\n",
      "\u001B[1;31mValueError\u001B[0m: Excel does not support datetimes with timezones. Please ensure that datetimes are timezone unaware before writing to Excel."
     ]
    }
   ],
   "source": [
    "df.to_excel(\"berita pos bloc.xlsx\")\n"
   ],
   "metadata": {
    "collapsed": false,
    "pycharm": {
     "name": "#%%\n"
    }
   }
  }
 ],
 "metadata": {
  "kernelspec": {
   "name": "pycharm-620d99ee",
   "language": "python",
   "display_name": "PyCharm (newsscrap)"
  },
  "language_info": {
   "codemirror_mode": {
    "name": "ipython",
    "version": 2
   },
   "file_extension": ".py",
   "mimetype": "text/x-python",
   "name": "python",
   "nbconvert_exporter": "python",
   "pygments_lexer": "ipython2",
   "version": "2.7.6"
  }
 },
 "nbformat": 4,
 "nbformat_minor": 0
}