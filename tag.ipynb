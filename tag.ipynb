{
 "cells": [
  {
   "cell_type": "code",
   "execution_count": 25,
   "outputs": [],
   "source": [
    "import pandas as pd\n",
    "from serpapi import GoogleSearch\n",
    "\n",
    "params = {\n",
    "  \"q\": \"Wahana Express\",\n",
    "  \"tbm\": \"nws\",\n",
    "  \"location\": \"Jakarta\",\n",
    "    \"hl\":\"id\",\n",
    "    \"num\":200,\n",
    "  \"api_key\": \"1c33c59f4cb1d26dd31598098acc27c528873a12c11c0f583d6cdcfec5fa6d1d\"\n",
    "}\n",
    "\n",
    "search = GoogleSearch(params)\n",
    "results = search.get_dict()\n",
    "news_results = results['news_results']\n"
   ],
   "metadata": {
    "collapsed": false,
    "pycharm": {
     "name": "#%%\n"
    }
   }
  },
  {
   "cell_type": "code",
   "execution_count": 26,
   "outputs": [
    {
     "data": {
      "text/plain": "   position                                               link  \\\n0         1  https://news.detik.com/berita/d-5765652/duh-ko...   \n1         2  https://www.suara.com/news/2021/05/21/195347/c...   \n2         3  https://www.viva.co.id/digital/digilife/139100...   \n3         4  https://mediakonsumen.com/2021/05/04/surat-pem...   \n4         5  https://mediakonsumen.com/2021/08/21/surat-pem...   \n\n                                               title          source  \\\n0  Duh! Kok Pencabutan Tiang Makan Jalan di Ciput...       detikNews   \n1            Cara Mengecek Cek Resi Wahana, Gampang!       Suara.com   \n2  2 Cara Cek Resi Wahana Express dengan Mudah da...            Viva   \n3  Pengiriman Menggunakan Wahana Express Mengecew...  Media Konsumen   \n4  Paket Diretur, Wahana Express Meminta Ongkir 2...  Media Konsumen   \n\n           date                                            snippet  \\\n0   15 jam lalu  Tangkil. 5. 1 buah di depan Kantor Sekretariat...   \n1   21 Mei 2021  Wahana Express telah memiliki layanan pengirim...   \n2   28 Jul 2021  Wahana Express merupakan salah satu perusahaan...   \n3    4 Mei 2021  Selamat siang Bpk/Ibu Yth Wahana Express. Mung...   \n4  1 bulan lalu  10 komentar untuk “Paket Diretur, Wahana Expre...   \n\n                                           thumbnail  \n0  https://serpapi.com/searches/616795291c450a350...  \n1  https://serpapi.com/searches/616795291c450a350...  \n2  https://serpapi.com/searches/616795291c450a350...  \n3  https://serpapi.com/searches/616795291c450a350...  \n4  https://serpapi.com/searches/616795291c450a350...  ",
      "text/html": "<div>\n<style scoped>\n    .dataframe tbody tr th:only-of-type {\n        vertical-align: middle;\n    }\n\n    .dataframe tbody tr th {\n        vertical-align: top;\n    }\n\n    .dataframe thead th {\n        text-align: right;\n    }\n</style>\n<table border=\"1\" class=\"dataframe\">\n  <thead>\n    <tr style=\"text-align: right;\">\n      <th></th>\n      <th>position</th>\n      <th>link</th>\n      <th>title</th>\n      <th>source</th>\n      <th>date</th>\n      <th>snippet</th>\n      <th>thumbnail</th>\n    </tr>\n  </thead>\n  <tbody>\n    <tr>\n      <th>0</th>\n      <td>1</td>\n      <td>https://news.detik.com/berita/d-5765652/duh-ko...</td>\n      <td>Duh! Kok Pencabutan Tiang Makan Jalan di Ciput...</td>\n      <td>detikNews</td>\n      <td>15 jam lalu</td>\n      <td>Tangkil. 5. 1 buah di depan Kantor Sekretariat...</td>\n      <td>https://serpapi.com/searches/616795291c450a350...</td>\n    </tr>\n    <tr>\n      <th>1</th>\n      <td>2</td>\n      <td>https://www.suara.com/news/2021/05/21/195347/c...</td>\n      <td>Cara Mengecek Cek Resi Wahana, Gampang!</td>\n      <td>Suara.com</td>\n      <td>21 Mei 2021</td>\n      <td>Wahana Express telah memiliki layanan pengirim...</td>\n      <td>https://serpapi.com/searches/616795291c450a350...</td>\n    </tr>\n    <tr>\n      <th>2</th>\n      <td>3</td>\n      <td>https://www.viva.co.id/digital/digilife/139100...</td>\n      <td>2 Cara Cek Resi Wahana Express dengan Mudah da...</td>\n      <td>Viva</td>\n      <td>28 Jul 2021</td>\n      <td>Wahana Express merupakan salah satu perusahaan...</td>\n      <td>https://serpapi.com/searches/616795291c450a350...</td>\n    </tr>\n    <tr>\n      <th>3</th>\n      <td>4</td>\n      <td>https://mediakonsumen.com/2021/05/04/surat-pem...</td>\n      <td>Pengiriman Menggunakan Wahana Express Mengecew...</td>\n      <td>Media Konsumen</td>\n      <td>4 Mei 2021</td>\n      <td>Selamat siang Bpk/Ibu Yth Wahana Express. Mung...</td>\n      <td>https://serpapi.com/searches/616795291c450a350...</td>\n    </tr>\n    <tr>\n      <th>4</th>\n      <td>5</td>\n      <td>https://mediakonsumen.com/2021/08/21/surat-pem...</td>\n      <td>Paket Diretur, Wahana Express Meminta Ongkir 2...</td>\n      <td>Media Konsumen</td>\n      <td>1 bulan lalu</td>\n      <td>10 komentar untuk “Paket Diretur, Wahana Expre...</td>\n      <td>https://serpapi.com/searches/616795291c450a350...</td>\n    </tr>\n  </tbody>\n</table>\n</div>"
     },
     "execution_count": 26,
     "metadata": {},
     "output_type": "execute_result"
    }
   ],
   "source": [
    "data = pd.DataFrame(news_results)\n",
    "data.head()"
   ],
   "metadata": {
    "collapsed": false,
    "pycharm": {
     "name": "#%%\n"
    }
   }
  },
  {
   "cell_type": "code",
   "execution_count": 27,
   "outputs": [],
   "source": [
    "import pandas as pd\n",
    "from serpapi import GoogleSearch\n",
    "\n",
    "params = {\n",
    "  \"q\": \"PT. Wahana Prestasi Logistik\",\n",
    "  \"tbm\": \"nws\",\n",
    "  \"location\": \"Jakarta\",\n",
    "    \"hl\":\"id\",\n",
    "    \"num\":350,\n",
    "  \"api_key\": \"1c33c59f4cb1d26dd31598098acc27c528873a12c11c0f583d6cdcfec5fa6d1d\"\n",
    "}\n",
    "\n",
    "search2 = GoogleSearch(params)\n",
    "results2 = search2.get_dict()\n",
    "news_results2 = results2['news_results']"
   ],
   "metadata": {
    "collapsed": false,
    "pycharm": {
     "name": "#%%\n"
    }
   }
  },
  {
   "cell_type": "code",
   "execution_count": 28,
   "outputs": [
    {
     "data": {
      "text/plain": "    position                                               link  \\\n0          1  https://mediakonsumen.com/2018/07/28/tanggapan...   \n1          2  https://mediakonsumen.com/2021/09/08/surat-pem...   \n2          3  https://ekonomi.bisnis.com/read/20210124/98/13...   \n3          4  https://news.detik.com/suara-pembaca/d-4167644...   \n4          5  https://mediakonsumen.com/2017/04/05/surat-pem...   \n..       ...                                                ...   \n95        96  https://megapolitan.kompas.com/read/2019/04/16...   \n96        97  https://akurat.co/suamiku-selingkuh-dengan-mar...   \n97        98  https://www.antaranews.com/berita/863639/hari-...   \n98        99  https://beritadewata.com/kecamatan-densel-awal...   \n99       100  https://akurat.co/terlihat-baik-ternyata-menik...   \n\n                                                title              source  \\\n0   Tanggapan PT. Wahana Prestasi Logistik atas Su...      Media Konsumen   \n1   Kiriman Wahana Belum Sampai, Saat Diminta Solu...      Media Konsumen   \n2   Tarif Sewa Gudang di Soetta Naik, Kemenhub Fas...  Ekonomi Bisnis.com   \n3     Paket Tak Kunjung Sampai, Kecewa Layanan Wahana           detikNews   \n4   Ekspedisi Wahana Sangat Mengecewakan dan Tidak...      Media Konsumen   \n..                                                ...                 ...   \n95  81 TPS Rawan di Bekasi, Punya Sejarah Konflik ...  kompas megapolitan   \n96  Suamiku Selingkuh Dengan Marketing Cantik Satu...           Akurat.co   \n97  Hari ini, Islamic Fair hingga pemutaran film \"...      Antaranews.com   \n98  Kecamatan Densel Awali Penilaian Ogoh-ogoh di ...       Berita Dewata   \n99  Terlihat Baik Ternyata Menikung, 7 Ciri Khas K...           Akurat.co   \n\n            date                                            snippet  \\\n0    28 Jul 2018  8 komentar untuk “Tanggapan PT. Wahana Prestas...   \n1   1 bulan lalu  Transfer ke rekening BCA KCP Veteran A/c : 501...   \n2    24 Jan 2021  Sementara itu, Direktur Utama PT Angkasa Pura ...   \n3    16 Agu 2018  Bersama ini kami PT Wahana Prestasi Logistik m...   \n4     5 Apr 2017  Tanggapan PT. Wahana Prestasi Logistik atas Su...   \n..           ...                                                ...   \n95   16 Apr 2019  Baca juga : Mulai Uji Coba Buka Wahana Bermain...   \n96   11 Sep 2020  Ternyata prestasi Dara memuaskan. Baru sebulan...   \n97   10 Mei 2019  Bazar makanan, pernak-pernik, dan wahana perma...   \n98   16 Mar 2020  Dimana, selain menjadi wahana kompetisi juga d...   \n99    9 Okt 2019  1. Terlihat rajin ketika ada atasan · 2. Inisi...   \n\n                                            thumbnail  \n0   https://serpapi.com/searches/61679560660dbd096...  \n1   https://serpapi.com/searches/61679560660dbd096...  \n2   https://serpapi.com/searches/61679560660dbd096...  \n3   https://serpapi.com/searches/61679560660dbd096...  \n4   https://serpapi.com/searches/61679560660dbd096...  \n..                                                ...  \n95  https://serpapi.com/searches/61679560660dbd096...  \n96  https://serpapi.com/searches/61679560660dbd096...  \n97  https://serpapi.com/searches/61679560660dbd096...  \n98  https://serpapi.com/searches/61679560660dbd096...  \n99  https://serpapi.com/searches/61679560660dbd096...  \n\n[100 rows x 7 columns]",
      "text/html": "<div>\n<style scoped>\n    .dataframe tbody tr th:only-of-type {\n        vertical-align: middle;\n    }\n\n    .dataframe tbody tr th {\n        vertical-align: top;\n    }\n\n    .dataframe thead th {\n        text-align: right;\n    }\n</style>\n<table border=\"1\" class=\"dataframe\">\n  <thead>\n    <tr style=\"text-align: right;\">\n      <th></th>\n      <th>position</th>\n      <th>link</th>\n      <th>title</th>\n      <th>source</th>\n      <th>date</th>\n      <th>snippet</th>\n      <th>thumbnail</th>\n    </tr>\n  </thead>\n  <tbody>\n    <tr>\n      <th>0</th>\n      <td>1</td>\n      <td>https://mediakonsumen.com/2018/07/28/tanggapan...</td>\n      <td>Tanggapan PT. Wahana Prestasi Logistik atas Su...</td>\n      <td>Media Konsumen</td>\n      <td>28 Jul 2018</td>\n      <td>8 komentar untuk “Tanggapan PT. Wahana Prestas...</td>\n      <td>https://serpapi.com/searches/61679560660dbd096...</td>\n    </tr>\n    <tr>\n      <th>1</th>\n      <td>2</td>\n      <td>https://mediakonsumen.com/2021/09/08/surat-pem...</td>\n      <td>Kiriman Wahana Belum Sampai, Saat Diminta Solu...</td>\n      <td>Media Konsumen</td>\n      <td>1 bulan lalu</td>\n      <td>Transfer ke rekening BCA KCP Veteran A/c : 501...</td>\n      <td>https://serpapi.com/searches/61679560660dbd096...</td>\n    </tr>\n    <tr>\n      <th>2</th>\n      <td>3</td>\n      <td>https://ekonomi.bisnis.com/read/20210124/98/13...</td>\n      <td>Tarif Sewa Gudang di Soetta Naik, Kemenhub Fas...</td>\n      <td>Ekonomi Bisnis.com</td>\n      <td>24 Jan 2021</td>\n      <td>Sementara itu, Direktur Utama PT Angkasa Pura ...</td>\n      <td>https://serpapi.com/searches/61679560660dbd096...</td>\n    </tr>\n    <tr>\n      <th>3</th>\n      <td>4</td>\n      <td>https://news.detik.com/suara-pembaca/d-4167644...</td>\n      <td>Paket Tak Kunjung Sampai, Kecewa Layanan Wahana</td>\n      <td>detikNews</td>\n      <td>16 Agu 2018</td>\n      <td>Bersama ini kami PT Wahana Prestasi Logistik m...</td>\n      <td>https://serpapi.com/searches/61679560660dbd096...</td>\n    </tr>\n    <tr>\n      <th>4</th>\n      <td>5</td>\n      <td>https://mediakonsumen.com/2017/04/05/surat-pem...</td>\n      <td>Ekspedisi Wahana Sangat Mengecewakan dan Tidak...</td>\n      <td>Media Konsumen</td>\n      <td>5 Apr 2017</td>\n      <td>Tanggapan PT. Wahana Prestasi Logistik atas Su...</td>\n      <td>https://serpapi.com/searches/61679560660dbd096...</td>\n    </tr>\n    <tr>\n      <th>...</th>\n      <td>...</td>\n      <td>...</td>\n      <td>...</td>\n      <td>...</td>\n      <td>...</td>\n      <td>...</td>\n      <td>...</td>\n    </tr>\n    <tr>\n      <th>95</th>\n      <td>96</td>\n      <td>https://megapolitan.kompas.com/read/2019/04/16...</td>\n      <td>81 TPS Rawan di Bekasi, Punya Sejarah Konflik ...</td>\n      <td>kompas megapolitan</td>\n      <td>16 Apr 2019</td>\n      <td>Baca juga : Mulai Uji Coba Buka Wahana Bermain...</td>\n      <td>https://serpapi.com/searches/61679560660dbd096...</td>\n    </tr>\n    <tr>\n      <th>96</th>\n      <td>97</td>\n      <td>https://akurat.co/suamiku-selingkuh-dengan-mar...</td>\n      <td>Suamiku Selingkuh Dengan Marketing Cantik Satu...</td>\n      <td>Akurat.co</td>\n      <td>11 Sep 2020</td>\n      <td>Ternyata prestasi Dara memuaskan. Baru sebulan...</td>\n      <td>https://serpapi.com/searches/61679560660dbd096...</td>\n    </tr>\n    <tr>\n      <th>97</th>\n      <td>98</td>\n      <td>https://www.antaranews.com/berita/863639/hari-...</td>\n      <td>Hari ini, Islamic Fair hingga pemutaran film \"...</td>\n      <td>Antaranews.com</td>\n      <td>10 Mei 2019</td>\n      <td>Bazar makanan, pernak-pernik, dan wahana perma...</td>\n      <td>https://serpapi.com/searches/61679560660dbd096...</td>\n    </tr>\n    <tr>\n      <th>98</th>\n      <td>99</td>\n      <td>https://beritadewata.com/kecamatan-densel-awal...</td>\n      <td>Kecamatan Densel Awali Penilaian Ogoh-ogoh di ...</td>\n      <td>Berita Dewata</td>\n      <td>16 Mar 2020</td>\n      <td>Dimana, selain menjadi wahana kompetisi juga d...</td>\n      <td>https://serpapi.com/searches/61679560660dbd096...</td>\n    </tr>\n    <tr>\n      <th>99</th>\n      <td>100</td>\n      <td>https://akurat.co/terlihat-baik-ternyata-menik...</td>\n      <td>Terlihat Baik Ternyata Menikung, 7 Ciri Khas K...</td>\n      <td>Akurat.co</td>\n      <td>9 Okt 2019</td>\n      <td>1. Terlihat rajin ketika ada atasan · 2. Inisi...</td>\n      <td>https://serpapi.com/searches/61679560660dbd096...</td>\n    </tr>\n  </tbody>\n</table>\n<p>100 rows × 7 columns</p>\n</div>"
     },
     "execution_count": 28,
     "metadata": {},
     "output_type": "execute_result"
    }
   ],
   "source": [
    "data2 = pd.DataFrame(news_results2)\n",
    "data2"
   ],
   "metadata": {
    "collapsed": false,
    "pycharm": {
     "name": "#%%\n"
    }
   }
  },
  {
   "cell_type": "code",
   "execution_count": 29,
   "outputs": [],
   "source": [
    "params = {\n",
    "  \"q\": \"kurir wahana\",\n",
    "  \"tbm\": \"nws\",\n",
    "  \"location\": \"Jakarta\",\n",
    "    \"hl\":\"id\",\n",
    "    \"num\":350,\n",
    "  \"api_key\": \"1c33c59f4cb1d26dd31598098acc27c528873a12c11c0f583d6cdcfec5fa6d1d\"\n",
    "}\n",
    "\n",
    "search3 = GoogleSearch(params)\n",
    "results3 = search3.get_dict()\n",
    "news_results3 = results3['news_results']"
   ],
   "metadata": {
    "collapsed": false,
    "pycharm": {
     "name": "#%%\n"
    }
   }
  },
  {
   "cell_type": "code",
   "execution_count": 30,
   "outputs": [
    {
     "data": {
      "text/plain": "   position                                               link  \\\n0         1  https://poskota.co.id/2021/10/07/yayasan-wahan...   \n1         2  https://megapolitan.kompas.com/read/2021/09/02...   \n2         3  https://metro.tempo.co/read/1499405/viral-pria...   \n3         4  https://mediakonsumen.com/2021/05/04/surat-pem...   \n4         5  https://www.suara.com/news/2021/05/21/195347/c...   \n\n                                               title              source  \\\n0  Dukung Potensi Anak Pengungsi Afganistan, Yaya...             Poskota   \n1  Paket yang Dibawa Kurir Wahana Dicuri, Polisi ...  kompas megapolitan   \n2  Viral Pria Berjaket Ojek Online Curi Paket Mil...      Metro Tempo.co   \n3  Pengiriman Menggunakan Wahana Express Mengecew...      Media Konsumen   \n4            Cara Mengecek Cek Resi Wahana, Gampang!           Suara.com   \n\n           date                                            snippet  \\\n0   6 hari lalu  ID - Yayasan Wahana Artha (YWA) mendukung pres...   \n1  1 bulan lalu  Paket yang Dibawa Kurir Wahana Dicuri, Polisi ...   \n2  1 bulan lalu  Korban diduga kurir dari perusahaan Wahana Exp...   \n3    4 Mei 2021  Selamat siang Bpk/Ibu Yth Wahana Express. Mung...   \n4   21 Mei 2021  Wahana juga telah melayani pengiriman paket se...   \n\n                                           thumbnail  \n0  https://serpapi.com/searches/61679573f55d77a0f...  \n1  https://serpapi.com/searches/61679573f55d77a0f...  \n2  https://serpapi.com/searches/61679573f55d77a0f...  \n3  https://serpapi.com/searches/61679573f55d77a0f...  \n4  https://serpapi.com/searches/61679573f55d77a0f...  ",
      "text/html": "<div>\n<style scoped>\n    .dataframe tbody tr th:only-of-type {\n        vertical-align: middle;\n    }\n\n    .dataframe tbody tr th {\n        vertical-align: top;\n    }\n\n    .dataframe thead th {\n        text-align: right;\n    }\n</style>\n<table border=\"1\" class=\"dataframe\">\n  <thead>\n    <tr style=\"text-align: right;\">\n      <th></th>\n      <th>position</th>\n      <th>link</th>\n      <th>title</th>\n      <th>source</th>\n      <th>date</th>\n      <th>snippet</th>\n      <th>thumbnail</th>\n    </tr>\n  </thead>\n  <tbody>\n    <tr>\n      <th>0</th>\n      <td>1</td>\n      <td>https://poskota.co.id/2021/10/07/yayasan-wahan...</td>\n      <td>Dukung Potensi Anak Pengungsi Afganistan, Yaya...</td>\n      <td>Poskota</td>\n      <td>6 hari lalu</td>\n      <td>ID - Yayasan Wahana Artha (YWA) mendukung pres...</td>\n      <td>https://serpapi.com/searches/61679573f55d77a0f...</td>\n    </tr>\n    <tr>\n      <th>1</th>\n      <td>2</td>\n      <td>https://megapolitan.kompas.com/read/2021/09/02...</td>\n      <td>Paket yang Dibawa Kurir Wahana Dicuri, Polisi ...</td>\n      <td>kompas megapolitan</td>\n      <td>1 bulan lalu</td>\n      <td>Paket yang Dibawa Kurir Wahana Dicuri, Polisi ...</td>\n      <td>https://serpapi.com/searches/61679573f55d77a0f...</td>\n    </tr>\n    <tr>\n      <th>2</th>\n      <td>3</td>\n      <td>https://metro.tempo.co/read/1499405/viral-pria...</td>\n      <td>Viral Pria Berjaket Ojek Online Curi Paket Mil...</td>\n      <td>Metro Tempo.co</td>\n      <td>1 bulan lalu</td>\n      <td>Korban diduga kurir dari perusahaan Wahana Exp...</td>\n      <td>https://serpapi.com/searches/61679573f55d77a0f...</td>\n    </tr>\n    <tr>\n      <th>3</th>\n      <td>4</td>\n      <td>https://mediakonsumen.com/2021/05/04/surat-pem...</td>\n      <td>Pengiriman Menggunakan Wahana Express Mengecew...</td>\n      <td>Media Konsumen</td>\n      <td>4 Mei 2021</td>\n      <td>Selamat siang Bpk/Ibu Yth Wahana Express. Mung...</td>\n      <td>https://serpapi.com/searches/61679573f55d77a0f...</td>\n    </tr>\n    <tr>\n      <th>4</th>\n      <td>5</td>\n      <td>https://www.suara.com/news/2021/05/21/195347/c...</td>\n      <td>Cara Mengecek Cek Resi Wahana, Gampang!</td>\n      <td>Suara.com</td>\n      <td>21 Mei 2021</td>\n      <td>Wahana juga telah melayani pengiriman paket se...</td>\n      <td>https://serpapi.com/searches/61679573f55d77a0f...</td>\n    </tr>\n  </tbody>\n</table>\n</div>"
     },
     "execution_count": 30,
     "metadata": {},
     "output_type": "execute_result"
    }
   ],
   "source": [
    "data3 = pd.DataFrame(news_results3)\n",
    "data3.head()\n"
   ],
   "metadata": {
    "collapsed": false,
    "pycharm": {
     "name": "#%%\n"
    }
   }
  },
  {
   "cell_type": "code",
   "execution_count": 31,
   "outputs": [],
   "source": [
    "new_data = pd.concat([data,data2,data3],ignore_index=True)"
   ],
   "metadata": {
    "collapsed": false,
    "pycharm": {
     "name": "#%%\n"
    }
   }
  },
  {
   "cell_type": "code",
   "execution_count": 33,
   "outputs": [],
   "source": [
    "new_data.drop_duplicates(subset='link',keep='first')\n",
    "new_data.to_excel(\"PT. Wahana Prestasi Logistik OR Wahana EXpress OR Kurir wahana.xlsx\")"
   ],
   "metadata": {
    "collapsed": false,
    "pycharm": {
     "name": "#%%\n"
    }
   }
  }
 ],
 "metadata": {
  "kernelspec": {
   "display_name": "Python 3",
   "language": "python",
   "name": "python3"
  },
  "language_info": {
   "codemirror_mode": {
    "name": "ipython",
    "version": 2
   },
   "file_extension": ".py",
   "mimetype": "text/x-python",
   "name": "python",
   "nbconvert_exporter": "python",
   "pygments_lexer": "ipython2",
   "version": "2.7.6"
  }
 },
 "nbformat": 4,
 "nbformat_minor": 0
}