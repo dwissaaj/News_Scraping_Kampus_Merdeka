{
 "cells": [
  {
   "cell_type": "code",
   "execution_count": 13,
   "metadata": {
    "collapsed": true,
    "pycharm": {
     "name": "#%%\n"
    }
   },
   "outputs": [],
   "source": [
    "month1 = 1\n",
    "year1 = 2021\n",
    "year2 = 2021\n",
    "month2 = 10\n",
    "from_day = 1\n",
    "to_day = 31\n",
    "params = {\n",
    "  \"tbm\":\"nws\",\n",
    "    \"q\":\"jne\",\n",
    "    \"location\":\"Jakarta\",\n",
    "    \"hl\":\"id\",\n",
    "    \"num\":15,\n",
    "    \"tbs\": f\"cdr:1,cd_min:{month1}/{from_day}/{year1},cd_max:{month2}/{to_day}/{year2}\",\n",
    "    \"api_key\": \"69b24ec3aa1e40f4dabf7440adeda63c70adba534a8e8581088661895957c22e\",\n",
    "\n",
    "}\n"
   ]
  },
  {
   "cell_type": "code",
   "execution_count": 14,
   "outputs": [
    {
     "data": {
      "text/plain": "{'search_metadata': {'id': '6184ee210f9866c4ce8100d0',\n  'status': 'Success',\n  'json_endpoint': 'https://serpapi.com/searches/a09a10035d2e7aa4/6184ee210f9866c4ce8100d0.json',\n  'created_at': '2021-11-05 08:41:05 UTC',\n  'processed_at': '2021-11-05 08:41:05 UTC',\n  'google_url': 'https://www.google.com/search?q=jne&oq=jne&uule=w+CAIQICIZSmFrYXJ0YSxKYWthcnRhLEluZG9uZXNpYQ&hl=id&num=15&tbm=nws&tbs=cdr:1,cd_min:1/1/2021,cd_max:10/31/2021&sourceid=chrome&ie=UTF-8',\n  'raw_html_file': 'https://serpapi.com/searches/a09a10035d2e7aa4/6184ee210f9866c4ce8100d0.html',\n  'total_time_taken': 3.06},\n 'search_parameters': {'engine': 'google',\n  'q': 'jne',\n  'location_requested': 'Jakarta',\n  'location_used': 'Jakarta,Jakarta,Indonesia',\n  'google_domain': 'google.com',\n  'hl': 'id',\n  'num': '15',\n  'device': 'desktop',\n  'tbm': 'nws',\n  'tbs': 'cdr:1,cd_min:1/1/2021,cd_max:10/31/2021'},\n 'search_information': {'news_results_state': 'Results for exact spelling',\n  'query_displayed': 'jne',\n  'total_results': 54900,\n  'time_taken_displayed': 0.36},\n 'news_results': [{'position': 1,\n   'link': 'https://ekonomi.bisnis.com/read/20210907/98/1439286/jne-31-tahun-ada-total-hadiah-rp10-juta-buat-pelanggan',\n   'title': 'JNE 31 Tahun, Ada Total Hadiah Rp10 Juta Buat Pelanggan',\n   'source': 'Ekonomi Bisnis.com',\n   'date': '7 Sep 2021',\n   'snippet': 'Presiden Direktur JNE M. Feriadi Soeprapto mengatakan sebagai sebuah \\nbisnis, JNE bukan hanya tentang pengiriman paket, namun dalam artian yang \\nlebih luas...',\n   'thumbnail': 'https://serpapi.com/searches/6184ee210f9866c4ce8100d0/images/b20f677a0f85636e5162aaa34934f5cfdd860282688c8effa95d34ddba555a08.jpeg'},\n  {'position': 2,\n   'link': 'https://semarang.bisnis.com/read/20210907/535/1439349/jne-deklarasikan-hari-bahagia-bersama',\n   'title': 'JNE Deklarasikan Hari Bahagia Bersama',\n   'source': 'Semarang',\n   'date': '7 Sep 2021',\n   'snippet': 'Acara tersebut dihadiri oleh Presiden Direktur JNE M. Feriadi Soeprapto, \\nMaman Suherman penulis buku dan penggiat literasi, Muhammad “MICE” Misrad \\nkartunis,...',\n   'thumbnail': 'https://serpapi.com/searches/6184ee210f9866c4ce8100d0/images/b20f677a0f85636eeec8094511064dff646d24a97241fb2585306a08663e8ff5.jpeg'},\n  {'position': 3,\n   'link': 'https://bangka.tribunnews.com/2021/09/07/jne-deklarasikan-hari-bahagia-bersama-sekaligus-peluncuran-buku',\n   'title': 'JNE Deklarasikan Hari Bahagia Bersama Sekaligus Peluncuran Buku',\n   'source': 'Bangkapos.com',\n   'date': '7 Sep 2021',\n   'snippet': 'Acara ini dihadiri oleh M. Feriadi Soeprapto selaku Presiden Direktur JNE, \\nMaman Suherman Penulis dan Penggiat Literasi, Muhammad \"MICE\" Misrad \\nkartunis, Andy F...',\n   'thumbnail': 'https://serpapi.com/searches/6184ee210f9866c4ce8100d0/images/b20f677a0f85636e702a2bf03e8c49b7c5a9767269bac60812ab8e1900bf4b43.jpeg'},\n  {'position': 4,\n   'link': 'https://www.radioidola.com/2021/jne-dan-pegadaian-perluas-akses-layanan/',\n   'title': 'JNE dan Pegadaian Perluas Akses Layanan',\n   'source': 'Radio Idola Semarang',\n   'date': '1 minggu lalu',\n   'snippet': 'Presiden Direktur JNE Muhammad Feriadi (kiri) bersama Dirut Pegadaian \\nKuswiyono berfoto bersama usai penandatanganan kerja sama. Semarang, Idola \\n92,6 FM – Dalam...',\n   'thumbnail': 'https://serpapi.com/searches/6184ee210f9866c4ce8100d0/images/b20f677a0f85636ee08b0d796eeb805bb0f73b439ebbf0c3101c31ca06674c16.jpeg'},\n  {'position': 5,\n   'link': 'https://jateng.antaranews.com/berita/411941/pegadaian-gandeng-jne-untuk-perluas-akses-masyarakat-terhadap-produk-dan-layanan',\n   'title': 'Pegadaian gandeng JNE untuk perluas akses masyarakat terhadap produk dan layanan',\n   'source': 'ANTARA Jateng',\n   'date': '1 minggu lalu',\n   'snippet': 'Semarang (ANTARA) - PT Pegadaian menggandeng PT Tiki Jalur Nugraha Ekakurir \\n(JNE) untuk memperluas jaringan keagenan pemasaran dan penjualan produk \\nmaupun...',\n   'thumbnail': 'https://serpapi.com/searches/6184ee210f9866c4ce8100d0/images/b20f677a0f85636ee29c17e0595f427eb37b4c52fb64a2c31df3ea5999dedc9c.jpeg'},\n  {'position': 6,\n   'link': 'https://money.kompas.com/read/2021/05/07/083612926/jne-tetap-beroperasi-saat-libur-lebaran',\n   'title': 'JNE Tetap Beroperasi Saat Libur Lebaran - Kompas.com',\n   'source': 'Money Kompas.com',\n   'date': '7 Mei 2021',\n   'snippet': 'JAKARTA, KOMPAS.com - PT Tiki Jalur Nugraha Ekakurir (JNE), perusahaan yang \\nbergerak dalam bidang pengiriman dan logistik memastikan akan tetap \\nberoperasi...',\n   'thumbnail': 'https://serpapi.com/searches/6184ee210f9866c4ce8100d0/images/b20f677a0f85636e31006f41a753bafcaec2531c553e028de57bafc34517ac27.jpeg'},\n  {'position': 7,\n   'link': 'https://kastara.id/16/03/2021/gabung-program-jne-x-dewa-selling-cod-jadi-lebih-mudah/',\n   'title': 'Gabung Program JNE X Dewa Selling, COD Jadi Lebih Mudah',\n   'source': 'Kastara.id',\n   'date': '16 Mar 2021',\n   'snippet': 'Oleh karena itu JNE dan Dewa Selling menghadirkan layanan PakeCOD.com yaitu \\nfitur yang memudahkan para pelaku usaha dalam menggunakan layanan COD (Cash \\nOn...',\n   'thumbnail': 'https://serpapi.com/searches/6184ee210f9866c4ce8100d0/images/b20f677a0f85636e4576b492514d5f272b0c5df351c925cb03b7924f0b2a1e08.jpeg'},\n  {'position': 8,\n   'link': 'https://ekonomi.bisnis.com/read/20210510/98/1392658/pos-indonesia-dan-jne-tetap-beroperasi-selama-libur-lebaran-2021',\n   'title': 'Pos Indonesia dan JNE Tetap Beroperasi Selama Libur Lebaran 2021',\n   'source': 'Ekonomi Bisnis.com',\n   'date': '10 Mei 2021',\n   'snippet': 'Ada beberapa ekspedisi pengiriman barang diantaranya Pos Indonesia dan JNE \\ntetap beroperasi selama libur Lebaran. Yuliana Hema - Bisnis.com 10 Mei \\n2021 | 16:55...',\n   'thumbnail': 'https://serpapi.com/searches/6184ee210f9866c4ce8100d0/images/b20f677a0f85636ec60d6c489ce13321c7deb7040c23cf68d911aa92505b78cc.jpeg'},\n  {'position': 9,\n   'link': 'https://www.liputan6.com/regional/read/4495091/truk-jne-di-dalam-kapal-feri-pelabuhan-bakauheni-terbakar-bagaimana-nasib-paket',\n   'title': 'Truk JNE di Dalam Kapal Feri Pelabuhan Bakauheni Terbakar, Bagaimana Nasib Paket?',\n   'source': 'Liputan6.com',\n   'date': '1 Mar 2021',\n   'snippet': 'Tidak ada korban jiwa dalam peristiwa kebakaran itu, namun, kata Saiful, \\nbanyak barang ekspedisi paket JNE yang tidak bisa diselamatkan. \"Kami belum \\ntahu...',\n   'thumbnail': 'https://serpapi.com/searches/6184ee210f9866c4ce8100d0/images/b20f677a0f85636e14c496806fbf33c5101e78215ec5159f5164aea8f72069ac.jpeg'},\n  {'position': 10,\n   'link': 'https://newssetup.kontan.co.id/news/paketmu-akan-tetap-dikirim-ini-jadwal-operasional-jne-pos-indonesia-saat-lebaran?page=all',\n   'title': 'Paketmu akan tetap dikirim, ini jadwal operasional JNE & Pos ...',\n   'source': 'NewsSetup',\n   'date': '11 Mei 2021',\n   'snippet': 'Presiden Direktur PT Jalur Nugraha Ekakuri (JNE) Muhammad Feriadi \\nmemastikan JNE akan tetap melayani pengiriman barang selama libur \\nlebaran,...',\n   'thumbnail': 'https://serpapi.com/searches/6184ee210f9866c4ce8100d0/images/b20f677a0f85636e7a5202c8ea63a618b2fe364684540f7609fb956246626310.jpeg'},\n  {'position': 11,\n   'link': 'https://www.kompas.com/tren/read/2021/03/03/133600265/truk-pengiriman-jne-terbakar-di-lampung-bagaimana-nasib-paket-yang-dibawa-?page=all',\n   'title': 'Truk Pengiriman JNE Terbakar di Lampung, Bagaimana Nasib Paket yang Dibawa? - Kompas.com',\n   'source': 'Kompas.com',\n   'date': '3 Mar 2021',\n   'snippet': '\"Setidaknya, sekitar 25 persen paket dalam truk ekspedisi perusahaan JNE \\nitu hangus terbakar.\" ps: Untungnya tidak ada korban jiwa karena sempat \\ndipadamkan. dan...',\n   'thumbnail': 'https://serpapi.com/searches/6184ee210f9866c4ce8100d0/images/b20f677a0f85636ea82bbb322eb1153e86800225b74a5e41ffa26f7c5e6f1aa4.jpeg'},\n  {'position': 12,\n   'link': 'https://kastara.id/10/04/2021/jne-gratiskan-pengiriman-bantuan-ke-ntt-dan-renovasi-lima-tempat-ibadah/',\n   'title': 'JNE Gratiskan Pengiriman Bantuan ke NTT dan Renovasi Lima Tempat Ibadah',\n   'source': 'Kastara.id',\n   'date': '10 Apr 2021',\n   'snippet': 'Peristiwa ini menggugah JNE untuk turut berkontribusi dalam memberikan \\nbantuan, sesuai dengan kapabilitas yang dimiliki, melalui Program JNE \\nPeduli Bencana...',\n   'thumbnail': 'https://serpapi.com/searches/6184ee210f9866c4ce8100d0/images/b20f677a0f85636e5388d1f5d5a2b99a49107b271e5f54bc5b4a80eaf132a681.jpeg'},\n  {'position': 13,\n   'link': 'https://money.kompas.com/read/2021/05/12/144243426/ini-daftar-agen-jne-yang-tetap-buka-24-jam-di-libur-lebaran?page=all',\n   'title': 'Ini Daftar Agen JNE yang Tetap Buka 24 Jam di Libur Lebaran - Kompas.com',\n   'source': 'Money Kompas.com',\n   'date': '12 Mei 2021',\n   'snippet': 'JNE Bogor (Kantor Cabang Utama): Jl Karadenan No 100 Desa Pasir Jambu, \\nSukaraja · JNE Soleh Iskandar: Jl Sholeh Iskandar Ruko 16 No A1 · JNE \\nSudirman: Jl Jend...',\n   'thumbnail': 'https://serpapi.com/searches/6184ee210f9866c4ce8100d0/images/b20f677a0f85636e666daf868be57e7a835532862a52ce276c53a9f9537fb83c.jpeg'},\n  {'position': 14,\n   'link': 'https://tekno.sindonews.com/read/307900/123/jne-gratiskan-kiriman-bantuan-ke-lokasi-bencana-kaltim-sumedang-dan-mamuju-1611129713',\n   'title': 'JNE Gratiskan Kiriman Bantuan ke Lokasi Bencana Kaltim, Sumedang, dan Mamuju',\n   'source': 'Teknologi',\n   'date': '20 Jan 2021',\n   'snippet': 'Pengiriman bantuan bencana alam ini dapat disalurkan melalui Posko Bencana \\nKantor Cabang Utama JNE di seluruh Indonesia. Barang-barang bantuan ini \\nakan...',\n   'thumbnail': 'https://serpapi.com/searches/6184ee210f9866c4ce8100d0/images/b20f677a0f85636e0769126ef8aa5443359a134ea89ef2690b2cd936a63861a4.jpeg'},\n  {'position': 15,\n   'link': 'https://ekonomi.bisnis.com/read/20210416/98/1382251/jne-pengiriman-barang-naik-30-persen-jelang-idulfitri',\n   'title': 'JNE: Pengiriman Barang Naik 30 Persen Jelang Idulfitri',\n   'source': 'Ekonomi Bisnis.com',\n   'date': '16 Apr 2021',\n   'snippet': 'Bisnis.com, JAKARTA - Perusahaan logistik PT Tiki Jalur Nugraha Ekakurir \\n(JNE) optimistis peningkatan jumlah pengiriman barang pada periode Ramadan \\ndan...',\n   'thumbnail': 'https://serpapi.com/searches/6184ee210f9866c4ce8100d0/images/b20f677a0f85636e6626dbb3073668da10b57e675dfbe712e5b0bbca55015d12.jpeg'}],\n 'pagination': {'current': 1,\n  'next': 'https://www.google.com/search?q=jne&num=15&hl=id&tbs=cdr:1,cd_min:1/1/2021,cd_max:10/31/2021&tbm=nws&ei=I-6EYci2DZ_YytMPgMqYsA4&start=15&sa=N&ved=2ahUKEwiI1MPV6YD0AhUfrHIEHQAlBuYQ8NMDegQIARBO',\n  'other_pages': {'2': 'https://www.google.com/search?q=jne&num=15&hl=id&tbs=cdr:1,cd_min:1/1/2021,cd_max:10/31/2021&tbm=nws&ei=I-6EYci2DZ_YytMPgMqYsA4&start=15&sa=N&ved=2ahUKEwiI1MPV6YD0AhUfrHIEHQAlBuYQ8tMDegQIARA8',\n   '3': 'https://www.google.com/search?q=jne&num=15&hl=id&tbs=cdr:1,cd_min:1/1/2021,cd_max:10/31/2021&tbm=nws&ei=I-6EYci2DZ_YytMPgMqYsA4&start=30&sa=N&ved=2ahUKEwiI1MPV6YD0AhUfrHIEHQAlBuYQ8tMDegQIARA-',\n   '4': 'https://www.google.com/search?q=jne&num=15&hl=id&tbs=cdr:1,cd_min:1/1/2021,cd_max:10/31/2021&tbm=nws&ei=I-6EYci2DZ_YytMPgMqYsA4&start=45&sa=N&ved=2ahUKEwiI1MPV6YD0AhUfrHIEHQAlBuYQ8tMDegQIARBA',\n   '5': 'https://www.google.com/search?q=jne&num=15&hl=id&tbs=cdr:1,cd_min:1/1/2021,cd_max:10/31/2021&tbm=nws&ei=I-6EYci2DZ_YytMPgMqYsA4&start=60&sa=N&ved=2ahUKEwiI1MPV6YD0AhUfrHIEHQAlBuYQ8tMDegQIARBC',\n   '6': 'https://www.google.com/search?q=jne&num=15&hl=id&tbs=cdr:1,cd_min:1/1/2021,cd_max:10/31/2021&tbm=nws&ei=I-6EYci2DZ_YytMPgMqYsA4&start=75&sa=N&ved=2ahUKEwiI1MPV6YD0AhUfrHIEHQAlBuYQ8tMDegQIARBE',\n   '7': 'https://www.google.com/search?q=jne&num=15&hl=id&tbs=cdr:1,cd_min:1/1/2021,cd_max:10/31/2021&tbm=nws&ei=I-6EYci2DZ_YytMPgMqYsA4&start=90&sa=N&ved=2ahUKEwiI1MPV6YD0AhUfrHIEHQAlBuYQ8tMDegQIARBG',\n   '8': 'https://www.google.com/search?q=jne&num=15&hl=id&tbs=cdr:1,cd_min:1/1/2021,cd_max:10/31/2021&tbm=nws&ei=I-6EYci2DZ_YytMPgMqYsA4&start=105&sa=N&ved=2ahUKEwiI1MPV6YD0AhUfrHIEHQAlBuYQ8tMDegQIARBI',\n   '9': 'https://www.google.com/search?q=jne&num=15&hl=id&tbs=cdr:1,cd_min:1/1/2021,cd_max:10/31/2021&tbm=nws&ei=I-6EYci2DZ_YytMPgMqYsA4&start=120&sa=N&ved=2ahUKEwiI1MPV6YD0AhUfrHIEHQAlBuYQ8tMDegQIARBK',\n   '10': 'https://www.google.com/search?q=jne&num=15&hl=id&tbs=cdr:1,cd_min:1/1/2021,cd_max:10/31/2021&tbm=nws&ei=I-6EYci2DZ_YytMPgMqYsA4&start=135&sa=N&ved=2ahUKEwiI1MPV6YD0AhUfrHIEHQAlBuYQ8tMDegQIARBM'}},\n 'serpapi_pagination': {'current': 1,\n  'next_link': 'https://serpapi.com/search.json?device=desktop&engine=google&google_domain=google.com&hl=id&location=Jakarta&num=15&q=jne&start=15&tbm=nws&tbs=cdr%3A1%2Ccd_min%3A1%2F1%2F2021%2Ccd_max%3A10%2F31%2F2021',\n  'next': 'https://serpapi.com/search.json?device=desktop&engine=google&google_domain=google.com&hl=id&location=Jakarta&num=15&q=jne&start=15&tbm=nws&tbs=cdr%3A1%2Ccd_min%3A1%2F1%2F2021%2Ccd_max%3A10%2F31%2F2021',\n  'other_pages': {'2': 'https://serpapi.com/search.json?device=desktop&engine=google&google_domain=google.com&hl=id&location=Jakarta&num=15&q=jne&start=15&tbm=nws&tbs=cdr%3A1%2Ccd_min%3A1%2F1%2F2021%2Ccd_max%3A10%2F31%2F2021',\n   '3': 'https://serpapi.com/search.json?device=desktop&engine=google&google_domain=google.com&hl=id&location=Jakarta&num=15&q=jne&start=30&tbm=nws&tbs=cdr%3A1%2Ccd_min%3A1%2F1%2F2021%2Ccd_max%3A10%2F31%2F2021',\n   '4': 'https://serpapi.com/search.json?device=desktop&engine=google&google_domain=google.com&hl=id&location=Jakarta&num=15&q=jne&start=45&tbm=nws&tbs=cdr%3A1%2Ccd_min%3A1%2F1%2F2021%2Ccd_max%3A10%2F31%2F2021',\n   '5': 'https://serpapi.com/search.json?device=desktop&engine=google&google_domain=google.com&hl=id&location=Jakarta&num=15&q=jne&start=60&tbm=nws&tbs=cdr%3A1%2Ccd_min%3A1%2F1%2F2021%2Ccd_max%3A10%2F31%2F2021',\n   '6': 'https://serpapi.com/search.json?device=desktop&engine=google&google_domain=google.com&hl=id&location=Jakarta&num=15&q=jne&start=75&tbm=nws&tbs=cdr%3A1%2Ccd_min%3A1%2F1%2F2021%2Ccd_max%3A10%2F31%2F2021',\n   '7': 'https://serpapi.com/search.json?device=desktop&engine=google&google_domain=google.com&hl=id&location=Jakarta&num=15&q=jne&start=90&tbm=nws&tbs=cdr%3A1%2Ccd_min%3A1%2F1%2F2021%2Ccd_max%3A10%2F31%2F2021',\n   '8': 'https://serpapi.com/search.json?device=desktop&engine=google&google_domain=google.com&hl=id&location=Jakarta&num=15&q=jne&start=105&tbm=nws&tbs=cdr%3A1%2Ccd_min%3A1%2F1%2F2021%2Ccd_max%3A10%2F31%2F2021',\n   '9': 'https://serpapi.com/search.json?device=desktop&engine=google&google_domain=google.com&hl=id&location=Jakarta&num=15&q=jne&start=120&tbm=nws&tbs=cdr%3A1%2Ccd_min%3A1%2F1%2F2021%2Ccd_max%3A10%2F31%2F2021',\n   '10': 'https://serpapi.com/search.json?device=desktop&engine=google&google_domain=google.com&hl=id&location=Jakarta&num=15&q=jne&start=135&tbm=nws&tbs=cdr%3A1%2Ccd_min%3A1%2F1%2F2021%2Ccd_max%3A10%2F31%2F2021'}}}"
     },
     "execution_count": 14,
     "metadata": {},
     "output_type": "execute_result"
    }
   ],
   "source": [
    "from serpapi import GoogleSearch\n",
    "search = GoogleSearch(params)\n",
    "result = search.get_dict()\n",
    "result"
   ],
   "metadata": {
    "collapsed": false,
    "pycharm": {
     "name": "#%%\n"
    }
   }
  },
  {
   "cell_type": "code",
   "execution_count": 15,
   "outputs": [
    {
     "data": {
      "text/plain": "[{'position': 1,\n  'link': 'https://ekonomi.bisnis.com/read/20210907/98/1439286/jne-31-tahun-ada-total-hadiah-rp10-juta-buat-pelanggan',\n  'title': 'JNE 31 Tahun, Ada Total Hadiah Rp10 Juta Buat Pelanggan',\n  'source': 'Ekonomi Bisnis.com',\n  'date': '7 Sep 2021',\n  'snippet': 'Presiden Direktur JNE M. Feriadi Soeprapto mengatakan sebagai sebuah \\nbisnis, JNE bukan hanya tentang pengiriman paket, namun dalam artian yang \\nlebih luas...',\n  'thumbnail': 'https://serpapi.com/searches/6184ee210f9866c4ce8100d0/images/b20f677a0f85636e5162aaa34934f5cfdd860282688c8effa95d34ddba555a08.jpeg'},\n {'position': 2,\n  'link': 'https://semarang.bisnis.com/read/20210907/535/1439349/jne-deklarasikan-hari-bahagia-bersama',\n  'title': 'JNE Deklarasikan Hari Bahagia Bersama',\n  'source': 'Semarang',\n  'date': '7 Sep 2021',\n  'snippet': 'Acara tersebut dihadiri oleh Presiden Direktur JNE M. Feriadi Soeprapto, \\nMaman Suherman penulis buku dan penggiat literasi, Muhammad “MICE” Misrad \\nkartunis,...',\n  'thumbnail': 'https://serpapi.com/searches/6184ee210f9866c4ce8100d0/images/b20f677a0f85636eeec8094511064dff646d24a97241fb2585306a08663e8ff5.jpeg'},\n {'position': 3,\n  'link': 'https://bangka.tribunnews.com/2021/09/07/jne-deklarasikan-hari-bahagia-bersama-sekaligus-peluncuran-buku',\n  'title': 'JNE Deklarasikan Hari Bahagia Bersama Sekaligus Peluncuran Buku',\n  'source': 'Bangkapos.com',\n  'date': '7 Sep 2021',\n  'snippet': 'Acara ini dihadiri oleh M. Feriadi Soeprapto selaku Presiden Direktur JNE, \\nMaman Suherman Penulis dan Penggiat Literasi, Muhammad \"MICE\" Misrad \\nkartunis, Andy F...',\n  'thumbnail': 'https://serpapi.com/searches/6184ee210f9866c4ce8100d0/images/b20f677a0f85636e702a2bf03e8c49b7c5a9767269bac60812ab8e1900bf4b43.jpeg'},\n {'position': 4,\n  'link': 'https://www.radioidola.com/2021/jne-dan-pegadaian-perluas-akses-layanan/',\n  'title': 'JNE dan Pegadaian Perluas Akses Layanan',\n  'source': 'Radio Idola Semarang',\n  'date': '1 minggu lalu',\n  'snippet': 'Presiden Direktur JNE Muhammad Feriadi (kiri) bersama Dirut Pegadaian \\nKuswiyono berfoto bersama usai penandatanganan kerja sama. Semarang, Idola \\n92,6 FM – Dalam...',\n  'thumbnail': 'https://serpapi.com/searches/6184ee210f9866c4ce8100d0/images/b20f677a0f85636ee08b0d796eeb805bb0f73b439ebbf0c3101c31ca06674c16.jpeg'},\n {'position': 5,\n  'link': 'https://jateng.antaranews.com/berita/411941/pegadaian-gandeng-jne-untuk-perluas-akses-masyarakat-terhadap-produk-dan-layanan',\n  'title': 'Pegadaian gandeng JNE untuk perluas akses masyarakat terhadap produk dan layanan',\n  'source': 'ANTARA Jateng',\n  'date': '1 minggu lalu',\n  'snippet': 'Semarang (ANTARA) - PT Pegadaian menggandeng PT Tiki Jalur Nugraha Ekakurir \\n(JNE) untuk memperluas jaringan keagenan pemasaran dan penjualan produk \\nmaupun...',\n  'thumbnail': 'https://serpapi.com/searches/6184ee210f9866c4ce8100d0/images/b20f677a0f85636ee29c17e0595f427eb37b4c52fb64a2c31df3ea5999dedc9c.jpeg'},\n {'position': 6,\n  'link': 'https://money.kompas.com/read/2021/05/07/083612926/jne-tetap-beroperasi-saat-libur-lebaran',\n  'title': 'JNE Tetap Beroperasi Saat Libur Lebaran - Kompas.com',\n  'source': 'Money Kompas.com',\n  'date': '7 Mei 2021',\n  'snippet': 'JAKARTA, KOMPAS.com - PT Tiki Jalur Nugraha Ekakurir (JNE), perusahaan yang \\nbergerak dalam bidang pengiriman dan logistik memastikan akan tetap \\nberoperasi...',\n  'thumbnail': 'https://serpapi.com/searches/6184ee210f9866c4ce8100d0/images/b20f677a0f85636e31006f41a753bafcaec2531c553e028de57bafc34517ac27.jpeg'},\n {'position': 7,\n  'link': 'https://kastara.id/16/03/2021/gabung-program-jne-x-dewa-selling-cod-jadi-lebih-mudah/',\n  'title': 'Gabung Program JNE X Dewa Selling, COD Jadi Lebih Mudah',\n  'source': 'Kastara.id',\n  'date': '16 Mar 2021',\n  'snippet': 'Oleh karena itu JNE dan Dewa Selling menghadirkan layanan PakeCOD.com yaitu \\nfitur yang memudahkan para pelaku usaha dalam menggunakan layanan COD (Cash \\nOn...',\n  'thumbnail': 'https://serpapi.com/searches/6184ee210f9866c4ce8100d0/images/b20f677a0f85636e4576b492514d5f272b0c5df351c925cb03b7924f0b2a1e08.jpeg'},\n {'position': 8,\n  'link': 'https://ekonomi.bisnis.com/read/20210510/98/1392658/pos-indonesia-dan-jne-tetap-beroperasi-selama-libur-lebaran-2021',\n  'title': 'Pos Indonesia dan JNE Tetap Beroperasi Selama Libur Lebaran 2021',\n  'source': 'Ekonomi Bisnis.com',\n  'date': '10 Mei 2021',\n  'snippet': 'Ada beberapa ekspedisi pengiriman barang diantaranya Pos Indonesia dan JNE \\ntetap beroperasi selama libur Lebaran. Yuliana Hema - Bisnis.com 10 Mei \\n2021 | 16:55...',\n  'thumbnail': 'https://serpapi.com/searches/6184ee210f9866c4ce8100d0/images/b20f677a0f85636ec60d6c489ce13321c7deb7040c23cf68d911aa92505b78cc.jpeg'},\n {'position': 9,\n  'link': 'https://www.liputan6.com/regional/read/4495091/truk-jne-di-dalam-kapal-feri-pelabuhan-bakauheni-terbakar-bagaimana-nasib-paket',\n  'title': 'Truk JNE di Dalam Kapal Feri Pelabuhan Bakauheni Terbakar, Bagaimana Nasib Paket?',\n  'source': 'Liputan6.com',\n  'date': '1 Mar 2021',\n  'snippet': 'Tidak ada korban jiwa dalam peristiwa kebakaran itu, namun, kata Saiful, \\nbanyak barang ekspedisi paket JNE yang tidak bisa diselamatkan. \"Kami belum \\ntahu...',\n  'thumbnail': 'https://serpapi.com/searches/6184ee210f9866c4ce8100d0/images/b20f677a0f85636e14c496806fbf33c5101e78215ec5159f5164aea8f72069ac.jpeg'},\n {'position': 10,\n  'link': 'https://newssetup.kontan.co.id/news/paketmu-akan-tetap-dikirim-ini-jadwal-operasional-jne-pos-indonesia-saat-lebaran?page=all',\n  'title': 'Paketmu akan tetap dikirim, ini jadwal operasional JNE & Pos ...',\n  'source': 'NewsSetup',\n  'date': '11 Mei 2021',\n  'snippet': 'Presiden Direktur PT Jalur Nugraha Ekakuri (JNE) Muhammad Feriadi \\nmemastikan JNE akan tetap melayani pengiriman barang selama libur \\nlebaran,...',\n  'thumbnail': 'https://serpapi.com/searches/6184ee210f9866c4ce8100d0/images/b20f677a0f85636e7a5202c8ea63a618b2fe364684540f7609fb956246626310.jpeg'},\n {'position': 11,\n  'link': 'https://www.kompas.com/tren/read/2021/03/03/133600265/truk-pengiriman-jne-terbakar-di-lampung-bagaimana-nasib-paket-yang-dibawa-?page=all',\n  'title': 'Truk Pengiriman JNE Terbakar di Lampung, Bagaimana Nasib Paket yang Dibawa? - Kompas.com',\n  'source': 'Kompas.com',\n  'date': '3 Mar 2021',\n  'snippet': '\"Setidaknya, sekitar 25 persen paket dalam truk ekspedisi perusahaan JNE \\nitu hangus terbakar.\" ps: Untungnya tidak ada korban jiwa karena sempat \\ndipadamkan. dan...',\n  'thumbnail': 'https://serpapi.com/searches/6184ee210f9866c4ce8100d0/images/b20f677a0f85636ea82bbb322eb1153e86800225b74a5e41ffa26f7c5e6f1aa4.jpeg'},\n {'position': 12,\n  'link': 'https://kastara.id/10/04/2021/jne-gratiskan-pengiriman-bantuan-ke-ntt-dan-renovasi-lima-tempat-ibadah/',\n  'title': 'JNE Gratiskan Pengiriman Bantuan ke NTT dan Renovasi Lima Tempat Ibadah',\n  'source': 'Kastara.id',\n  'date': '10 Apr 2021',\n  'snippet': 'Peristiwa ini menggugah JNE untuk turut berkontribusi dalam memberikan \\nbantuan, sesuai dengan kapabilitas yang dimiliki, melalui Program JNE \\nPeduli Bencana...',\n  'thumbnail': 'https://serpapi.com/searches/6184ee210f9866c4ce8100d0/images/b20f677a0f85636e5388d1f5d5a2b99a49107b271e5f54bc5b4a80eaf132a681.jpeg'},\n {'position': 13,\n  'link': 'https://money.kompas.com/read/2021/05/12/144243426/ini-daftar-agen-jne-yang-tetap-buka-24-jam-di-libur-lebaran?page=all',\n  'title': 'Ini Daftar Agen JNE yang Tetap Buka 24 Jam di Libur Lebaran - Kompas.com',\n  'source': 'Money Kompas.com',\n  'date': '12 Mei 2021',\n  'snippet': 'JNE Bogor (Kantor Cabang Utama): Jl Karadenan No 100 Desa Pasir Jambu, \\nSukaraja · JNE Soleh Iskandar: Jl Sholeh Iskandar Ruko 16 No A1 · JNE \\nSudirman: Jl Jend...',\n  'thumbnail': 'https://serpapi.com/searches/6184ee210f9866c4ce8100d0/images/b20f677a0f85636e666daf868be57e7a835532862a52ce276c53a9f9537fb83c.jpeg'},\n {'position': 14,\n  'link': 'https://tekno.sindonews.com/read/307900/123/jne-gratiskan-kiriman-bantuan-ke-lokasi-bencana-kaltim-sumedang-dan-mamuju-1611129713',\n  'title': 'JNE Gratiskan Kiriman Bantuan ke Lokasi Bencana Kaltim, Sumedang, dan Mamuju',\n  'source': 'Teknologi',\n  'date': '20 Jan 2021',\n  'snippet': 'Pengiriman bantuan bencana alam ini dapat disalurkan melalui Posko Bencana \\nKantor Cabang Utama JNE di seluruh Indonesia. Barang-barang bantuan ini \\nakan...',\n  'thumbnail': 'https://serpapi.com/searches/6184ee210f9866c4ce8100d0/images/b20f677a0f85636e0769126ef8aa5443359a134ea89ef2690b2cd936a63861a4.jpeg'},\n {'position': 15,\n  'link': 'https://ekonomi.bisnis.com/read/20210416/98/1382251/jne-pengiriman-barang-naik-30-persen-jelang-idulfitri',\n  'title': 'JNE: Pengiriman Barang Naik 30 Persen Jelang Idulfitri',\n  'source': 'Ekonomi Bisnis.com',\n  'date': '16 Apr 2021',\n  'snippet': 'Bisnis.com, JAKARTA - Perusahaan logistik PT Tiki Jalur Nugraha Ekakurir \\n(JNE) optimistis peningkatan jumlah pengiriman barang pada periode Ramadan \\ndan...',\n  'thumbnail': 'https://serpapi.com/searches/6184ee210f9866c4ce8100d0/images/b20f677a0f85636e6626dbb3073668da10b57e675dfbe712e5b0bbca55015d12.jpeg'}]"
     },
     "execution_count": 15,
     "metadata": {},
     "output_type": "execute_result"
    }
   ],
   "source": [
    "news = result['news_results']\n",
    "news"
   ],
   "metadata": {
    "collapsed": false,
    "pycharm": {
     "name": "#%%\n"
    }
   }
  },
  {
   "cell_type": "code",
   "execution_count": 16,
   "outputs": [
    {
     "data": {
      "text/plain": "                                                 link\n0   https://ekonomi.bisnis.com/read/20210907/98/14...\n1   https://semarang.bisnis.com/read/20210907/535/...\n2   https://bangka.tribunnews.com/2021/09/07/jne-d...\n3   https://www.radioidola.com/2021/jne-dan-pegada...\n4   https://jateng.antaranews.com/berita/411941/pe...\n5   https://money.kompas.com/read/2021/05/07/08361...\n6   https://kastara.id/16/03/2021/gabung-program-j...\n7   https://ekonomi.bisnis.com/read/20210510/98/13...\n8   https://www.liputan6.com/regional/read/4495091...\n9   https://newssetup.kontan.co.id/news/paketmu-ak...\n10  https://www.kompas.com/tren/read/2021/03/03/13...\n11  https://kastara.id/10/04/2021/jne-gratiskan-pe...\n12  https://money.kompas.com/read/2021/05/12/14424...\n13  https://tekno.sindonews.com/read/307900/123/jn...\n14  https://ekonomi.bisnis.com/read/20210416/98/13...",
      "text/html": "<div>\n<style scoped>\n    .dataframe tbody tr th:only-of-type {\n        vertical-align: middle;\n    }\n\n    .dataframe tbody tr th {\n        vertical-align: top;\n    }\n\n    .dataframe thead th {\n        text-align: right;\n    }\n</style>\n<table border=\"1\" class=\"dataframe\">\n  <thead>\n    <tr style=\"text-align: right;\">\n      <th></th>\n      <th>link</th>\n    </tr>\n  </thead>\n  <tbody>\n    <tr>\n      <th>0</th>\n      <td>https://ekonomi.bisnis.com/read/20210907/98/14...</td>\n    </tr>\n    <tr>\n      <th>1</th>\n      <td>https://semarang.bisnis.com/read/20210907/535/...</td>\n    </tr>\n    <tr>\n      <th>2</th>\n      <td>https://bangka.tribunnews.com/2021/09/07/jne-d...</td>\n    </tr>\n    <tr>\n      <th>3</th>\n      <td>https://www.radioidola.com/2021/jne-dan-pegada...</td>\n    </tr>\n    <tr>\n      <th>4</th>\n      <td>https://jateng.antaranews.com/berita/411941/pe...</td>\n    </tr>\n    <tr>\n      <th>5</th>\n      <td>https://money.kompas.com/read/2021/05/07/08361...</td>\n    </tr>\n    <tr>\n      <th>6</th>\n      <td>https://kastara.id/16/03/2021/gabung-program-j...</td>\n    </tr>\n    <tr>\n      <th>7</th>\n      <td>https://ekonomi.bisnis.com/read/20210510/98/13...</td>\n    </tr>\n    <tr>\n      <th>8</th>\n      <td>https://www.liputan6.com/regional/read/4495091...</td>\n    </tr>\n    <tr>\n      <th>9</th>\n      <td>https://newssetup.kontan.co.id/news/paketmu-ak...</td>\n    </tr>\n    <tr>\n      <th>10</th>\n      <td>https://www.kompas.com/tren/read/2021/03/03/13...</td>\n    </tr>\n    <tr>\n      <th>11</th>\n      <td>https://kastara.id/10/04/2021/jne-gratiskan-pe...</td>\n    </tr>\n    <tr>\n      <th>12</th>\n      <td>https://money.kompas.com/read/2021/05/12/14424...</td>\n    </tr>\n    <tr>\n      <th>13</th>\n      <td>https://tekno.sindonews.com/read/307900/123/jn...</td>\n    </tr>\n    <tr>\n      <th>14</th>\n      <td>https://ekonomi.bisnis.com/read/20210416/98/13...</td>\n    </tr>\n  </tbody>\n</table>\n</div>"
     },
     "execution_count": 16,
     "metadata": {},
     "output_type": "execute_result"
    }
   ],
   "source": [
    "import pandas as pd\n",
    "\n",
    "\n",
    "link = []\n",
    "\n",
    "for data in news:\n",
    "  link.append(data.get('link'))\n",
    "\n",
    "df = pd.DataFrame({'link':link})\n",
    "df\n"
   ],
   "metadata": {
    "collapsed": false,
    "pycharm": {
     "name": "#%%\n"
    }
   }
  },
  {
   "cell_type": "code",
   "execution_count": 17,
   "outputs": [
    {
     "data": {
      "text/plain": "['https://ekonomi.bisnis.com/read/20210907/98/1439286/jne-31-tahun-ada-total-hadiah-rp10-juta-buat-pelanggan',\n 'https://semarang.bisnis.com/read/20210907/535/1439349/jne-deklarasikan-hari-bahagia-bersama',\n 'https://bangka.tribunnews.com/2021/09/07/jne-deklarasikan-hari-bahagia-bersama-sekaligus-peluncuran-buku',\n 'https://www.radioidola.com/2021/jne-dan-pegadaian-perluas-akses-layanan/',\n 'https://jateng.antaranews.com/berita/411941/pegadaian-gandeng-jne-untuk-perluas-akses-masyarakat-terhadap-produk-dan-layanan',\n 'https://money.kompas.com/read/2021/05/07/083612926/jne-tetap-beroperasi-saat-libur-lebaran',\n 'https://kastara.id/16/03/2021/gabung-program-jne-x-dewa-selling-cod-jadi-lebih-mudah/',\n 'https://ekonomi.bisnis.com/read/20210510/98/1392658/pos-indonesia-dan-jne-tetap-beroperasi-selama-libur-lebaran-2021',\n 'https://www.liputan6.com/regional/read/4495091/truk-jne-di-dalam-kapal-feri-pelabuhan-bakauheni-terbakar-bagaimana-nasib-paket',\n 'https://newssetup.kontan.co.id/news/paketmu-akan-tetap-dikirim-ini-jadwal-operasional-jne-pos-indonesia-saat-lebaran?page=all',\n 'https://www.kompas.com/tren/read/2021/03/03/133600265/truk-pengiriman-jne-terbakar-di-lampung-bagaimana-nasib-paket-yang-dibawa-?page=all',\n 'https://kastara.id/10/04/2021/jne-gratiskan-pengiriman-bantuan-ke-ntt-dan-renovasi-lima-tempat-ibadah/',\n 'https://money.kompas.com/read/2021/05/12/144243426/ini-daftar-agen-jne-yang-tetap-buka-24-jam-di-libur-lebaran?page=all',\n 'https://tekno.sindonews.com/read/307900/123/jne-gratiskan-kiriman-bantuan-ke-lokasi-bencana-kaltim-sumedang-dan-mamuju-1611129713',\n 'https://ekonomi.bisnis.com/read/20210416/98/1382251/jne-pengiriman-barang-naik-30-persen-jelang-idulfitri']"
     },
     "execution_count": 17,
     "metadata": {},
     "output_type": "execute_result"
    }
   ],
   "source": [
    "urls = df['link'].to_list()\n",
    "urls"
   ],
   "metadata": {
    "collapsed": false,
    "pycharm": {
     "name": "#%%\n"
    }
   }
  },
  {
   "cell_type": "code",
   "execution_count": 18,
   "outputs": [
    {
     "name": "stdout",
     "output_type": "stream",
     "text": [
      "Article `download()` failed with 403 Client Error: Forbidden for url: https://ekonomi.bisnis.com/read/20210907/98/1439286/jne-31-tahun-ada-total-hadiah-rp10-juta-buat-pelanggan on URL https://ekonomi.bisnis.com/read/20210907/98/1439286/jne-31-tahun-ada-total-hadiah-rp10-juta-buat-pelanggan\n",
      "Article `download()` failed with 403 Client Error: Forbidden for url: https://semarang.bisnis.com/read/20210907/535/1439349/jne-deklarasikan-hari-bahagia-bersama on URL https://semarang.bisnis.com/read/20210907/535/1439349/jne-deklarasikan-hari-bahagia-bersama\n",
      "Article `download()` failed with 403 Client Error: Forbidden for url: https://ekonomi.bisnis.com/read/20210510/98/1392658/pos-indonesia-dan-jne-tetap-beroperasi-selama-libur-lebaran-2021 on URL https://ekonomi.bisnis.com/read/20210510/98/1392658/pos-indonesia-dan-jne-tetap-beroperasi-selama-libur-lebaran-2021\n",
      "Article `download()` failed with 403 Client Error: Forbidden for url: https://ekonomi.bisnis.com/read/20210416/98/1382251/jne-pengiriman-barang-naik-30-persen-jelang-idulfitri on URL https://ekonomi.bisnis.com/read/20210416/98/1382251/jne-pengiriman-barang-naik-30-persen-jelang-idulfitri\n"
     ]
    },
    {
     "data": {
      "text/plain": "             penulis tanggal additional  \\\n0  [Danang Arradian]    None         {}   \n\n                                              berita  \\\n0  loading...\\n\\nProgram JNE Peduli Bencana menga...   \n\n                                                tags  \\\n0  {jne peduli bencana, # pesawat hercules, jne, ...   \n\n                                               judul kata  \n0  JNE Gratiskan Kiriman Bantuan ke Lokasi Bencan...   []  ",
      "text/html": "<div>\n<style scoped>\n    .dataframe tbody tr th:only-of-type {\n        vertical-align: middle;\n    }\n\n    .dataframe tbody tr th {\n        vertical-align: top;\n    }\n\n    .dataframe thead th {\n        text-align: right;\n    }\n</style>\n<table border=\"1\" class=\"dataframe\">\n  <thead>\n    <tr style=\"text-align: right;\">\n      <th></th>\n      <th>penulis</th>\n      <th>tanggal</th>\n      <th>additional</th>\n      <th>berita</th>\n      <th>tags</th>\n      <th>judul</th>\n      <th>kata</th>\n    </tr>\n  </thead>\n  <tbody>\n    <tr>\n      <th>0</th>\n      <td>[Danang Arradian]</td>\n      <td>None</td>\n      <td>{}</td>\n      <td>loading...\\n\\nProgram JNE Peduli Bencana menga...</td>\n      <td>{jne peduli bencana, # pesawat hercules, jne, ...</td>\n      <td>JNE Gratiskan Kiriman Bantuan ke Lokasi Bencan...</td>\n      <td>[]</td>\n    </tr>\n  </tbody>\n</table>\n</div>"
     },
     "execution_count": 18,
     "metadata": {},
     "output_type": "execute_result"
    }
   ],
   "source": [
    "import pandas as pd\n",
    "import newspaper\n",
    "from newspaper import Article\n",
    "data = []\n",
    "for url in urls:\n",
    "    try:\n",
    "        a = Article(url, language='id')\n",
    "        a.download()\n",
    "        a.parse()\n",
    "\n",
    "    except newspaper.ArticleException as e:\n",
    "        print(e)\n",
    "\n",
    "    else:\n",
    "        author = a.authors\n",
    "        dates = a.publish_date\n",
    "        add_data = a.additional_data\n",
    "        text = a.text\n",
    "        tag = a.tags\n",
    "        title = a.title\n",
    "        keywords = a.keywords\n",
    "\n",
    "\n",
    "        new_df = pd.DataFrame({'penulis':[author],'tanggal':[dates],'additional':[add_data],'berita':[text],'tags':[tag],'judul':[title],'kata':[keywords]})\n",
    "        data.append(new_df)\n",
    "\n",
    "new_df"
   ],
   "metadata": {
    "collapsed": false,
    "pycharm": {
     "name": "#%%\n"
    }
   }
  },
  {
   "cell_type": "code",
   "execution_count": 18,
   "outputs": [],
   "source": [],
   "metadata": {
    "collapsed": false,
    "pycharm": {
     "name": "#%%\n"
    }
   }
  }
 ],
 "metadata": {
  "kernelspec": {
   "display_name": "Python 3",
   "language": "python",
   "name": "python3"
  },
  "language_info": {
   "codemirror_mode": {
    "name": "ipython",
    "version": 2
   },
   "file_extension": ".py",
   "mimetype": "text/x-python",
   "name": "python",
   "nbconvert_exporter": "python",
   "pygments_lexer": "ipython2",
   "version": "2.7.6"
  }
 },
 "nbformat": 4,
 "nbformat_minor": 0
}