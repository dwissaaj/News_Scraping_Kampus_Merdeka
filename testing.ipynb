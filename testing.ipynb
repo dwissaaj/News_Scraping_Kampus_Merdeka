{
 "cells": [
  {
   "cell_type": "code",
   "execution_count": 24,
   "outputs": [
    {
     "name": "stdout",
     "output_type": "stream",
     "text": [
      "Raw HTML: https://serpapi.com/searches/9d4bb7073554b7ec/6180d222cace962a95468b0a.html\n",
      "JSON endpoint: https://serpapi.com/searches/9d4bb7073554b7ec/6180d222cace962a95468b0a.json\n",
      "\n",
      "News results\n",
      "\n",
      "Title: Kudus Alami Ledakan Kasus Aktif Covid-19, Apa ...\n",
      "Snippet: Pemerintah Kabupaten Kudus menyebut, ledakan kasus Covid-19 yang menimpa \n",
      "Kudus ... (Baca: Provinsi dengan Kepatuhan Jaga Jarak Tertinggi di \n",
      "Indonesia...\n",
      "Date: Jun 13, 2021\n",
      "\n",
      "\n",
      "Title: Terus Bertambah, Vaksinasi Covid-19 Indonesia Tembus 40,3 ...\n",
      "Snippet: Berdasarkan data kawalcovid19.id, pemerintah telah menyuntikkan sekitar \n",
      "40,3 juta dosis vaksin Covid-19 ke seluruh Indonesia hingga Minggu, 27 Juni \n",
      "2021.\n",
      "Date: Jun 28, 2021\n",
      "\n",
      "\n",
      "Title: Perkembangan Terkini Covid-19 di Indonesia: Total Kasus ...\n",
      "Snippet: Pemerintah melaporkan kasus Covid-19 di Indonesia bertambah 45.416 kasus \n",
      "pada Sabtu (24/7). Dengan begitu, total kasusnya menjadi 3.127.826 kasus.\n",
      "Date: Jul 24, 2021\n",
      "\n",
      "\n",
      "Title: Rumitnya Vaksinasi Covid-19 di Indonesia\n",
      "Snippet: Rumitnya Vaksinasi Covid-19 di Indonesia. Vaksinasi tenaga kesehatan \n",
      "menemui terkendala karena belum semua tenaga kesehatan terdaftar. Selain \n",
      "itu, banyak yang...\n",
      "Date: Feb 3, 2021\n",
      "\n",
      "\n",
      "Title: Adu Balap Covid-19 Malaysia dan Indonesia\n",
      "Snippet: Malaysia dan Indonesia adalah dua negara dengan peningkatan kasus baru \n",
      "Covid-19 tertinggi di Asia Tenggara. Keduanya mengalami penambahan hingga \n",
      "lebih dari...\n",
      "Date: May 29, 2021\n",
      "\n",
      "\n",
      "Title: Satgas Waspadai Gelombang Ketiga Covid-19 di Indonesia\n",
      "Snippet: Juru Bicara Satgas Covid-19 Wiku Adisasmito mengatakan, secara historis, \n",
      "kasus corona RI memuncak pada saat peralihan antar gelombang corona dunia. \n",
      "Sedangkan...\n",
      "Date: 1 month ago\n",
      "\n",
      "\n",
      "Title: Kasus Covid-19 Indonesia Tembus 1 Juta\n",
      "Snippet: Indonesia pun masuk jajaran 20 besar sebagai negara dengan kasus Covid-19 \n",
      "tertinggi di dunia. Presiden Joko Widodo meminta Menteri Kesehatan Budi \n",
      "Gunadi Sadikin...\n",
      "Date: Jan 27, 2021\n",
      "\n",
      "\n",
      "Title: Mengurai Masalah Ketimpangan Vaksinasi Covid-19 di ...\n",
      "Snippet: Mengurai Masalah Ketimpangan Vaksinasi Covid-19 di Indonesia. Dimas Jarot \n",
      "Bayu. 28 Juli 2021, 12.28. Joshua Siringo Ringo/ Ilustrasi/ Katadata.\n",
      "Date: Jul 28, 2021\n",
      "\n",
      "\n",
      "Title: Rekor 38.391 Kasus Baru, Indonesia Di Ambang Skenario Terburuk Covid\n",
      "Snippet: Secara total, jumlah kasus Covid-19 di Indonesia mencapai 2.417.788 orang. \n",
      "Kementerian Kesehatan juga melaporkan tambahan angka kematian pasien corona \n",
      "sebanyak...\n",
      "Date: Jul 8, 2021\n",
      "\n",
      "\n",
      "Title: Kemenkes Klaim Covid-19 Varian Mu Belum Masuk Indonesia\n",
      "Snippet: Berdasarkan hasil sekuensing terhadap 5.835 sampel Kementerian Kesehatan \n",
      "menegaskan bahwa Covid-19 varian Mu belum masuk ke Indonesia. icon whatsapp \n",
      "icon line.\n",
      "Date: 1 month ago\n",
      "\n"
     ]
    }
   ],
   "source": [
    "import pandas as pd\n",
    "from serpapi import GoogleSearch\n",
    "import os\n",
    "\n",
    "month1 = 10\n",
    "month2 = 10\n",
    "year1 = 2020\n",
    "year2 = 2021\n",
    "from_day = 1\n",
    "to_day = 31\n",
    "\n",
    "params = {\n",
    "    \"engine\": \"google\",\n",
    "    \"q\": \"Katadata covid indonesia\",\n",
    "    \"google_domain\": \"google.com\",\n",
    "    \"tbm\": \"nws\",\n",
    "    \"num\":150,\n",
    "    \"tbs\": f\"cdr:1,cd_min:{month1}/{from_day}/{year1},cd_max:{month2}/{to_day}/{year2}\",\n",
    "    \"api_key\": \"69b24ec3aa1e40f4dabf7440adeda63c70adba534a8e8581088661895957c22e\",\n",
    "}\n",
    "\n",
    "client = GoogleSearch(params)\n",
    "data = client.get_dict()\n",
    "\n",
    "print(f\"Raw HTML: {data['search_metadata']['raw_html_file']}\")\n",
    "print(f\"JSON endpoint: {data['search_metadata']['json_endpoint']}\")\n",
    "print()\n",
    "\n",
    "print(\"News results\")\n",
    "\n",
    "for result in data['news_results']:\n",
    "    print(f\"\"\"\n",
    "Title: {result['title']}\n",
    "Snippet: {result['snippet']}\n",
    "Date: {result['date']}\n",
    "\"\"\")"
   ],
   "metadata": {
    "collapsed": false,
    "pycharm": {
     "name": "#%%\n"
    }
   }
  },
  {
   "cell_type": "code",
   "execution_count": 25,
   "outputs": [],
   "source": [
    "import pandas as pd\n",
    "new = pd.DataFrame(data['news_results'])\n",
    "new.to_html(\"new data.xlsx\")"
   ],
   "metadata": {
    "collapsed": false,
    "pycharm": {
     "name": "#%%\n"
    }
   }
  }
 ],
 "metadata": {
  "kernelspec": {
   "display_name": "Python 3",
   "language": "python",
   "name": "python3"
  },
  "language_info": {
   "codemirror_mode": {
    "name": "ipython",
    "version": 2
   },
   "file_extension": ".py",
   "mimetype": "text/x-python",
   "name": "python",
   "nbconvert_exporter": "python",
   "pygments_lexer": "ipython2",
   "version": "2.7.6"
  }
 },
 "nbformat": 4,
 "nbformat_minor": 0
}